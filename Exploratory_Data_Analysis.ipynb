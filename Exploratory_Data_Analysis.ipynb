{
  "nbformat": 4,
  "nbformat_minor": 0,
  "metadata": {
    "colab": {
      "provenance": []
    },
    "kernelspec": {
      "name": "python3",
      "display_name": "Python 3"
    },
    "language_info": {
      "name": "python"
    },
    "widgets": {
      "application/vnd.jupyter.widget-state+json": {
        "87cdafe76c4448e88e23c20f566bd98f": {
          "model_module": "@jupyter-widgets/controls",
          "model_name": "HBoxModel",
          "model_module_version": "1.5.0",
          "state": {
            "_dom_classes": [],
            "_model_module": "@jupyter-widgets/controls",
            "_model_module_version": "1.5.0",
            "_model_name": "HBoxModel",
            "_view_count": null,
            "_view_module": "@jupyter-widgets/controls",
            "_view_module_version": "1.5.0",
            "_view_name": "HBoxView",
            "box_style": "",
            "children": [
              "IPY_MODEL_78b0d68aaf364fb6b713103fb7c04ee9",
              "IPY_MODEL_82e86db65d0045cc9c64371a3baaf971",
              "IPY_MODEL_1925b0edb2064bf694291bd9e8c3fcd2"
            ],
            "layout": "IPY_MODEL_97624c2d9f79482e9f36a3cadb9a2d07"
          }
        },
        "78b0d68aaf364fb6b713103fb7c04ee9": {
          "model_module": "@jupyter-widgets/controls",
          "model_name": "HTMLModel",
          "model_module_version": "1.5.0",
          "state": {
            "_dom_classes": [],
            "_model_module": "@jupyter-widgets/controls",
            "_model_module_version": "1.5.0",
            "_model_name": "HTMLModel",
            "_view_count": null,
            "_view_module": "@jupyter-widgets/controls",
            "_view_module_version": "1.5.0",
            "_view_name": "HTMLView",
            "description": "",
            "description_tooltip": null,
            "layout": "IPY_MODEL_700ee337c60a4b068c83a279f66b84ce",
            "placeholder": "​",
            "style": "IPY_MODEL_ae785123df9a4da4ab600a5614614b77",
            "value": "README.md: 100%"
          }
        },
        "82e86db65d0045cc9c64371a3baaf971": {
          "model_module": "@jupyter-widgets/controls",
          "model_name": "FloatProgressModel",
          "model_module_version": "1.5.0",
          "state": {
            "_dom_classes": [],
            "_model_module": "@jupyter-widgets/controls",
            "_model_module_version": "1.5.0",
            "_model_name": "FloatProgressModel",
            "_view_count": null,
            "_view_module": "@jupyter-widgets/controls",
            "_view_module_version": "1.5.0",
            "_view_name": "ProgressView",
            "bar_style": "success",
            "description": "",
            "description_tooltip": null,
            "layout": "IPY_MODEL_4ac85e7eb1994d248e8724595f8a5591",
            "max": 268,
            "min": 0,
            "orientation": "horizontal",
            "style": "IPY_MODEL_a8329e17c6014724a2b5c5d119d179f3",
            "value": 268
          }
        },
        "1925b0edb2064bf694291bd9e8c3fcd2": {
          "model_module": "@jupyter-widgets/controls",
          "model_name": "HTMLModel",
          "model_module_version": "1.5.0",
          "state": {
            "_dom_classes": [],
            "_model_module": "@jupyter-widgets/controls",
            "_model_module_version": "1.5.0",
            "_model_name": "HTMLModel",
            "_view_count": null,
            "_view_module": "@jupyter-widgets/controls",
            "_view_module_version": "1.5.0",
            "_view_name": "HTMLView",
            "description": "",
            "description_tooltip": null,
            "layout": "IPY_MODEL_0b731622d39b44be893137275a77ed87",
            "placeholder": "​",
            "style": "IPY_MODEL_b57958aea05e4c45bf9fceeb7b9ff5d1",
            "value": " 268/268 [00:00&lt;00:00, 11.5kB/s]"
          }
        },
        "97624c2d9f79482e9f36a3cadb9a2d07": {
          "model_module": "@jupyter-widgets/base",
          "model_name": "LayoutModel",
          "model_module_version": "1.2.0",
          "state": {
            "_model_module": "@jupyter-widgets/base",
            "_model_module_version": "1.2.0",
            "_model_name": "LayoutModel",
            "_view_count": null,
            "_view_module": "@jupyter-widgets/base",
            "_view_module_version": "1.2.0",
            "_view_name": "LayoutView",
            "align_content": null,
            "align_items": null,
            "align_self": null,
            "border": null,
            "bottom": null,
            "display": null,
            "flex": null,
            "flex_flow": null,
            "grid_area": null,
            "grid_auto_columns": null,
            "grid_auto_flow": null,
            "grid_auto_rows": null,
            "grid_column": null,
            "grid_gap": null,
            "grid_row": null,
            "grid_template_areas": null,
            "grid_template_columns": null,
            "grid_template_rows": null,
            "height": null,
            "justify_content": null,
            "justify_items": null,
            "left": null,
            "margin": null,
            "max_height": null,
            "max_width": null,
            "min_height": null,
            "min_width": null,
            "object_fit": null,
            "object_position": null,
            "order": null,
            "overflow": null,
            "overflow_x": null,
            "overflow_y": null,
            "padding": null,
            "right": null,
            "top": null,
            "visibility": null,
            "width": null
          }
        },
        "700ee337c60a4b068c83a279f66b84ce": {
          "model_module": "@jupyter-widgets/base",
          "model_name": "LayoutModel",
          "model_module_version": "1.2.0",
          "state": {
            "_model_module": "@jupyter-widgets/base",
            "_model_module_version": "1.2.0",
            "_model_name": "LayoutModel",
            "_view_count": null,
            "_view_module": "@jupyter-widgets/base",
            "_view_module_version": "1.2.0",
            "_view_name": "LayoutView",
            "align_content": null,
            "align_items": null,
            "align_self": null,
            "border": null,
            "bottom": null,
            "display": null,
            "flex": null,
            "flex_flow": null,
            "grid_area": null,
            "grid_auto_columns": null,
            "grid_auto_flow": null,
            "grid_auto_rows": null,
            "grid_column": null,
            "grid_gap": null,
            "grid_row": null,
            "grid_template_areas": null,
            "grid_template_columns": null,
            "grid_template_rows": null,
            "height": null,
            "justify_content": null,
            "justify_items": null,
            "left": null,
            "margin": null,
            "max_height": null,
            "max_width": null,
            "min_height": null,
            "min_width": null,
            "object_fit": null,
            "object_position": null,
            "order": null,
            "overflow": null,
            "overflow_x": null,
            "overflow_y": null,
            "padding": null,
            "right": null,
            "top": null,
            "visibility": null,
            "width": null
          }
        },
        "ae785123df9a4da4ab600a5614614b77": {
          "model_module": "@jupyter-widgets/controls",
          "model_name": "DescriptionStyleModel",
          "model_module_version": "1.5.0",
          "state": {
            "_model_module": "@jupyter-widgets/controls",
            "_model_module_version": "1.5.0",
            "_model_name": "DescriptionStyleModel",
            "_view_count": null,
            "_view_module": "@jupyter-widgets/base",
            "_view_module_version": "1.2.0",
            "_view_name": "StyleView",
            "description_width": ""
          }
        },
        "4ac85e7eb1994d248e8724595f8a5591": {
          "model_module": "@jupyter-widgets/base",
          "model_name": "LayoutModel",
          "model_module_version": "1.2.0",
          "state": {
            "_model_module": "@jupyter-widgets/base",
            "_model_module_version": "1.2.0",
            "_model_name": "LayoutModel",
            "_view_count": null,
            "_view_module": "@jupyter-widgets/base",
            "_view_module_version": "1.2.0",
            "_view_name": "LayoutView",
            "align_content": null,
            "align_items": null,
            "align_self": null,
            "border": null,
            "bottom": null,
            "display": null,
            "flex": null,
            "flex_flow": null,
            "grid_area": null,
            "grid_auto_columns": null,
            "grid_auto_flow": null,
            "grid_auto_rows": null,
            "grid_column": null,
            "grid_gap": null,
            "grid_row": null,
            "grid_template_areas": null,
            "grid_template_columns": null,
            "grid_template_rows": null,
            "height": null,
            "justify_content": null,
            "justify_items": null,
            "left": null,
            "margin": null,
            "max_height": null,
            "max_width": null,
            "min_height": null,
            "min_width": null,
            "object_fit": null,
            "object_position": null,
            "order": null,
            "overflow": null,
            "overflow_x": null,
            "overflow_y": null,
            "padding": null,
            "right": null,
            "top": null,
            "visibility": null,
            "width": null
          }
        },
        "a8329e17c6014724a2b5c5d119d179f3": {
          "model_module": "@jupyter-widgets/controls",
          "model_name": "ProgressStyleModel",
          "model_module_version": "1.5.0",
          "state": {
            "_model_module": "@jupyter-widgets/controls",
            "_model_module_version": "1.5.0",
            "_model_name": "ProgressStyleModel",
            "_view_count": null,
            "_view_module": "@jupyter-widgets/base",
            "_view_module_version": "1.2.0",
            "_view_name": "StyleView",
            "bar_color": null,
            "description_width": ""
          }
        },
        "0b731622d39b44be893137275a77ed87": {
          "model_module": "@jupyter-widgets/base",
          "model_name": "LayoutModel",
          "model_module_version": "1.2.0",
          "state": {
            "_model_module": "@jupyter-widgets/base",
            "_model_module_version": "1.2.0",
            "_model_name": "LayoutModel",
            "_view_count": null,
            "_view_module": "@jupyter-widgets/base",
            "_view_module_version": "1.2.0",
            "_view_name": "LayoutView",
            "align_content": null,
            "align_items": null,
            "align_self": null,
            "border": null,
            "bottom": null,
            "display": null,
            "flex": null,
            "flex_flow": null,
            "grid_area": null,
            "grid_auto_columns": null,
            "grid_auto_flow": null,
            "grid_auto_rows": null,
            "grid_column": null,
            "grid_gap": null,
            "grid_row": null,
            "grid_template_areas": null,
            "grid_template_columns": null,
            "grid_template_rows": null,
            "height": null,
            "justify_content": null,
            "justify_items": null,
            "left": null,
            "margin": null,
            "max_height": null,
            "max_width": null,
            "min_height": null,
            "min_width": null,
            "object_fit": null,
            "object_position": null,
            "order": null,
            "overflow": null,
            "overflow_x": null,
            "overflow_y": null,
            "padding": null,
            "right": null,
            "top": null,
            "visibility": null,
            "width": null
          }
        },
        "b57958aea05e4c45bf9fceeb7b9ff5d1": {
          "model_module": "@jupyter-widgets/controls",
          "model_name": "DescriptionStyleModel",
          "model_module_version": "1.5.0",
          "state": {
            "_model_module": "@jupyter-widgets/controls",
            "_model_module_version": "1.5.0",
            "_model_name": "DescriptionStyleModel",
            "_view_count": null,
            "_view_module": "@jupyter-widgets/base",
            "_view_module_version": "1.2.0",
            "_view_name": "StyleView",
            "description_width": ""
          }
        },
        "9d482bb5a0a5473ba0636026afeb2747": {
          "model_module": "@jupyter-widgets/controls",
          "model_name": "HBoxModel",
          "model_module_version": "1.5.0",
          "state": {
            "_dom_classes": [],
            "_model_module": "@jupyter-widgets/controls",
            "_model_module_version": "1.5.0",
            "_model_name": "HBoxModel",
            "_view_count": null,
            "_view_module": "@jupyter-widgets/controls",
            "_view_module_version": "1.5.0",
            "_view_name": "HBoxView",
            "box_style": "",
            "children": [
              "IPY_MODEL_2d49ce6abf314d26af1bbf01dce53752",
              "IPY_MODEL_a53b526baeef4342a191299bdb16190d",
              "IPY_MODEL_9602e5d91e9c494a87fe667c4a227c25"
            ],
            "layout": "IPY_MODEL_cc743a567b0743b0b32b9d6017be3aec"
          }
        },
        "2d49ce6abf314d26af1bbf01dce53752": {
          "model_module": "@jupyter-widgets/controls",
          "model_name": "HTMLModel",
          "model_module_version": "1.5.0",
          "state": {
            "_dom_classes": [],
            "_model_module": "@jupyter-widgets/controls",
            "_model_module_version": "1.5.0",
            "_model_name": "HTMLModel",
            "_view_count": null,
            "_view_module": "@jupyter-widgets/controls",
            "_view_module_version": "1.5.0",
            "_view_name": "HTMLView",
            "description": "",
            "description_tooltip": null,
            "layout": "IPY_MODEL_5dd544092b2c4655989e88911e5cc4c8",
            "placeholder": "​",
            "style": "IPY_MODEL_b025ed5e43c14813bca9da26c3611975",
            "value": "PLOD-CW-25-Train.parquet: 100%"
          }
        },
        "a53b526baeef4342a191299bdb16190d": {
          "model_module": "@jupyter-widgets/controls",
          "model_name": "FloatProgressModel",
          "model_module_version": "1.5.0",
          "state": {
            "_dom_classes": [],
            "_model_module": "@jupyter-widgets/controls",
            "_model_module_version": "1.5.0",
            "_model_name": "FloatProgressModel",
            "_view_count": null,
            "_view_module": "@jupyter-widgets/controls",
            "_view_module_version": "1.5.0",
            "_view_name": "ProgressView",
            "bar_style": "success",
            "description": "",
            "description_tooltip": null,
            "layout": "IPY_MODEL_d41ebf22a29145a4a3669a3bd17ceba3",
            "max": 343312,
            "min": 0,
            "orientation": "horizontal",
            "style": "IPY_MODEL_49e0261ca5ed47e7beec04cdd334c14b",
            "value": 343312
          }
        },
        "9602e5d91e9c494a87fe667c4a227c25": {
          "model_module": "@jupyter-widgets/controls",
          "model_name": "HTMLModel",
          "model_module_version": "1.5.0",
          "state": {
            "_dom_classes": [],
            "_model_module": "@jupyter-widgets/controls",
            "_model_module_version": "1.5.0",
            "_model_name": "HTMLModel",
            "_view_count": null,
            "_view_module": "@jupyter-widgets/controls",
            "_view_module_version": "1.5.0",
            "_view_name": "HTMLView",
            "description": "",
            "description_tooltip": null,
            "layout": "IPY_MODEL_e833641de1f14baa9cc3f5eee27966b6",
            "placeholder": "​",
            "style": "IPY_MODEL_56d6f16a65cc4609ad8c3b05140432de",
            "value": " 343k/343k [00:00&lt;00:00, 6.03MB/s]"
          }
        },
        "cc743a567b0743b0b32b9d6017be3aec": {
          "model_module": "@jupyter-widgets/base",
          "model_name": "LayoutModel",
          "model_module_version": "1.2.0",
          "state": {
            "_model_module": "@jupyter-widgets/base",
            "_model_module_version": "1.2.0",
            "_model_name": "LayoutModel",
            "_view_count": null,
            "_view_module": "@jupyter-widgets/base",
            "_view_module_version": "1.2.0",
            "_view_name": "LayoutView",
            "align_content": null,
            "align_items": null,
            "align_self": null,
            "border": null,
            "bottom": null,
            "display": null,
            "flex": null,
            "flex_flow": null,
            "grid_area": null,
            "grid_auto_columns": null,
            "grid_auto_flow": null,
            "grid_auto_rows": null,
            "grid_column": null,
            "grid_gap": null,
            "grid_row": null,
            "grid_template_areas": null,
            "grid_template_columns": null,
            "grid_template_rows": null,
            "height": null,
            "justify_content": null,
            "justify_items": null,
            "left": null,
            "margin": null,
            "max_height": null,
            "max_width": null,
            "min_height": null,
            "min_width": null,
            "object_fit": null,
            "object_position": null,
            "order": null,
            "overflow": null,
            "overflow_x": null,
            "overflow_y": null,
            "padding": null,
            "right": null,
            "top": null,
            "visibility": null,
            "width": null
          }
        },
        "5dd544092b2c4655989e88911e5cc4c8": {
          "model_module": "@jupyter-widgets/base",
          "model_name": "LayoutModel",
          "model_module_version": "1.2.0",
          "state": {
            "_model_module": "@jupyter-widgets/base",
            "_model_module_version": "1.2.0",
            "_model_name": "LayoutModel",
            "_view_count": null,
            "_view_module": "@jupyter-widgets/base",
            "_view_module_version": "1.2.0",
            "_view_name": "LayoutView",
            "align_content": null,
            "align_items": null,
            "align_self": null,
            "border": null,
            "bottom": null,
            "display": null,
            "flex": null,
            "flex_flow": null,
            "grid_area": null,
            "grid_auto_columns": null,
            "grid_auto_flow": null,
            "grid_auto_rows": null,
            "grid_column": null,
            "grid_gap": null,
            "grid_row": null,
            "grid_template_areas": null,
            "grid_template_columns": null,
            "grid_template_rows": null,
            "height": null,
            "justify_content": null,
            "justify_items": null,
            "left": null,
            "margin": null,
            "max_height": null,
            "max_width": null,
            "min_height": null,
            "min_width": null,
            "object_fit": null,
            "object_position": null,
            "order": null,
            "overflow": null,
            "overflow_x": null,
            "overflow_y": null,
            "padding": null,
            "right": null,
            "top": null,
            "visibility": null,
            "width": null
          }
        },
        "b025ed5e43c14813bca9da26c3611975": {
          "model_module": "@jupyter-widgets/controls",
          "model_name": "DescriptionStyleModel",
          "model_module_version": "1.5.0",
          "state": {
            "_model_module": "@jupyter-widgets/controls",
            "_model_module_version": "1.5.0",
            "_model_name": "DescriptionStyleModel",
            "_view_count": null,
            "_view_module": "@jupyter-widgets/base",
            "_view_module_version": "1.2.0",
            "_view_name": "StyleView",
            "description_width": ""
          }
        },
        "d41ebf22a29145a4a3669a3bd17ceba3": {
          "model_module": "@jupyter-widgets/base",
          "model_name": "LayoutModel",
          "model_module_version": "1.2.0",
          "state": {
            "_model_module": "@jupyter-widgets/base",
            "_model_module_version": "1.2.0",
            "_model_name": "LayoutModel",
            "_view_count": null,
            "_view_module": "@jupyter-widgets/base",
            "_view_module_version": "1.2.0",
            "_view_name": "LayoutView",
            "align_content": null,
            "align_items": null,
            "align_self": null,
            "border": null,
            "bottom": null,
            "display": null,
            "flex": null,
            "flex_flow": null,
            "grid_area": null,
            "grid_auto_columns": null,
            "grid_auto_flow": null,
            "grid_auto_rows": null,
            "grid_column": null,
            "grid_gap": null,
            "grid_row": null,
            "grid_template_areas": null,
            "grid_template_columns": null,
            "grid_template_rows": null,
            "height": null,
            "justify_content": null,
            "justify_items": null,
            "left": null,
            "margin": null,
            "max_height": null,
            "max_width": null,
            "min_height": null,
            "min_width": null,
            "object_fit": null,
            "object_position": null,
            "order": null,
            "overflow": null,
            "overflow_x": null,
            "overflow_y": null,
            "padding": null,
            "right": null,
            "top": null,
            "visibility": null,
            "width": null
          }
        },
        "49e0261ca5ed47e7beec04cdd334c14b": {
          "model_module": "@jupyter-widgets/controls",
          "model_name": "ProgressStyleModel",
          "model_module_version": "1.5.0",
          "state": {
            "_model_module": "@jupyter-widgets/controls",
            "_model_module_version": "1.5.0",
            "_model_name": "ProgressStyleModel",
            "_view_count": null,
            "_view_module": "@jupyter-widgets/base",
            "_view_module_version": "1.2.0",
            "_view_name": "StyleView",
            "bar_color": null,
            "description_width": ""
          }
        },
        "e833641de1f14baa9cc3f5eee27966b6": {
          "model_module": "@jupyter-widgets/base",
          "model_name": "LayoutModel",
          "model_module_version": "1.2.0",
          "state": {
            "_model_module": "@jupyter-widgets/base",
            "_model_module_version": "1.2.0",
            "_model_name": "LayoutModel",
            "_view_count": null,
            "_view_module": "@jupyter-widgets/base",
            "_view_module_version": "1.2.0",
            "_view_name": "LayoutView",
            "align_content": null,
            "align_items": null,
            "align_self": null,
            "border": null,
            "bottom": null,
            "display": null,
            "flex": null,
            "flex_flow": null,
            "grid_area": null,
            "grid_auto_columns": null,
            "grid_auto_flow": null,
            "grid_auto_rows": null,
            "grid_column": null,
            "grid_gap": null,
            "grid_row": null,
            "grid_template_areas": null,
            "grid_template_columns": null,
            "grid_template_rows": null,
            "height": null,
            "justify_content": null,
            "justify_items": null,
            "left": null,
            "margin": null,
            "max_height": null,
            "max_width": null,
            "min_height": null,
            "min_width": null,
            "object_fit": null,
            "object_position": null,
            "order": null,
            "overflow": null,
            "overflow_x": null,
            "overflow_y": null,
            "padding": null,
            "right": null,
            "top": null,
            "visibility": null,
            "width": null
          }
        },
        "56d6f16a65cc4609ad8c3b05140432de": {
          "model_module": "@jupyter-widgets/controls",
          "model_name": "DescriptionStyleModel",
          "model_module_version": "1.5.0",
          "state": {
            "_model_module": "@jupyter-widgets/controls",
            "_model_module_version": "1.5.0",
            "_model_name": "DescriptionStyleModel",
            "_view_count": null,
            "_view_module": "@jupyter-widgets/base",
            "_view_module_version": "1.2.0",
            "_view_name": "StyleView",
            "description_width": ""
          }
        },
        "1bf6a53f81684b41b06ce2327c3e6fb9": {
          "model_module": "@jupyter-widgets/controls",
          "model_name": "HBoxModel",
          "model_module_version": "1.5.0",
          "state": {
            "_dom_classes": [],
            "_model_module": "@jupyter-widgets/controls",
            "_model_module_version": "1.5.0",
            "_model_name": "HBoxModel",
            "_view_count": null,
            "_view_module": "@jupyter-widgets/controls",
            "_view_module_version": "1.5.0",
            "_view_name": "HBoxView",
            "box_style": "",
            "children": [
              "IPY_MODEL_016f9727ab894d999530232cc2307438",
              "IPY_MODEL_ad116e2fd81942d999ab77461a67c306",
              "IPY_MODEL_4ea39100b8704b5eb9ef88cbf288d4c3"
            ],
            "layout": "IPY_MODEL_9b05dd5c55c04ff0a3279aa93d79a95c"
          }
        },
        "016f9727ab894d999530232cc2307438": {
          "model_module": "@jupyter-widgets/controls",
          "model_name": "HTMLModel",
          "model_module_version": "1.5.0",
          "state": {
            "_dom_classes": [],
            "_model_module": "@jupyter-widgets/controls",
            "_model_module_version": "1.5.0",
            "_model_name": "HTMLModel",
            "_view_count": null,
            "_view_module": "@jupyter-widgets/controls",
            "_view_module_version": "1.5.0",
            "_view_name": "HTMLView",
            "description": "",
            "description_tooltip": null,
            "layout": "IPY_MODEL_01e52095b0a147aaa89c29dd0d272ef5",
            "placeholder": "​",
            "style": "IPY_MODEL_e23fc2e65d07457d9c85864e5ded9ae3",
            "value": "PLOD-CW-25-Test.parquet: 100%"
          }
        },
        "ad116e2fd81942d999ab77461a67c306": {
          "model_module": "@jupyter-widgets/controls",
          "model_name": "FloatProgressModel",
          "model_module_version": "1.5.0",
          "state": {
            "_dom_classes": [],
            "_model_module": "@jupyter-widgets/controls",
            "_model_module_version": "1.5.0",
            "_model_name": "FloatProgressModel",
            "_view_count": null,
            "_view_module": "@jupyter-widgets/controls",
            "_view_module_version": "1.5.0",
            "_view_name": "ProgressView",
            "bar_style": "success",
            "description": "",
            "description_tooltip": null,
            "layout": "IPY_MODEL_325b0f5166154ad1a8ddcfad92ae1496",
            "max": 55500,
            "min": 0,
            "orientation": "horizontal",
            "style": "IPY_MODEL_6a1a08e30739451184b6f845066fd7cc",
            "value": 55500
          }
        },
        "4ea39100b8704b5eb9ef88cbf288d4c3": {
          "model_module": "@jupyter-widgets/controls",
          "model_name": "HTMLModel",
          "model_module_version": "1.5.0",
          "state": {
            "_dom_classes": [],
            "_model_module": "@jupyter-widgets/controls",
            "_model_module_version": "1.5.0",
            "_model_name": "HTMLModel",
            "_view_count": null,
            "_view_module": "@jupyter-widgets/controls",
            "_view_module_version": "1.5.0",
            "_view_name": "HTMLView",
            "description": "",
            "description_tooltip": null,
            "layout": "IPY_MODEL_f8c842cca51046f68a33efc837b25371",
            "placeholder": "​",
            "style": "IPY_MODEL_5937a2e2acac41b18aa12a3135816111",
            "value": " 55.5k/55.5k [00:00&lt;00:00, 2.93MB/s]"
          }
        },
        "9b05dd5c55c04ff0a3279aa93d79a95c": {
          "model_module": "@jupyter-widgets/base",
          "model_name": "LayoutModel",
          "model_module_version": "1.2.0",
          "state": {
            "_model_module": "@jupyter-widgets/base",
            "_model_module_version": "1.2.0",
            "_model_name": "LayoutModel",
            "_view_count": null,
            "_view_module": "@jupyter-widgets/base",
            "_view_module_version": "1.2.0",
            "_view_name": "LayoutView",
            "align_content": null,
            "align_items": null,
            "align_self": null,
            "border": null,
            "bottom": null,
            "display": null,
            "flex": null,
            "flex_flow": null,
            "grid_area": null,
            "grid_auto_columns": null,
            "grid_auto_flow": null,
            "grid_auto_rows": null,
            "grid_column": null,
            "grid_gap": null,
            "grid_row": null,
            "grid_template_areas": null,
            "grid_template_columns": null,
            "grid_template_rows": null,
            "height": null,
            "justify_content": null,
            "justify_items": null,
            "left": null,
            "margin": null,
            "max_height": null,
            "max_width": null,
            "min_height": null,
            "min_width": null,
            "object_fit": null,
            "object_position": null,
            "order": null,
            "overflow": null,
            "overflow_x": null,
            "overflow_y": null,
            "padding": null,
            "right": null,
            "top": null,
            "visibility": null,
            "width": null
          }
        },
        "01e52095b0a147aaa89c29dd0d272ef5": {
          "model_module": "@jupyter-widgets/base",
          "model_name": "LayoutModel",
          "model_module_version": "1.2.0",
          "state": {
            "_model_module": "@jupyter-widgets/base",
            "_model_module_version": "1.2.0",
            "_model_name": "LayoutModel",
            "_view_count": null,
            "_view_module": "@jupyter-widgets/base",
            "_view_module_version": "1.2.0",
            "_view_name": "LayoutView",
            "align_content": null,
            "align_items": null,
            "align_self": null,
            "border": null,
            "bottom": null,
            "display": null,
            "flex": null,
            "flex_flow": null,
            "grid_area": null,
            "grid_auto_columns": null,
            "grid_auto_flow": null,
            "grid_auto_rows": null,
            "grid_column": null,
            "grid_gap": null,
            "grid_row": null,
            "grid_template_areas": null,
            "grid_template_columns": null,
            "grid_template_rows": null,
            "height": null,
            "justify_content": null,
            "justify_items": null,
            "left": null,
            "margin": null,
            "max_height": null,
            "max_width": null,
            "min_height": null,
            "min_width": null,
            "object_fit": null,
            "object_position": null,
            "order": null,
            "overflow": null,
            "overflow_x": null,
            "overflow_y": null,
            "padding": null,
            "right": null,
            "top": null,
            "visibility": null,
            "width": null
          }
        },
        "e23fc2e65d07457d9c85864e5ded9ae3": {
          "model_module": "@jupyter-widgets/controls",
          "model_name": "DescriptionStyleModel",
          "model_module_version": "1.5.0",
          "state": {
            "_model_module": "@jupyter-widgets/controls",
            "_model_module_version": "1.5.0",
            "_model_name": "DescriptionStyleModel",
            "_view_count": null,
            "_view_module": "@jupyter-widgets/base",
            "_view_module_version": "1.2.0",
            "_view_name": "StyleView",
            "description_width": ""
          }
        },
        "325b0f5166154ad1a8ddcfad92ae1496": {
          "model_module": "@jupyter-widgets/base",
          "model_name": "LayoutModel",
          "model_module_version": "1.2.0",
          "state": {
            "_model_module": "@jupyter-widgets/base",
            "_model_module_version": "1.2.0",
            "_model_name": "LayoutModel",
            "_view_count": null,
            "_view_module": "@jupyter-widgets/base",
            "_view_module_version": "1.2.0",
            "_view_name": "LayoutView",
            "align_content": null,
            "align_items": null,
            "align_self": null,
            "border": null,
            "bottom": null,
            "display": null,
            "flex": null,
            "flex_flow": null,
            "grid_area": null,
            "grid_auto_columns": null,
            "grid_auto_flow": null,
            "grid_auto_rows": null,
            "grid_column": null,
            "grid_gap": null,
            "grid_row": null,
            "grid_template_areas": null,
            "grid_template_columns": null,
            "grid_template_rows": null,
            "height": null,
            "justify_content": null,
            "justify_items": null,
            "left": null,
            "margin": null,
            "max_height": null,
            "max_width": null,
            "min_height": null,
            "min_width": null,
            "object_fit": null,
            "object_position": null,
            "order": null,
            "overflow": null,
            "overflow_x": null,
            "overflow_y": null,
            "padding": null,
            "right": null,
            "top": null,
            "visibility": null,
            "width": null
          }
        },
        "6a1a08e30739451184b6f845066fd7cc": {
          "model_module": "@jupyter-widgets/controls",
          "model_name": "ProgressStyleModel",
          "model_module_version": "1.5.0",
          "state": {
            "_model_module": "@jupyter-widgets/controls",
            "_model_module_version": "1.5.0",
            "_model_name": "ProgressStyleModel",
            "_view_count": null,
            "_view_module": "@jupyter-widgets/base",
            "_view_module_version": "1.2.0",
            "_view_name": "StyleView",
            "bar_color": null,
            "description_width": ""
          }
        },
        "f8c842cca51046f68a33efc837b25371": {
          "model_module": "@jupyter-widgets/base",
          "model_name": "LayoutModel",
          "model_module_version": "1.2.0",
          "state": {
            "_model_module": "@jupyter-widgets/base",
            "_model_module_version": "1.2.0",
            "_model_name": "LayoutModel",
            "_view_count": null,
            "_view_module": "@jupyter-widgets/base",
            "_view_module_version": "1.2.0",
            "_view_name": "LayoutView",
            "align_content": null,
            "align_items": null,
            "align_self": null,
            "border": null,
            "bottom": null,
            "display": null,
            "flex": null,
            "flex_flow": null,
            "grid_area": null,
            "grid_auto_columns": null,
            "grid_auto_flow": null,
            "grid_auto_rows": null,
            "grid_column": null,
            "grid_gap": null,
            "grid_row": null,
            "grid_template_areas": null,
            "grid_template_columns": null,
            "grid_template_rows": null,
            "height": null,
            "justify_content": null,
            "justify_items": null,
            "left": null,
            "margin": null,
            "max_height": null,
            "max_width": null,
            "min_height": null,
            "min_width": null,
            "object_fit": null,
            "object_position": null,
            "order": null,
            "overflow": null,
            "overflow_x": null,
            "overflow_y": null,
            "padding": null,
            "right": null,
            "top": null,
            "visibility": null,
            "width": null
          }
        },
        "5937a2e2acac41b18aa12a3135816111": {
          "model_module": "@jupyter-widgets/controls",
          "model_name": "DescriptionStyleModel",
          "model_module_version": "1.5.0",
          "state": {
            "_model_module": "@jupyter-widgets/controls",
            "_model_module_version": "1.5.0",
            "_model_name": "DescriptionStyleModel",
            "_view_count": null,
            "_view_module": "@jupyter-widgets/base",
            "_view_module_version": "1.2.0",
            "_view_name": "StyleView",
            "description_width": ""
          }
        },
        "a224d526579f46498fe1c839d5c8204f": {
          "model_module": "@jupyter-widgets/controls",
          "model_name": "HBoxModel",
          "model_module_version": "1.5.0",
          "state": {
            "_dom_classes": [],
            "_model_module": "@jupyter-widgets/controls",
            "_model_module_version": "1.5.0",
            "_model_name": "HBoxModel",
            "_view_count": null,
            "_view_module": "@jupyter-widgets/controls",
            "_view_module_version": "1.5.0",
            "_view_name": "HBoxView",
            "box_style": "",
            "children": [
              "IPY_MODEL_a60355c7924a494799c53e1849dac612",
              "IPY_MODEL_49c41ec9711f4cfa868c4256d2dfe242",
              "IPY_MODEL_a07de425b85a479589f0acd86229cab6"
            ],
            "layout": "IPY_MODEL_4fc7d13161db43538b253bd79b4127aa"
          }
        },
        "a60355c7924a494799c53e1849dac612": {
          "model_module": "@jupyter-widgets/controls",
          "model_name": "HTMLModel",
          "model_module_version": "1.5.0",
          "state": {
            "_dom_classes": [],
            "_model_module": "@jupyter-widgets/controls",
            "_model_module_version": "1.5.0",
            "_model_name": "HTMLModel",
            "_view_count": null,
            "_view_module": "@jupyter-widgets/controls",
            "_view_module_version": "1.5.0",
            "_view_name": "HTMLView",
            "description": "",
            "description_tooltip": null,
            "layout": "IPY_MODEL_47542633b64a4115af648d40f6d697d3",
            "placeholder": "​",
            "style": "IPY_MODEL_86db30ae60d1464ba08fb8f7af2b084e",
            "value": "PLOD-CW-25-Val.parquet: 100%"
          }
        },
        "49c41ec9711f4cfa868c4256d2dfe242": {
          "model_module": "@jupyter-widgets/controls",
          "model_name": "FloatProgressModel",
          "model_module_version": "1.5.0",
          "state": {
            "_dom_classes": [],
            "_model_module": "@jupyter-widgets/controls",
            "_model_module_version": "1.5.0",
            "_model_name": "FloatProgressModel",
            "_view_count": null,
            "_view_module": "@jupyter-widgets/controls",
            "_view_module_version": "1.5.0",
            "_view_name": "ProgressView",
            "bar_style": "success",
            "description": "",
            "description_tooltip": null,
            "layout": "IPY_MODEL_66e48d2708b04ff08e771388dcc85f08",
            "max": 35902,
            "min": 0,
            "orientation": "horizontal",
            "style": "IPY_MODEL_85f8df82d5914bd1ac6e79d28bbe34ab",
            "value": 35902
          }
        },
        "a07de425b85a479589f0acd86229cab6": {
          "model_module": "@jupyter-widgets/controls",
          "model_name": "HTMLModel",
          "model_module_version": "1.5.0",
          "state": {
            "_dom_classes": [],
            "_model_module": "@jupyter-widgets/controls",
            "_model_module_version": "1.5.0",
            "_model_name": "HTMLModel",
            "_view_count": null,
            "_view_module": "@jupyter-widgets/controls",
            "_view_module_version": "1.5.0",
            "_view_name": "HTMLView",
            "description": "",
            "description_tooltip": null,
            "layout": "IPY_MODEL_d223406990f74aba801c2b0ad76d94e0",
            "placeholder": "​",
            "style": "IPY_MODEL_562f0f4c86ae4233a4f7403f92530945",
            "value": " 35.9k/35.9k [00:00&lt;00:00, 1.64MB/s]"
          }
        },
        "4fc7d13161db43538b253bd79b4127aa": {
          "model_module": "@jupyter-widgets/base",
          "model_name": "LayoutModel",
          "model_module_version": "1.2.0",
          "state": {
            "_model_module": "@jupyter-widgets/base",
            "_model_module_version": "1.2.0",
            "_model_name": "LayoutModel",
            "_view_count": null,
            "_view_module": "@jupyter-widgets/base",
            "_view_module_version": "1.2.0",
            "_view_name": "LayoutView",
            "align_content": null,
            "align_items": null,
            "align_self": null,
            "border": null,
            "bottom": null,
            "display": null,
            "flex": null,
            "flex_flow": null,
            "grid_area": null,
            "grid_auto_columns": null,
            "grid_auto_flow": null,
            "grid_auto_rows": null,
            "grid_column": null,
            "grid_gap": null,
            "grid_row": null,
            "grid_template_areas": null,
            "grid_template_columns": null,
            "grid_template_rows": null,
            "height": null,
            "justify_content": null,
            "justify_items": null,
            "left": null,
            "margin": null,
            "max_height": null,
            "max_width": null,
            "min_height": null,
            "min_width": null,
            "object_fit": null,
            "object_position": null,
            "order": null,
            "overflow": null,
            "overflow_x": null,
            "overflow_y": null,
            "padding": null,
            "right": null,
            "top": null,
            "visibility": null,
            "width": null
          }
        },
        "47542633b64a4115af648d40f6d697d3": {
          "model_module": "@jupyter-widgets/base",
          "model_name": "LayoutModel",
          "model_module_version": "1.2.0",
          "state": {
            "_model_module": "@jupyter-widgets/base",
            "_model_module_version": "1.2.0",
            "_model_name": "LayoutModel",
            "_view_count": null,
            "_view_module": "@jupyter-widgets/base",
            "_view_module_version": "1.2.0",
            "_view_name": "LayoutView",
            "align_content": null,
            "align_items": null,
            "align_self": null,
            "border": null,
            "bottom": null,
            "display": null,
            "flex": null,
            "flex_flow": null,
            "grid_area": null,
            "grid_auto_columns": null,
            "grid_auto_flow": null,
            "grid_auto_rows": null,
            "grid_column": null,
            "grid_gap": null,
            "grid_row": null,
            "grid_template_areas": null,
            "grid_template_columns": null,
            "grid_template_rows": null,
            "height": null,
            "justify_content": null,
            "justify_items": null,
            "left": null,
            "margin": null,
            "max_height": null,
            "max_width": null,
            "min_height": null,
            "min_width": null,
            "object_fit": null,
            "object_position": null,
            "order": null,
            "overflow": null,
            "overflow_x": null,
            "overflow_y": null,
            "padding": null,
            "right": null,
            "top": null,
            "visibility": null,
            "width": null
          }
        },
        "86db30ae60d1464ba08fb8f7af2b084e": {
          "model_module": "@jupyter-widgets/controls",
          "model_name": "DescriptionStyleModel",
          "model_module_version": "1.5.0",
          "state": {
            "_model_module": "@jupyter-widgets/controls",
            "_model_module_version": "1.5.0",
            "_model_name": "DescriptionStyleModel",
            "_view_count": null,
            "_view_module": "@jupyter-widgets/base",
            "_view_module_version": "1.2.0",
            "_view_name": "StyleView",
            "description_width": ""
          }
        },
        "66e48d2708b04ff08e771388dcc85f08": {
          "model_module": "@jupyter-widgets/base",
          "model_name": "LayoutModel",
          "model_module_version": "1.2.0",
          "state": {
            "_model_module": "@jupyter-widgets/base",
            "_model_module_version": "1.2.0",
            "_model_name": "LayoutModel",
            "_view_count": null,
            "_view_module": "@jupyter-widgets/base",
            "_view_module_version": "1.2.0",
            "_view_name": "LayoutView",
            "align_content": null,
            "align_items": null,
            "align_self": null,
            "border": null,
            "bottom": null,
            "display": null,
            "flex": null,
            "flex_flow": null,
            "grid_area": null,
            "grid_auto_columns": null,
            "grid_auto_flow": null,
            "grid_auto_rows": null,
            "grid_column": null,
            "grid_gap": null,
            "grid_row": null,
            "grid_template_areas": null,
            "grid_template_columns": null,
            "grid_template_rows": null,
            "height": null,
            "justify_content": null,
            "justify_items": null,
            "left": null,
            "margin": null,
            "max_height": null,
            "max_width": null,
            "min_height": null,
            "min_width": null,
            "object_fit": null,
            "object_position": null,
            "order": null,
            "overflow": null,
            "overflow_x": null,
            "overflow_y": null,
            "padding": null,
            "right": null,
            "top": null,
            "visibility": null,
            "width": null
          }
        },
        "85f8df82d5914bd1ac6e79d28bbe34ab": {
          "model_module": "@jupyter-widgets/controls",
          "model_name": "ProgressStyleModel",
          "model_module_version": "1.5.0",
          "state": {
            "_model_module": "@jupyter-widgets/controls",
            "_model_module_version": "1.5.0",
            "_model_name": "ProgressStyleModel",
            "_view_count": null,
            "_view_module": "@jupyter-widgets/base",
            "_view_module_version": "1.2.0",
            "_view_name": "StyleView",
            "bar_color": null,
            "description_width": ""
          }
        },
        "d223406990f74aba801c2b0ad76d94e0": {
          "model_module": "@jupyter-widgets/base",
          "model_name": "LayoutModel",
          "model_module_version": "1.2.0",
          "state": {
            "_model_module": "@jupyter-widgets/base",
            "_model_module_version": "1.2.0",
            "_model_name": "LayoutModel",
            "_view_count": null,
            "_view_module": "@jupyter-widgets/base",
            "_view_module_version": "1.2.0",
            "_view_name": "LayoutView",
            "align_content": null,
            "align_items": null,
            "align_self": null,
            "border": null,
            "bottom": null,
            "display": null,
            "flex": null,
            "flex_flow": null,
            "grid_area": null,
            "grid_auto_columns": null,
            "grid_auto_flow": null,
            "grid_auto_rows": null,
            "grid_column": null,
            "grid_gap": null,
            "grid_row": null,
            "grid_template_areas": null,
            "grid_template_columns": null,
            "grid_template_rows": null,
            "height": null,
            "justify_content": null,
            "justify_items": null,
            "left": null,
            "margin": null,
            "max_height": null,
            "max_width": null,
            "min_height": null,
            "min_width": null,
            "object_fit": null,
            "object_position": null,
            "order": null,
            "overflow": null,
            "overflow_x": null,
            "overflow_y": null,
            "padding": null,
            "right": null,
            "top": null,
            "visibility": null,
            "width": null
          }
        },
        "562f0f4c86ae4233a4f7403f92530945": {
          "model_module": "@jupyter-widgets/controls",
          "model_name": "DescriptionStyleModel",
          "model_module_version": "1.5.0",
          "state": {
            "_model_module": "@jupyter-widgets/controls",
            "_model_module_version": "1.5.0",
            "_model_name": "DescriptionStyleModel",
            "_view_count": null,
            "_view_module": "@jupyter-widgets/base",
            "_view_module_version": "1.2.0",
            "_view_name": "StyleView",
            "description_width": ""
          }
        },
        "a48dbe7d70ac461fafffa1488a1d57ea": {
          "model_module": "@jupyter-widgets/controls",
          "model_name": "HBoxModel",
          "model_module_version": "1.5.0",
          "state": {
            "_dom_classes": [],
            "_model_module": "@jupyter-widgets/controls",
            "_model_module_version": "1.5.0",
            "_model_name": "HBoxModel",
            "_view_count": null,
            "_view_module": "@jupyter-widgets/controls",
            "_view_module_version": "1.5.0",
            "_view_name": "HBoxView",
            "box_style": "",
            "children": [
              "IPY_MODEL_8ceaa95549f14975b94e99a7a58e3554",
              "IPY_MODEL_7e829b074c454574a484816adf21462f",
              "IPY_MODEL_1a41d56c55194e909e6e0277e7b460fd"
            ],
            "layout": "IPY_MODEL_2bce594a74eb44a194b25509271706ef"
          }
        },
        "8ceaa95549f14975b94e99a7a58e3554": {
          "model_module": "@jupyter-widgets/controls",
          "model_name": "HTMLModel",
          "model_module_version": "1.5.0",
          "state": {
            "_dom_classes": [],
            "_model_module": "@jupyter-widgets/controls",
            "_model_module_version": "1.5.0",
            "_model_name": "HTMLModel",
            "_view_count": null,
            "_view_module": "@jupyter-widgets/controls",
            "_view_module_version": "1.5.0",
            "_view_name": "HTMLView",
            "description": "",
            "description_tooltip": null,
            "layout": "IPY_MODEL_2ca6c540fdc64efdb707664ba8d9f4fc",
            "placeholder": "​",
            "style": "IPY_MODEL_5b29ceb2bbb8403885a966b8c06a5b86",
            "value": "Generating train split: 100%"
          }
        },
        "7e829b074c454574a484816adf21462f": {
          "model_module": "@jupyter-widgets/controls",
          "model_name": "FloatProgressModel",
          "model_module_version": "1.5.0",
          "state": {
            "_dom_classes": [],
            "_model_module": "@jupyter-widgets/controls",
            "_model_module_version": "1.5.0",
            "_model_name": "FloatProgressModel",
            "_view_count": null,
            "_view_module": "@jupyter-widgets/controls",
            "_view_module_version": "1.5.0",
            "_view_name": "ProgressView",
            "bar_style": "success",
            "description": "",
            "description_tooltip": null,
            "layout": "IPY_MODEL_7348e355872d43108506c760564d66f3",
            "max": 2000,
            "min": 0,
            "orientation": "horizontal",
            "style": "IPY_MODEL_16838cadaaf545b9b71330f95368b83f",
            "value": 2000
          }
        },
        "1a41d56c55194e909e6e0277e7b460fd": {
          "model_module": "@jupyter-widgets/controls",
          "model_name": "HTMLModel",
          "model_module_version": "1.5.0",
          "state": {
            "_dom_classes": [],
            "_model_module": "@jupyter-widgets/controls",
            "_model_module_version": "1.5.0",
            "_model_name": "HTMLModel",
            "_view_count": null,
            "_view_module": "@jupyter-widgets/controls",
            "_view_module_version": "1.5.0",
            "_view_name": "HTMLView",
            "description": "",
            "description_tooltip": null,
            "layout": "IPY_MODEL_b70a9b848f204209adf6340fdfb1638d",
            "placeholder": "​",
            "style": "IPY_MODEL_654e038234e74b88a0dd2ca28e708f11",
            "value": " 2000/2000 [00:00&lt;00:00, 38469.62 examples/s]"
          }
        },
        "2bce594a74eb44a194b25509271706ef": {
          "model_module": "@jupyter-widgets/base",
          "model_name": "LayoutModel",
          "model_module_version": "1.2.0",
          "state": {
            "_model_module": "@jupyter-widgets/base",
            "_model_module_version": "1.2.0",
            "_model_name": "LayoutModel",
            "_view_count": null,
            "_view_module": "@jupyter-widgets/base",
            "_view_module_version": "1.2.0",
            "_view_name": "LayoutView",
            "align_content": null,
            "align_items": null,
            "align_self": null,
            "border": null,
            "bottom": null,
            "display": null,
            "flex": null,
            "flex_flow": null,
            "grid_area": null,
            "grid_auto_columns": null,
            "grid_auto_flow": null,
            "grid_auto_rows": null,
            "grid_column": null,
            "grid_gap": null,
            "grid_row": null,
            "grid_template_areas": null,
            "grid_template_columns": null,
            "grid_template_rows": null,
            "height": null,
            "justify_content": null,
            "justify_items": null,
            "left": null,
            "margin": null,
            "max_height": null,
            "max_width": null,
            "min_height": null,
            "min_width": null,
            "object_fit": null,
            "object_position": null,
            "order": null,
            "overflow": null,
            "overflow_x": null,
            "overflow_y": null,
            "padding": null,
            "right": null,
            "top": null,
            "visibility": null,
            "width": null
          }
        },
        "2ca6c540fdc64efdb707664ba8d9f4fc": {
          "model_module": "@jupyter-widgets/base",
          "model_name": "LayoutModel",
          "model_module_version": "1.2.0",
          "state": {
            "_model_module": "@jupyter-widgets/base",
            "_model_module_version": "1.2.0",
            "_model_name": "LayoutModel",
            "_view_count": null,
            "_view_module": "@jupyter-widgets/base",
            "_view_module_version": "1.2.0",
            "_view_name": "LayoutView",
            "align_content": null,
            "align_items": null,
            "align_self": null,
            "border": null,
            "bottom": null,
            "display": null,
            "flex": null,
            "flex_flow": null,
            "grid_area": null,
            "grid_auto_columns": null,
            "grid_auto_flow": null,
            "grid_auto_rows": null,
            "grid_column": null,
            "grid_gap": null,
            "grid_row": null,
            "grid_template_areas": null,
            "grid_template_columns": null,
            "grid_template_rows": null,
            "height": null,
            "justify_content": null,
            "justify_items": null,
            "left": null,
            "margin": null,
            "max_height": null,
            "max_width": null,
            "min_height": null,
            "min_width": null,
            "object_fit": null,
            "object_position": null,
            "order": null,
            "overflow": null,
            "overflow_x": null,
            "overflow_y": null,
            "padding": null,
            "right": null,
            "top": null,
            "visibility": null,
            "width": null
          }
        },
        "5b29ceb2bbb8403885a966b8c06a5b86": {
          "model_module": "@jupyter-widgets/controls",
          "model_name": "DescriptionStyleModel",
          "model_module_version": "1.5.0",
          "state": {
            "_model_module": "@jupyter-widgets/controls",
            "_model_module_version": "1.5.0",
            "_model_name": "DescriptionStyleModel",
            "_view_count": null,
            "_view_module": "@jupyter-widgets/base",
            "_view_module_version": "1.2.0",
            "_view_name": "StyleView",
            "description_width": ""
          }
        },
        "7348e355872d43108506c760564d66f3": {
          "model_module": "@jupyter-widgets/base",
          "model_name": "LayoutModel",
          "model_module_version": "1.2.0",
          "state": {
            "_model_module": "@jupyter-widgets/base",
            "_model_module_version": "1.2.0",
            "_model_name": "LayoutModel",
            "_view_count": null,
            "_view_module": "@jupyter-widgets/base",
            "_view_module_version": "1.2.0",
            "_view_name": "LayoutView",
            "align_content": null,
            "align_items": null,
            "align_self": null,
            "border": null,
            "bottom": null,
            "display": null,
            "flex": null,
            "flex_flow": null,
            "grid_area": null,
            "grid_auto_columns": null,
            "grid_auto_flow": null,
            "grid_auto_rows": null,
            "grid_column": null,
            "grid_gap": null,
            "grid_row": null,
            "grid_template_areas": null,
            "grid_template_columns": null,
            "grid_template_rows": null,
            "height": null,
            "justify_content": null,
            "justify_items": null,
            "left": null,
            "margin": null,
            "max_height": null,
            "max_width": null,
            "min_height": null,
            "min_width": null,
            "object_fit": null,
            "object_position": null,
            "order": null,
            "overflow": null,
            "overflow_x": null,
            "overflow_y": null,
            "padding": null,
            "right": null,
            "top": null,
            "visibility": null,
            "width": null
          }
        },
        "16838cadaaf545b9b71330f95368b83f": {
          "model_module": "@jupyter-widgets/controls",
          "model_name": "ProgressStyleModel",
          "model_module_version": "1.5.0",
          "state": {
            "_model_module": "@jupyter-widgets/controls",
            "_model_module_version": "1.5.0",
            "_model_name": "ProgressStyleModel",
            "_view_count": null,
            "_view_module": "@jupyter-widgets/base",
            "_view_module_version": "1.2.0",
            "_view_name": "StyleView",
            "bar_color": null,
            "description_width": ""
          }
        },
        "b70a9b848f204209adf6340fdfb1638d": {
          "model_module": "@jupyter-widgets/base",
          "model_name": "LayoutModel",
          "model_module_version": "1.2.0",
          "state": {
            "_model_module": "@jupyter-widgets/base",
            "_model_module_version": "1.2.0",
            "_model_name": "LayoutModel",
            "_view_count": null,
            "_view_module": "@jupyter-widgets/base",
            "_view_module_version": "1.2.0",
            "_view_name": "LayoutView",
            "align_content": null,
            "align_items": null,
            "align_self": null,
            "border": null,
            "bottom": null,
            "display": null,
            "flex": null,
            "flex_flow": null,
            "grid_area": null,
            "grid_auto_columns": null,
            "grid_auto_flow": null,
            "grid_auto_rows": null,
            "grid_column": null,
            "grid_gap": null,
            "grid_row": null,
            "grid_template_areas": null,
            "grid_template_columns": null,
            "grid_template_rows": null,
            "height": null,
            "justify_content": null,
            "justify_items": null,
            "left": null,
            "margin": null,
            "max_height": null,
            "max_width": null,
            "min_height": null,
            "min_width": null,
            "object_fit": null,
            "object_position": null,
            "order": null,
            "overflow": null,
            "overflow_x": null,
            "overflow_y": null,
            "padding": null,
            "right": null,
            "top": null,
            "visibility": null,
            "width": null
          }
        },
        "654e038234e74b88a0dd2ca28e708f11": {
          "model_module": "@jupyter-widgets/controls",
          "model_name": "DescriptionStyleModel",
          "model_module_version": "1.5.0",
          "state": {
            "_model_module": "@jupyter-widgets/controls",
            "_model_module_version": "1.5.0",
            "_model_name": "DescriptionStyleModel",
            "_view_count": null,
            "_view_module": "@jupyter-widgets/base",
            "_view_module_version": "1.2.0",
            "_view_name": "StyleView",
            "description_width": ""
          }
        },
        "9d39d912d8e04958ab88f520f439a090": {
          "model_module": "@jupyter-widgets/controls",
          "model_name": "HBoxModel",
          "model_module_version": "1.5.0",
          "state": {
            "_dom_classes": [],
            "_model_module": "@jupyter-widgets/controls",
            "_model_module_version": "1.5.0",
            "_model_name": "HBoxModel",
            "_view_count": null,
            "_view_module": "@jupyter-widgets/controls",
            "_view_module_version": "1.5.0",
            "_view_name": "HBoxView",
            "box_style": "",
            "children": [
              "IPY_MODEL_2edd071902f84eb1b4b23301f4c8acbd",
              "IPY_MODEL_c6a64deb473c4c29906716af5ff18c10",
              "IPY_MODEL_0e141c781aba4de990b1f5a78cfb90aa"
            ],
            "layout": "IPY_MODEL_2863d7cdc59f4956bdad82a203e1818b"
          }
        },
        "2edd071902f84eb1b4b23301f4c8acbd": {
          "model_module": "@jupyter-widgets/controls",
          "model_name": "HTMLModel",
          "model_module_version": "1.5.0",
          "state": {
            "_dom_classes": [],
            "_model_module": "@jupyter-widgets/controls",
            "_model_module_version": "1.5.0",
            "_model_name": "HTMLModel",
            "_view_count": null,
            "_view_module": "@jupyter-widgets/controls",
            "_view_module_version": "1.5.0",
            "_view_name": "HTMLView",
            "description": "",
            "description_tooltip": null,
            "layout": "IPY_MODEL_45c3e37c2f714b3ca87ec9732a12bf6e",
            "placeholder": "​",
            "style": "IPY_MODEL_f567bae9daf341fc822c9b0f6bff9448",
            "value": "Generating test split: 100%"
          }
        },
        "c6a64deb473c4c29906716af5ff18c10": {
          "model_module": "@jupyter-widgets/controls",
          "model_name": "FloatProgressModel",
          "model_module_version": "1.5.0",
          "state": {
            "_dom_classes": [],
            "_model_module": "@jupyter-widgets/controls",
            "_model_module_version": "1.5.0",
            "_model_name": "FloatProgressModel",
            "_view_count": null,
            "_view_module": "@jupyter-widgets/controls",
            "_view_module_version": "1.5.0",
            "_view_name": "ProgressView",
            "bar_style": "success",
            "description": "",
            "description_tooltip": null,
            "layout": "IPY_MODEL_c0a4d37a987f4354ba43a36d922d1300",
            "max": 250,
            "min": 0,
            "orientation": "horizontal",
            "style": "IPY_MODEL_015051c5e7de4fb49a20413aa2cb7ad1",
            "value": 250
          }
        },
        "0e141c781aba4de990b1f5a78cfb90aa": {
          "model_module": "@jupyter-widgets/controls",
          "model_name": "HTMLModel",
          "model_module_version": "1.5.0",
          "state": {
            "_dom_classes": [],
            "_model_module": "@jupyter-widgets/controls",
            "_model_module_version": "1.5.0",
            "_model_name": "HTMLModel",
            "_view_count": null,
            "_view_module": "@jupyter-widgets/controls",
            "_view_module_version": "1.5.0",
            "_view_name": "HTMLView",
            "description": "",
            "description_tooltip": null,
            "layout": "IPY_MODEL_ab4375d63a9f4fca8448a99d29bf30e9",
            "placeholder": "​",
            "style": "IPY_MODEL_41dbf08059ac4a429b5716f550c1bbcc",
            "value": " 250/250 [00:00&lt;00:00, 10950.04 examples/s]"
          }
        },
        "2863d7cdc59f4956bdad82a203e1818b": {
          "model_module": "@jupyter-widgets/base",
          "model_name": "LayoutModel",
          "model_module_version": "1.2.0",
          "state": {
            "_model_module": "@jupyter-widgets/base",
            "_model_module_version": "1.2.0",
            "_model_name": "LayoutModel",
            "_view_count": null,
            "_view_module": "@jupyter-widgets/base",
            "_view_module_version": "1.2.0",
            "_view_name": "LayoutView",
            "align_content": null,
            "align_items": null,
            "align_self": null,
            "border": null,
            "bottom": null,
            "display": null,
            "flex": null,
            "flex_flow": null,
            "grid_area": null,
            "grid_auto_columns": null,
            "grid_auto_flow": null,
            "grid_auto_rows": null,
            "grid_column": null,
            "grid_gap": null,
            "grid_row": null,
            "grid_template_areas": null,
            "grid_template_columns": null,
            "grid_template_rows": null,
            "height": null,
            "justify_content": null,
            "justify_items": null,
            "left": null,
            "margin": null,
            "max_height": null,
            "max_width": null,
            "min_height": null,
            "min_width": null,
            "object_fit": null,
            "object_position": null,
            "order": null,
            "overflow": null,
            "overflow_x": null,
            "overflow_y": null,
            "padding": null,
            "right": null,
            "top": null,
            "visibility": null,
            "width": null
          }
        },
        "45c3e37c2f714b3ca87ec9732a12bf6e": {
          "model_module": "@jupyter-widgets/base",
          "model_name": "LayoutModel",
          "model_module_version": "1.2.0",
          "state": {
            "_model_module": "@jupyter-widgets/base",
            "_model_module_version": "1.2.0",
            "_model_name": "LayoutModel",
            "_view_count": null,
            "_view_module": "@jupyter-widgets/base",
            "_view_module_version": "1.2.0",
            "_view_name": "LayoutView",
            "align_content": null,
            "align_items": null,
            "align_self": null,
            "border": null,
            "bottom": null,
            "display": null,
            "flex": null,
            "flex_flow": null,
            "grid_area": null,
            "grid_auto_columns": null,
            "grid_auto_flow": null,
            "grid_auto_rows": null,
            "grid_column": null,
            "grid_gap": null,
            "grid_row": null,
            "grid_template_areas": null,
            "grid_template_columns": null,
            "grid_template_rows": null,
            "height": null,
            "justify_content": null,
            "justify_items": null,
            "left": null,
            "margin": null,
            "max_height": null,
            "max_width": null,
            "min_height": null,
            "min_width": null,
            "object_fit": null,
            "object_position": null,
            "order": null,
            "overflow": null,
            "overflow_x": null,
            "overflow_y": null,
            "padding": null,
            "right": null,
            "top": null,
            "visibility": null,
            "width": null
          }
        },
        "f567bae9daf341fc822c9b0f6bff9448": {
          "model_module": "@jupyter-widgets/controls",
          "model_name": "DescriptionStyleModel",
          "model_module_version": "1.5.0",
          "state": {
            "_model_module": "@jupyter-widgets/controls",
            "_model_module_version": "1.5.0",
            "_model_name": "DescriptionStyleModel",
            "_view_count": null,
            "_view_module": "@jupyter-widgets/base",
            "_view_module_version": "1.2.0",
            "_view_name": "StyleView",
            "description_width": ""
          }
        },
        "c0a4d37a987f4354ba43a36d922d1300": {
          "model_module": "@jupyter-widgets/base",
          "model_name": "LayoutModel",
          "model_module_version": "1.2.0",
          "state": {
            "_model_module": "@jupyter-widgets/base",
            "_model_module_version": "1.2.0",
            "_model_name": "LayoutModel",
            "_view_count": null,
            "_view_module": "@jupyter-widgets/base",
            "_view_module_version": "1.2.0",
            "_view_name": "LayoutView",
            "align_content": null,
            "align_items": null,
            "align_self": null,
            "border": null,
            "bottom": null,
            "display": null,
            "flex": null,
            "flex_flow": null,
            "grid_area": null,
            "grid_auto_columns": null,
            "grid_auto_flow": null,
            "grid_auto_rows": null,
            "grid_column": null,
            "grid_gap": null,
            "grid_row": null,
            "grid_template_areas": null,
            "grid_template_columns": null,
            "grid_template_rows": null,
            "height": null,
            "justify_content": null,
            "justify_items": null,
            "left": null,
            "margin": null,
            "max_height": null,
            "max_width": null,
            "min_height": null,
            "min_width": null,
            "object_fit": null,
            "object_position": null,
            "order": null,
            "overflow": null,
            "overflow_x": null,
            "overflow_y": null,
            "padding": null,
            "right": null,
            "top": null,
            "visibility": null,
            "width": null
          }
        },
        "015051c5e7de4fb49a20413aa2cb7ad1": {
          "model_module": "@jupyter-widgets/controls",
          "model_name": "ProgressStyleModel",
          "model_module_version": "1.5.0",
          "state": {
            "_model_module": "@jupyter-widgets/controls",
            "_model_module_version": "1.5.0",
            "_model_name": "ProgressStyleModel",
            "_view_count": null,
            "_view_module": "@jupyter-widgets/base",
            "_view_module_version": "1.2.0",
            "_view_name": "StyleView",
            "bar_color": null,
            "description_width": ""
          }
        },
        "ab4375d63a9f4fca8448a99d29bf30e9": {
          "model_module": "@jupyter-widgets/base",
          "model_name": "LayoutModel",
          "model_module_version": "1.2.0",
          "state": {
            "_model_module": "@jupyter-widgets/base",
            "_model_module_version": "1.2.0",
            "_model_name": "LayoutModel",
            "_view_count": null,
            "_view_module": "@jupyter-widgets/base",
            "_view_module_version": "1.2.0",
            "_view_name": "LayoutView",
            "align_content": null,
            "align_items": null,
            "align_self": null,
            "border": null,
            "bottom": null,
            "display": null,
            "flex": null,
            "flex_flow": null,
            "grid_area": null,
            "grid_auto_columns": null,
            "grid_auto_flow": null,
            "grid_auto_rows": null,
            "grid_column": null,
            "grid_gap": null,
            "grid_row": null,
            "grid_template_areas": null,
            "grid_template_columns": null,
            "grid_template_rows": null,
            "height": null,
            "justify_content": null,
            "justify_items": null,
            "left": null,
            "margin": null,
            "max_height": null,
            "max_width": null,
            "min_height": null,
            "min_width": null,
            "object_fit": null,
            "object_position": null,
            "order": null,
            "overflow": null,
            "overflow_x": null,
            "overflow_y": null,
            "padding": null,
            "right": null,
            "top": null,
            "visibility": null,
            "width": null
          }
        },
        "41dbf08059ac4a429b5716f550c1bbcc": {
          "model_module": "@jupyter-widgets/controls",
          "model_name": "DescriptionStyleModel",
          "model_module_version": "1.5.0",
          "state": {
            "_model_module": "@jupyter-widgets/controls",
            "_model_module_version": "1.5.0",
            "_model_name": "DescriptionStyleModel",
            "_view_count": null,
            "_view_module": "@jupyter-widgets/base",
            "_view_module_version": "1.2.0",
            "_view_name": "StyleView",
            "description_width": ""
          }
        },
        "c362d4a698ab442ea0bbe4490ab83fbb": {
          "model_module": "@jupyter-widgets/controls",
          "model_name": "HBoxModel",
          "model_module_version": "1.5.0",
          "state": {
            "_dom_classes": [],
            "_model_module": "@jupyter-widgets/controls",
            "_model_module_version": "1.5.0",
            "_model_name": "HBoxModel",
            "_view_count": null,
            "_view_module": "@jupyter-widgets/controls",
            "_view_module_version": "1.5.0",
            "_view_name": "HBoxView",
            "box_style": "",
            "children": [
              "IPY_MODEL_89711ad4c62549a283c6540831a33c97",
              "IPY_MODEL_31020753f7ae48879308ea2c98cac9f4",
              "IPY_MODEL_82509ba34ed74213a6bc9a1d7eed61db"
            ],
            "layout": "IPY_MODEL_8a396c2b31404bcc92ff6adf23a6a081"
          }
        },
        "89711ad4c62549a283c6540831a33c97": {
          "model_module": "@jupyter-widgets/controls",
          "model_name": "HTMLModel",
          "model_module_version": "1.5.0",
          "state": {
            "_dom_classes": [],
            "_model_module": "@jupyter-widgets/controls",
            "_model_module_version": "1.5.0",
            "_model_name": "HTMLModel",
            "_view_count": null,
            "_view_module": "@jupyter-widgets/controls",
            "_view_module_version": "1.5.0",
            "_view_name": "HTMLView",
            "description": "",
            "description_tooltip": null,
            "layout": "IPY_MODEL_bfc421befe4546059836a85b84538c83",
            "placeholder": "​",
            "style": "IPY_MODEL_7bdac1361a78495b9dc5a741412ecdf7",
            "value": "Generating validation split: 100%"
          }
        },
        "31020753f7ae48879308ea2c98cac9f4": {
          "model_module": "@jupyter-widgets/controls",
          "model_name": "FloatProgressModel",
          "model_module_version": "1.5.0",
          "state": {
            "_dom_classes": [],
            "_model_module": "@jupyter-widgets/controls",
            "_model_module_version": "1.5.0",
            "_model_name": "FloatProgressModel",
            "_view_count": null,
            "_view_module": "@jupyter-widgets/controls",
            "_view_module_version": "1.5.0",
            "_view_name": "ProgressView",
            "bar_style": "success",
            "description": "",
            "description_tooltip": null,
            "layout": "IPY_MODEL_a6e034497bc0444a9e87146befa3b9ae",
            "max": 150,
            "min": 0,
            "orientation": "horizontal",
            "style": "IPY_MODEL_a2a3cdc9c7bb423bb13bf82f9dc78e3a",
            "value": 150
          }
        },
        "82509ba34ed74213a6bc9a1d7eed61db": {
          "model_module": "@jupyter-widgets/controls",
          "model_name": "HTMLModel",
          "model_module_version": "1.5.0",
          "state": {
            "_dom_classes": [],
            "_model_module": "@jupyter-widgets/controls",
            "_model_module_version": "1.5.0",
            "_model_name": "HTMLModel",
            "_view_count": null,
            "_view_module": "@jupyter-widgets/controls",
            "_view_module_version": "1.5.0",
            "_view_name": "HTMLView",
            "description": "",
            "description_tooltip": null,
            "layout": "IPY_MODEL_453f9e1750eb49a5ac32fc04ff693123",
            "placeholder": "​",
            "style": "IPY_MODEL_b2776cddcac64a728026fc5e1a63377c",
            "value": " 150/150 [00:00&lt;00:00, 7182.77 examples/s]"
          }
        },
        "8a396c2b31404bcc92ff6adf23a6a081": {
          "model_module": "@jupyter-widgets/base",
          "model_name": "LayoutModel",
          "model_module_version": "1.2.0",
          "state": {
            "_model_module": "@jupyter-widgets/base",
            "_model_module_version": "1.2.0",
            "_model_name": "LayoutModel",
            "_view_count": null,
            "_view_module": "@jupyter-widgets/base",
            "_view_module_version": "1.2.0",
            "_view_name": "LayoutView",
            "align_content": null,
            "align_items": null,
            "align_self": null,
            "border": null,
            "bottom": null,
            "display": null,
            "flex": null,
            "flex_flow": null,
            "grid_area": null,
            "grid_auto_columns": null,
            "grid_auto_flow": null,
            "grid_auto_rows": null,
            "grid_column": null,
            "grid_gap": null,
            "grid_row": null,
            "grid_template_areas": null,
            "grid_template_columns": null,
            "grid_template_rows": null,
            "height": null,
            "justify_content": null,
            "justify_items": null,
            "left": null,
            "margin": null,
            "max_height": null,
            "max_width": null,
            "min_height": null,
            "min_width": null,
            "object_fit": null,
            "object_position": null,
            "order": null,
            "overflow": null,
            "overflow_x": null,
            "overflow_y": null,
            "padding": null,
            "right": null,
            "top": null,
            "visibility": null,
            "width": null
          }
        },
        "bfc421befe4546059836a85b84538c83": {
          "model_module": "@jupyter-widgets/base",
          "model_name": "LayoutModel",
          "model_module_version": "1.2.0",
          "state": {
            "_model_module": "@jupyter-widgets/base",
            "_model_module_version": "1.2.0",
            "_model_name": "LayoutModel",
            "_view_count": null,
            "_view_module": "@jupyter-widgets/base",
            "_view_module_version": "1.2.0",
            "_view_name": "LayoutView",
            "align_content": null,
            "align_items": null,
            "align_self": null,
            "border": null,
            "bottom": null,
            "display": null,
            "flex": null,
            "flex_flow": null,
            "grid_area": null,
            "grid_auto_columns": null,
            "grid_auto_flow": null,
            "grid_auto_rows": null,
            "grid_column": null,
            "grid_gap": null,
            "grid_row": null,
            "grid_template_areas": null,
            "grid_template_columns": null,
            "grid_template_rows": null,
            "height": null,
            "justify_content": null,
            "justify_items": null,
            "left": null,
            "margin": null,
            "max_height": null,
            "max_width": null,
            "min_height": null,
            "min_width": null,
            "object_fit": null,
            "object_position": null,
            "order": null,
            "overflow": null,
            "overflow_x": null,
            "overflow_y": null,
            "padding": null,
            "right": null,
            "top": null,
            "visibility": null,
            "width": null
          }
        },
        "7bdac1361a78495b9dc5a741412ecdf7": {
          "model_module": "@jupyter-widgets/controls",
          "model_name": "DescriptionStyleModel",
          "model_module_version": "1.5.0",
          "state": {
            "_model_module": "@jupyter-widgets/controls",
            "_model_module_version": "1.5.0",
            "_model_name": "DescriptionStyleModel",
            "_view_count": null,
            "_view_module": "@jupyter-widgets/base",
            "_view_module_version": "1.2.0",
            "_view_name": "StyleView",
            "description_width": ""
          }
        },
        "a6e034497bc0444a9e87146befa3b9ae": {
          "model_module": "@jupyter-widgets/base",
          "model_name": "LayoutModel",
          "model_module_version": "1.2.0",
          "state": {
            "_model_module": "@jupyter-widgets/base",
            "_model_module_version": "1.2.0",
            "_model_name": "LayoutModel",
            "_view_count": null,
            "_view_module": "@jupyter-widgets/base",
            "_view_module_version": "1.2.0",
            "_view_name": "LayoutView",
            "align_content": null,
            "align_items": null,
            "align_self": null,
            "border": null,
            "bottom": null,
            "display": null,
            "flex": null,
            "flex_flow": null,
            "grid_area": null,
            "grid_auto_columns": null,
            "grid_auto_flow": null,
            "grid_auto_rows": null,
            "grid_column": null,
            "grid_gap": null,
            "grid_row": null,
            "grid_template_areas": null,
            "grid_template_columns": null,
            "grid_template_rows": null,
            "height": null,
            "justify_content": null,
            "justify_items": null,
            "left": null,
            "margin": null,
            "max_height": null,
            "max_width": null,
            "min_height": null,
            "min_width": null,
            "object_fit": null,
            "object_position": null,
            "order": null,
            "overflow": null,
            "overflow_x": null,
            "overflow_y": null,
            "padding": null,
            "right": null,
            "top": null,
            "visibility": null,
            "width": null
          }
        },
        "a2a3cdc9c7bb423bb13bf82f9dc78e3a": {
          "model_module": "@jupyter-widgets/controls",
          "model_name": "ProgressStyleModel",
          "model_module_version": "1.5.0",
          "state": {
            "_model_module": "@jupyter-widgets/controls",
            "_model_module_version": "1.5.0",
            "_model_name": "ProgressStyleModel",
            "_view_count": null,
            "_view_module": "@jupyter-widgets/base",
            "_view_module_version": "1.2.0",
            "_view_name": "StyleView",
            "bar_color": null,
            "description_width": ""
          }
        },
        "453f9e1750eb49a5ac32fc04ff693123": {
          "model_module": "@jupyter-widgets/base",
          "model_name": "LayoutModel",
          "model_module_version": "1.2.0",
          "state": {
            "_model_module": "@jupyter-widgets/base",
            "_model_module_version": "1.2.0",
            "_model_name": "LayoutModel",
            "_view_count": null,
            "_view_module": "@jupyter-widgets/base",
            "_view_module_version": "1.2.0",
            "_view_name": "LayoutView",
            "align_content": null,
            "align_items": null,
            "align_self": null,
            "border": null,
            "bottom": null,
            "display": null,
            "flex": null,
            "flex_flow": null,
            "grid_area": null,
            "grid_auto_columns": null,
            "grid_auto_flow": null,
            "grid_auto_rows": null,
            "grid_column": null,
            "grid_gap": null,
            "grid_row": null,
            "grid_template_areas": null,
            "grid_template_columns": null,
            "grid_template_rows": null,
            "height": null,
            "justify_content": null,
            "justify_items": null,
            "left": null,
            "margin": null,
            "max_height": null,
            "max_width": null,
            "min_height": null,
            "min_width": null,
            "object_fit": null,
            "object_position": null,
            "order": null,
            "overflow": null,
            "overflow_x": null,
            "overflow_y": null,
            "padding": null,
            "right": null,
            "top": null,
            "visibility": null,
            "width": null
          }
        },
        "b2776cddcac64a728026fc5e1a63377c": {
          "model_module": "@jupyter-widgets/controls",
          "model_name": "DescriptionStyleModel",
          "model_module_version": "1.5.0",
          "state": {
            "_model_module": "@jupyter-widgets/controls",
            "_model_module_version": "1.5.0",
            "_model_name": "DescriptionStyleModel",
            "_view_count": null,
            "_view_module": "@jupyter-widgets/base",
            "_view_module_version": "1.2.0",
            "_view_name": "StyleView",
            "description_width": ""
          }
        }
      }
    }
  },
  "cells": [
    {
      "cell_type": "code",
      "execution_count": 1,
      "metadata": {
        "colab": {
          "base_uri": "https://localhost:8080/"
        },
        "id": "RNaeEtr7UBLf",
        "outputId": "53009396-3849-4cd9-8ee5-da231df98684"
      },
      "outputs": [
        {
          "output_type": "stream",
          "name": "stdout",
          "text": [
            "Requirement already satisfied: datasets in /usr/local/lib/python3.11/dist-packages (2.14.4)\n",
            "Requirement already satisfied: numpy>=1.17 in /usr/local/lib/python3.11/dist-packages (from datasets) (2.0.2)\n",
            "Requirement already satisfied: pyarrow>=8.0.0 in /usr/local/lib/python3.11/dist-packages (from datasets) (18.1.0)\n",
            "Requirement already satisfied: dill<0.3.8,>=0.3.0 in /usr/local/lib/python3.11/dist-packages (from datasets) (0.3.7)\n",
            "Requirement already satisfied: pandas in /usr/local/lib/python3.11/dist-packages (from datasets) (2.2.2)\n",
            "Requirement already satisfied: requests>=2.19.0 in /usr/local/lib/python3.11/dist-packages (from datasets) (2.32.3)\n",
            "Requirement already satisfied: tqdm>=4.62.1 in /usr/local/lib/python3.11/dist-packages (from datasets) (4.67.1)\n",
            "Requirement already satisfied: xxhash in /usr/local/lib/python3.11/dist-packages (from datasets) (3.5.0)\n",
            "Requirement already satisfied: multiprocess in /usr/local/lib/python3.11/dist-packages (from datasets) (0.70.15)\n",
            "Requirement already satisfied: fsspec>=2021.11.1 in /usr/local/lib/python3.11/dist-packages (from fsspec[http]>=2021.11.1->datasets) (2025.3.2)\n",
            "Requirement already satisfied: aiohttp in /usr/local/lib/python3.11/dist-packages (from datasets) (3.11.15)\n",
            "Requirement already satisfied: huggingface-hub<1.0.0,>=0.14.0 in /usr/local/lib/python3.11/dist-packages (from datasets) (0.32.4)\n",
            "Requirement already satisfied: packaging in /usr/local/lib/python3.11/dist-packages (from datasets) (24.2)\n",
            "Requirement already satisfied: pyyaml>=5.1 in /usr/local/lib/python3.11/dist-packages (from datasets) (6.0.2)\n",
            "Requirement already satisfied: aiohappyeyeballs>=2.3.0 in /usr/local/lib/python3.11/dist-packages (from aiohttp->datasets) (2.6.1)\n",
            "Requirement already satisfied: aiosignal>=1.1.2 in /usr/local/lib/python3.11/dist-packages (from aiohttp->datasets) (1.3.2)\n",
            "Requirement already satisfied: attrs>=17.3.0 in /usr/local/lib/python3.11/dist-packages (from aiohttp->datasets) (25.3.0)\n",
            "Requirement already satisfied: frozenlist>=1.1.1 in /usr/local/lib/python3.11/dist-packages (from aiohttp->datasets) (1.6.0)\n",
            "Requirement already satisfied: multidict<7.0,>=4.5 in /usr/local/lib/python3.11/dist-packages (from aiohttp->datasets) (6.4.4)\n",
            "Requirement already satisfied: propcache>=0.2.0 in /usr/local/lib/python3.11/dist-packages (from aiohttp->datasets) (0.3.1)\n",
            "Requirement already satisfied: yarl<2.0,>=1.17.0 in /usr/local/lib/python3.11/dist-packages (from aiohttp->datasets) (1.20.0)\n",
            "Requirement already satisfied: filelock in /usr/local/lib/python3.11/dist-packages (from huggingface-hub<1.0.0,>=0.14.0->datasets) (3.18.0)\n",
            "Requirement already satisfied: typing-extensions>=3.7.4.3 in /usr/local/lib/python3.11/dist-packages (from huggingface-hub<1.0.0,>=0.14.0->datasets) (4.14.0)\n",
            "Requirement already satisfied: hf-xet<2.0.0,>=1.1.2 in /usr/local/lib/python3.11/dist-packages (from huggingface-hub<1.0.0,>=0.14.0->datasets) (1.1.2)\n",
            "Requirement already satisfied: charset-normalizer<4,>=2 in /usr/local/lib/python3.11/dist-packages (from requests>=2.19.0->datasets) (3.4.2)\n",
            "Requirement already satisfied: idna<4,>=2.5 in /usr/local/lib/python3.11/dist-packages (from requests>=2.19.0->datasets) (3.10)\n",
            "Requirement already satisfied: urllib3<3,>=1.21.1 in /usr/local/lib/python3.11/dist-packages (from requests>=2.19.0->datasets) (2.4.0)\n",
            "Requirement already satisfied: certifi>=2017.4.17 in /usr/local/lib/python3.11/dist-packages (from requests>=2.19.0->datasets) (2025.4.26)\n",
            "Requirement already satisfied: python-dateutil>=2.8.2 in /usr/local/lib/python3.11/dist-packages (from pandas->datasets) (2.9.0.post0)\n",
            "Requirement already satisfied: pytz>=2020.1 in /usr/local/lib/python3.11/dist-packages (from pandas->datasets) (2025.2)\n",
            "Requirement already satisfied: tzdata>=2022.7 in /usr/local/lib/python3.11/dist-packages (from pandas->datasets) (2025.2)\n",
            "Requirement already satisfied: six>=1.5 in /usr/local/lib/python3.11/dist-packages (from python-dateutil>=2.8.2->pandas->datasets) (1.17.0)\n"
          ]
        }
      ],
      "source": [
        "%pip install datasets"
      ]
    },
    {
      "cell_type": "code",
      "source": [
        "!pip install --upgrade --force-reinstall numpy==1.26.4 scipy==1.13.1 datasets gensim"
      ],
      "metadata": {
        "colab": {
          "base_uri": "https://localhost:8080/",
          "height": 1000
        },
        "id": "-gXvnmO9gzHh",
        "outputId": "6612ed72-d636-4d05-a17a-265ddb1cb03a"
      },
      "execution_count": 1,
      "outputs": [
        {
          "output_type": "stream",
          "name": "stdout",
          "text": [
            "Collecting numpy==1.26.4\n",
            "  Using cached numpy-1.26.4-cp311-cp311-manylinux_2_17_x86_64.manylinux2014_x86_64.whl.metadata (61 kB)\n",
            "Collecting scipy==1.13.1\n",
            "  Using cached scipy-1.13.1-cp311-cp311-manylinux_2_17_x86_64.manylinux2014_x86_64.whl.metadata (60 kB)\n",
            "Collecting datasets\n",
            "  Using cached datasets-3.6.0-py3-none-any.whl.metadata (19 kB)\n",
            "Collecting gensim\n",
            "  Using cached gensim-4.3.3-cp311-cp311-manylinux_2_17_x86_64.manylinux2014_x86_64.whl.metadata (8.1 kB)\n",
            "Collecting filelock (from datasets)\n",
            "  Using cached filelock-3.18.0-py3-none-any.whl.metadata (2.9 kB)\n",
            "Collecting pyarrow>=15.0.0 (from datasets)\n",
            "  Using cached pyarrow-20.0.0-cp311-cp311-manylinux_2_28_x86_64.whl.metadata (3.3 kB)\n",
            "Collecting dill<0.3.9,>=0.3.0 (from datasets)\n",
            "  Using cached dill-0.3.8-py3-none-any.whl.metadata (10 kB)\n",
            "Collecting pandas (from datasets)\n",
            "  Using cached pandas-2.3.0-cp311-cp311-manylinux_2_17_x86_64.manylinux2014_x86_64.whl.metadata (91 kB)\n",
            "Collecting requests>=2.32.2 (from datasets)\n",
            "  Using cached requests-2.32.4-py3-none-any.whl.metadata (4.9 kB)\n",
            "Collecting tqdm>=4.66.3 (from datasets)\n",
            "  Using cached tqdm-4.67.1-py3-none-any.whl.metadata (57 kB)\n",
            "Collecting xxhash (from datasets)\n",
            "  Using cached xxhash-3.5.0-cp311-cp311-manylinux_2_17_x86_64.manylinux2014_x86_64.whl.metadata (12 kB)\n",
            "Collecting multiprocess<0.70.17 (from datasets)\n",
            "  Using cached multiprocess-0.70.16-py311-none-any.whl.metadata (7.2 kB)\n",
            "Collecting fsspec<=2025.3.0,>=2023.1.0 (from fsspec[http]<=2025.3.0,>=2023.1.0->datasets)\n",
            "  Using cached fsspec-2025.3.0-py3-none-any.whl.metadata (11 kB)\n",
            "Collecting huggingface-hub>=0.24.0 (from datasets)\n",
            "  Using cached huggingface_hub-0.32.4-py3-none-any.whl.metadata (14 kB)\n",
            "Collecting packaging (from datasets)\n",
            "  Using cached packaging-25.0-py3-none-any.whl.metadata (3.3 kB)\n",
            "Collecting pyyaml>=5.1 (from datasets)\n",
            "  Using cached PyYAML-6.0.2-cp311-cp311-manylinux_2_17_x86_64.manylinux2014_x86_64.whl.metadata (2.1 kB)\n",
            "Collecting smart-open>=1.8.1 (from gensim)\n",
            "  Using cached smart_open-7.1.0-py3-none-any.whl.metadata (24 kB)\n",
            "Collecting aiohttp!=4.0.0a0,!=4.0.0a1 (from fsspec[http]<=2025.3.0,>=2023.1.0->datasets)\n",
            "  Using cached aiohttp-3.12.11-cp311-cp311-manylinux_2_17_x86_64.manylinux2014_x86_64.whl.metadata (7.6 kB)\n",
            "Collecting typing-extensions>=3.7.4.3 (from huggingface-hub>=0.24.0->datasets)\n",
            "  Using cached typing_extensions-4.14.0-py3-none-any.whl.metadata (3.0 kB)\n",
            "Collecting hf-xet<2.0.0,>=1.1.2 (from huggingface-hub>=0.24.0->datasets)\n",
            "  Using cached hf_xet-1.1.3-cp37-abi3-manylinux_2_17_x86_64.manylinux2014_x86_64.whl.metadata (879 bytes)\n",
            "Collecting charset_normalizer<4,>=2 (from requests>=2.32.2->datasets)\n",
            "  Using cached charset_normalizer-3.4.2-cp311-cp311-manylinux_2_17_x86_64.manylinux2014_x86_64.whl.metadata (35 kB)\n",
            "Collecting idna<4,>=2.5 (from requests>=2.32.2->datasets)\n",
            "  Using cached idna-3.10-py3-none-any.whl.metadata (10 kB)\n",
            "Collecting urllib3<3,>=1.21.1 (from requests>=2.32.2->datasets)\n",
            "  Using cached urllib3-2.4.0-py3-none-any.whl.metadata (6.5 kB)\n",
            "Collecting certifi>=2017.4.17 (from requests>=2.32.2->datasets)\n",
            "  Using cached certifi-2025.4.26-py3-none-any.whl.metadata (2.5 kB)\n",
            "Collecting wrapt (from smart-open>=1.8.1->gensim)\n",
            "  Using cached wrapt-1.17.2-cp311-cp311-manylinux_2_5_x86_64.manylinux1_x86_64.manylinux_2_17_x86_64.manylinux2014_x86_64.whl.metadata (6.4 kB)\n",
            "Collecting python-dateutil>=2.8.2 (from pandas->datasets)\n",
            "  Using cached python_dateutil-2.9.0.post0-py2.py3-none-any.whl.metadata (8.4 kB)\n",
            "Collecting pytz>=2020.1 (from pandas->datasets)\n",
            "  Using cached pytz-2025.2-py2.py3-none-any.whl.metadata (22 kB)\n",
            "Collecting tzdata>=2022.7 (from pandas->datasets)\n",
            "  Using cached tzdata-2025.2-py2.py3-none-any.whl.metadata (1.4 kB)\n",
            "Collecting aiohappyeyeballs>=2.5.0 (from aiohttp!=4.0.0a0,!=4.0.0a1->fsspec[http]<=2025.3.0,>=2023.1.0->datasets)\n",
            "  Using cached aiohappyeyeballs-2.6.1-py3-none-any.whl.metadata (5.9 kB)\n",
            "Collecting aiosignal>=1.1.2 (from aiohttp!=4.0.0a0,!=4.0.0a1->fsspec[http]<=2025.3.0,>=2023.1.0->datasets)\n",
            "  Using cached aiosignal-1.3.2-py2.py3-none-any.whl.metadata (3.8 kB)\n",
            "Collecting attrs>=17.3.0 (from aiohttp!=4.0.0a0,!=4.0.0a1->fsspec[http]<=2025.3.0,>=2023.1.0->datasets)\n",
            "  Using cached attrs-25.3.0-py3-none-any.whl.metadata (10 kB)\n",
            "Collecting frozenlist>=1.1.1 (from aiohttp!=4.0.0a0,!=4.0.0a1->fsspec[http]<=2025.3.0,>=2023.1.0->datasets)\n",
            "  Using cached frozenlist-1.7.0-cp311-cp311-manylinux_2_5_x86_64.manylinux1_x86_64.manylinux_2_17_x86_64.manylinux2014_x86_64.whl.metadata (18 kB)\n",
            "Collecting multidict<7.0,>=4.5 (from aiohttp!=4.0.0a0,!=4.0.0a1->fsspec[http]<=2025.3.0,>=2023.1.0->datasets)\n",
            "  Using cached multidict-6.4.4-cp311-cp311-manylinux_2_17_x86_64.manylinux2014_x86_64.whl.metadata (5.3 kB)\n",
            "Collecting propcache>=0.2.0 (from aiohttp!=4.0.0a0,!=4.0.0a1->fsspec[http]<=2025.3.0,>=2023.1.0->datasets)\n",
            "  Using cached propcache-0.3.2-cp311-cp311-manylinux_2_17_x86_64.manylinux2014_x86_64.whl.metadata (12 kB)\n",
            "Collecting yarl<2.0,>=1.17.0 (from aiohttp!=4.0.0a0,!=4.0.0a1->fsspec[http]<=2025.3.0,>=2023.1.0->datasets)\n",
            "  Using cached yarl-1.20.0-cp311-cp311-manylinux_2_17_x86_64.manylinux2014_x86_64.whl.metadata (72 kB)\n",
            "Collecting six>=1.5 (from python-dateutil>=2.8.2->pandas->datasets)\n",
            "  Using cached six-1.17.0-py2.py3-none-any.whl.metadata (1.7 kB)\n",
            "Using cached numpy-1.26.4-cp311-cp311-manylinux_2_17_x86_64.manylinux2014_x86_64.whl (18.3 MB)\n",
            "Using cached scipy-1.13.1-cp311-cp311-manylinux_2_17_x86_64.manylinux2014_x86_64.whl (38.6 MB)\n",
            "Using cached datasets-3.6.0-py3-none-any.whl (491 kB)\n",
            "Using cached gensim-4.3.3-cp311-cp311-manylinux_2_17_x86_64.manylinux2014_x86_64.whl (26.7 MB)\n",
            "Using cached dill-0.3.8-py3-none-any.whl (116 kB)\n",
            "Using cached fsspec-2025.3.0-py3-none-any.whl (193 kB)\n",
            "Using cached huggingface_hub-0.32.4-py3-none-any.whl (512 kB)\n",
            "Using cached multiprocess-0.70.16-py311-none-any.whl (143 kB)\n",
            "Using cached packaging-25.0-py3-none-any.whl (66 kB)\n",
            "Using cached pyarrow-20.0.0-cp311-cp311-manylinux_2_28_x86_64.whl (42.3 MB)\n",
            "Using cached PyYAML-6.0.2-cp311-cp311-manylinux_2_17_x86_64.manylinux2014_x86_64.whl (762 kB)\n",
            "Using cached requests-2.32.4-py3-none-any.whl (64 kB)\n",
            "Using cached smart_open-7.1.0-py3-none-any.whl (61 kB)\n",
            "Using cached tqdm-4.67.1-py3-none-any.whl (78 kB)\n",
            "Using cached filelock-3.18.0-py3-none-any.whl (16 kB)\n",
            "Using cached pandas-2.3.0-cp311-cp311-manylinux_2_17_x86_64.manylinux2014_x86_64.whl (12.4 MB)\n",
            "Using cached xxhash-3.5.0-cp311-cp311-manylinux_2_17_x86_64.manylinux2014_x86_64.whl (194 kB)\n",
            "Using cached aiohttp-3.12.11-cp311-cp311-manylinux_2_17_x86_64.manylinux2014_x86_64.whl (1.7 MB)\n",
            "Using cached certifi-2025.4.26-py3-none-any.whl (159 kB)\n",
            "Using cached charset_normalizer-3.4.2-cp311-cp311-manylinux_2_17_x86_64.manylinux2014_x86_64.whl (147 kB)\n",
            "Using cached hf_xet-1.1.3-cp37-abi3-manylinux_2_17_x86_64.manylinux2014_x86_64.whl (4.8 MB)\n",
            "Using cached idna-3.10-py3-none-any.whl (70 kB)\n",
            "Using cached python_dateutil-2.9.0.post0-py2.py3-none-any.whl (229 kB)\n",
            "Using cached pytz-2025.2-py2.py3-none-any.whl (509 kB)\n",
            "Using cached typing_extensions-4.14.0-py3-none-any.whl (43 kB)\n",
            "Using cached tzdata-2025.2-py2.py3-none-any.whl (347 kB)\n",
            "Using cached urllib3-2.4.0-py3-none-any.whl (128 kB)\n",
            "Using cached wrapt-1.17.2-cp311-cp311-manylinux_2_5_x86_64.manylinux1_x86_64.manylinux_2_17_x86_64.manylinux2014_x86_64.whl (83 kB)\n",
            "Using cached aiohappyeyeballs-2.6.1-py3-none-any.whl (15 kB)\n",
            "Using cached aiosignal-1.3.2-py2.py3-none-any.whl (7.6 kB)\n",
            "Using cached attrs-25.3.0-py3-none-any.whl (63 kB)\n",
            "Using cached frozenlist-1.7.0-cp311-cp311-manylinux_2_5_x86_64.manylinux1_x86_64.manylinux_2_17_x86_64.manylinux2014_x86_64.whl (235 kB)\n",
            "Using cached multidict-6.4.4-cp311-cp311-manylinux_2_17_x86_64.manylinux2014_x86_64.whl (223 kB)\n",
            "Using cached propcache-0.3.2-cp311-cp311-manylinux_2_17_x86_64.manylinux2014_x86_64.whl (213 kB)\n",
            "Using cached six-1.17.0-py2.py3-none-any.whl (11 kB)\n",
            "Using cached yarl-1.20.0-cp311-cp311-manylinux_2_17_x86_64.manylinux2014_x86_64.whl (358 kB)\n",
            "Installing collected packages: pytz, xxhash, wrapt, urllib3, tzdata, typing-extensions, tqdm, six, pyyaml, pyarrow, propcache, packaging, numpy, multidict, idna, hf-xet, fsspec, frozenlist, filelock, dill, charset_normalizer, certifi, attrs, aiohappyeyeballs, yarl, smart-open, scipy, requests, python-dateutil, multiprocess, aiosignal, pandas, huggingface-hub, gensim, aiohttp, datasets\n",
            "  Attempting uninstall: pytz\n",
            "    Found existing installation: pytz 2025.2\n",
            "    Uninstalling pytz-2025.2:\n",
            "      Successfully uninstalled pytz-2025.2\n",
            "  Attempting uninstall: xxhash\n",
            "    Found existing installation: xxhash 3.5.0\n",
            "    Uninstalling xxhash-3.5.0:\n",
            "      Successfully uninstalled xxhash-3.5.0\n",
            "  Attempting uninstall: wrapt\n",
            "    Found existing installation: wrapt 1.17.2\n",
            "    Uninstalling wrapt-1.17.2:\n",
            "      Successfully uninstalled wrapt-1.17.2\n",
            "  Attempting uninstall: urllib3\n",
            "    Found existing installation: urllib3 2.4.0\n",
            "    Uninstalling urllib3-2.4.0:\n",
            "      Successfully uninstalled urllib3-2.4.0\n",
            "  Attempting uninstall: tzdata\n",
            "    Found existing installation: tzdata 2025.2\n",
            "    Uninstalling tzdata-2025.2:\n",
            "      Successfully uninstalled tzdata-2025.2\n",
            "  Attempting uninstall: typing-extensions\n",
            "    Found existing installation: typing_extensions 4.14.0\n",
            "    Uninstalling typing_extensions-4.14.0:\n",
            "      Successfully uninstalled typing_extensions-4.14.0\n",
            "  Attempting uninstall: tqdm\n",
            "    Found existing installation: tqdm 4.67.1\n",
            "    Uninstalling tqdm-4.67.1:\n",
            "      Successfully uninstalled tqdm-4.67.1\n",
            "  Attempting uninstall: six\n",
            "    Found existing installation: six 1.17.0\n",
            "    Uninstalling six-1.17.0:\n",
            "      Successfully uninstalled six-1.17.0\n",
            "  Attempting uninstall: pyyaml\n",
            "    Found existing installation: PyYAML 6.0.2\n",
            "    Uninstalling PyYAML-6.0.2:\n",
            "      Successfully uninstalled PyYAML-6.0.2\n",
            "  Attempting uninstall: pyarrow\n",
            "    Found existing installation: pyarrow 20.0.0\n",
            "    Uninstalling pyarrow-20.0.0:\n",
            "      Successfully uninstalled pyarrow-20.0.0\n",
            "  Attempting uninstall: propcache\n",
            "    Found existing installation: propcache 0.3.2\n",
            "    Uninstalling propcache-0.3.2:\n",
            "      Successfully uninstalled propcache-0.3.2\n",
            "  Attempting uninstall: packaging\n",
            "    Found existing installation: packaging 25.0\n",
            "    Uninstalling packaging-25.0:\n",
            "      Successfully uninstalled packaging-25.0\n",
            "  Attempting uninstall: numpy\n",
            "    Found existing installation: numpy 1.26.4\n",
            "    Uninstalling numpy-1.26.4:\n",
            "      Successfully uninstalled numpy-1.26.4\n",
            "  Attempting uninstall: multidict\n",
            "    Found existing installation: multidict 6.4.4\n",
            "    Uninstalling multidict-6.4.4:\n",
            "      Successfully uninstalled multidict-6.4.4\n",
            "  Attempting uninstall: idna\n",
            "    Found existing installation: idna 3.10\n",
            "    Uninstalling idna-3.10:\n",
            "      Successfully uninstalled idna-3.10\n",
            "  Attempting uninstall: hf-xet\n",
            "    Found existing installation: hf-xet 1.1.3\n",
            "    Uninstalling hf-xet-1.1.3:\n",
            "      Successfully uninstalled hf-xet-1.1.3\n",
            "  Attempting uninstall: fsspec\n",
            "    Found existing installation: fsspec 2025.3.0\n",
            "    Uninstalling fsspec-2025.3.0:\n",
            "      Successfully uninstalled fsspec-2025.3.0\n",
            "  Attempting uninstall: frozenlist\n",
            "    Found existing installation: frozenlist 1.7.0\n",
            "    Uninstalling frozenlist-1.7.0:\n",
            "      Successfully uninstalled frozenlist-1.7.0\n",
            "  Attempting uninstall: filelock\n",
            "    Found existing installation: filelock 3.18.0\n",
            "    Uninstalling filelock-3.18.0:\n",
            "      Successfully uninstalled filelock-3.18.0\n",
            "  Attempting uninstall: dill\n",
            "    Found existing installation: dill 0.3.8\n",
            "    Uninstalling dill-0.3.8:\n",
            "      Successfully uninstalled dill-0.3.8\n",
            "  Attempting uninstall: charset_normalizer\n",
            "    Found existing installation: charset-normalizer 3.4.2\n",
            "    Uninstalling charset-normalizer-3.4.2:\n",
            "      Successfully uninstalled charset-normalizer-3.4.2\n",
            "  Attempting uninstall: certifi\n",
            "    Found existing installation: certifi 2025.4.26\n",
            "    Uninstalling certifi-2025.4.26:\n",
            "      Successfully uninstalled certifi-2025.4.26\n",
            "  Attempting uninstall: attrs\n",
            "    Found existing installation: attrs 25.3.0\n",
            "    Uninstalling attrs-25.3.0:\n",
            "      Successfully uninstalled attrs-25.3.0\n",
            "  Attempting uninstall: aiohappyeyeballs\n",
            "    Found existing installation: aiohappyeyeballs 2.6.1\n",
            "    Uninstalling aiohappyeyeballs-2.6.1:\n",
            "      Successfully uninstalled aiohappyeyeballs-2.6.1\n",
            "  Attempting uninstall: yarl\n",
            "    Found existing installation: yarl 1.20.0\n",
            "    Uninstalling yarl-1.20.0:\n",
            "      Successfully uninstalled yarl-1.20.0\n",
            "  Attempting uninstall: smart-open\n",
            "    Found existing installation: smart-open 7.1.0\n",
            "    Uninstalling smart-open-7.1.0:\n",
            "      Successfully uninstalled smart-open-7.1.0\n",
            "  Attempting uninstall: scipy\n",
            "    Found existing installation: scipy 1.13.1\n",
            "    Uninstalling scipy-1.13.1:\n",
            "      Successfully uninstalled scipy-1.13.1\n",
            "  Attempting uninstall: requests\n",
            "    Found existing installation: requests 2.32.4\n",
            "    Uninstalling requests-2.32.4:\n",
            "      Successfully uninstalled requests-2.32.4\n",
            "  Attempting uninstall: python-dateutil\n",
            "    Found existing installation: python-dateutil 2.9.0.post0\n",
            "    Uninstalling python-dateutil-2.9.0.post0:\n",
            "      Successfully uninstalled python-dateutil-2.9.0.post0\n",
            "  Attempting uninstall: multiprocess\n",
            "    Found existing installation: multiprocess 0.70.16\n",
            "    Uninstalling multiprocess-0.70.16:\n",
            "      Successfully uninstalled multiprocess-0.70.16\n",
            "  Attempting uninstall: aiosignal\n",
            "    Found existing installation: aiosignal 1.3.2\n",
            "    Uninstalling aiosignal-1.3.2:\n",
            "      Successfully uninstalled aiosignal-1.3.2\n",
            "  Attempting uninstall: pandas\n",
            "    Found existing installation: pandas 2.3.0\n",
            "    Uninstalling pandas-2.3.0:\n",
            "      Successfully uninstalled pandas-2.3.0\n",
            "  Attempting uninstall: huggingface-hub\n",
            "    Found existing installation: huggingface-hub 0.32.4\n",
            "    Uninstalling huggingface-hub-0.32.4:\n",
            "      Successfully uninstalled huggingface-hub-0.32.4\n",
            "  Attempting uninstall: gensim\n",
            "    Found existing installation: gensim 4.3.3\n",
            "    Uninstalling gensim-4.3.3:\n",
            "      Successfully uninstalled gensim-4.3.3\n",
            "  Attempting uninstall: aiohttp\n",
            "    Found existing installation: aiohttp 3.12.11\n",
            "    Uninstalling aiohttp-3.12.11:\n",
            "      Successfully uninstalled aiohttp-3.12.11\n",
            "  Attempting uninstall: datasets\n",
            "    Found existing installation: datasets 3.6.0\n",
            "    Uninstalling datasets-3.6.0:\n",
            "      Successfully uninstalled datasets-3.6.0\n",
            "\u001b[31mERROR: pip's dependency resolver does not currently take into account all the packages that are installed. This behaviour is the source of the following dependency conflicts.\n",
            "google-colab 1.0.0 requires pandas==2.2.2, but you have pandas 2.3.0 which is incompatible.\n",
            "google-colab 1.0.0 requires requests==2.32.3, but you have requests 2.32.4 which is incompatible.\n",
            "langchain-core 0.3.63 requires packaging<25,>=23.2, but you have packaging 25.0 which is incompatible.\n",
            "gcsfs 2025.3.2 requires fsspec==2025.3.2, but you have fsspec 2025.3.0 which is incompatible.\n",
            "dask-cudf-cu12 25.2.2 requires pandas<2.2.4dev0,>=2.0, but you have pandas 2.3.0 which is incompatible.\n",
            "torch 2.6.0+cu124 requires nvidia-cublas-cu12==12.4.5.8; platform_system == \"Linux\" and platform_machine == \"x86_64\", but you have nvidia-cublas-cu12 12.5.3.2 which is incompatible.\n",
            "torch 2.6.0+cu124 requires nvidia-cuda-cupti-cu12==12.4.127; platform_system == \"Linux\" and platform_machine == \"x86_64\", but you have nvidia-cuda-cupti-cu12 12.5.82 which is incompatible.\n",
            "torch 2.6.0+cu124 requires nvidia-cuda-nvrtc-cu12==12.4.127; platform_system == \"Linux\" and platform_machine == \"x86_64\", but you have nvidia-cuda-nvrtc-cu12 12.5.82 which is incompatible.\n",
            "torch 2.6.0+cu124 requires nvidia-cuda-runtime-cu12==12.4.127; platform_system == \"Linux\" and platform_machine == \"x86_64\", but you have nvidia-cuda-runtime-cu12 12.5.82 which is incompatible.\n",
            "torch 2.6.0+cu124 requires nvidia-cudnn-cu12==9.1.0.70; platform_system == \"Linux\" and platform_machine == \"x86_64\", but you have nvidia-cudnn-cu12 9.3.0.75 which is incompatible.\n",
            "torch 2.6.0+cu124 requires nvidia-cufft-cu12==11.2.1.3; platform_system == \"Linux\" and platform_machine == \"x86_64\", but you have nvidia-cufft-cu12 11.2.3.61 which is incompatible.\n",
            "torch 2.6.0+cu124 requires nvidia-curand-cu12==10.3.5.147; platform_system == \"Linux\" and platform_machine == \"x86_64\", but you have nvidia-curand-cu12 10.3.6.82 which is incompatible.\n",
            "torch 2.6.0+cu124 requires nvidia-cusolver-cu12==11.6.1.9; platform_system == \"Linux\" and platform_machine == \"x86_64\", but you have nvidia-cusolver-cu12 11.6.3.83 which is incompatible.\n",
            "torch 2.6.0+cu124 requires nvidia-cusparse-cu12==12.3.1.170; platform_system == \"Linux\" and platform_machine == \"x86_64\", but you have nvidia-cusparse-cu12 12.5.1.3 which is incompatible.\n",
            "torch 2.6.0+cu124 requires nvidia-nvjitlink-cu12==12.4.127; platform_system == \"Linux\" and platform_machine == \"x86_64\", but you have nvidia-nvjitlink-cu12 12.5.82 which is incompatible.\n",
            "cudf-cu12 25.2.1 requires pandas<2.2.4dev0,>=2.0, but you have pandas 2.3.0 which is incompatible.\n",
            "cudf-cu12 25.2.1 requires pyarrow<20.0.0a0,>=14.0.0; platform_machine == \"x86_64\", but you have pyarrow 20.0.0 which is incompatible.\n",
            "pylibcudf-cu12 25.2.1 requires pyarrow<20.0.0a0,>=14.0.0; platform_machine == \"x86_64\", but you have pyarrow 20.0.0 which is incompatible.\n",
            "thinc 8.3.6 requires numpy<3.0.0,>=2.0.0, but you have numpy 1.26.4 which is incompatible.\n",
            "tsfresh 0.21.0 requires scipy>=1.14.0; python_version >= \"3.10\", but you have scipy 1.13.1 which is incompatible.\u001b[0m\u001b[31m\n",
            "\u001b[0mSuccessfully installed aiohappyeyeballs-2.6.1 aiohttp-3.12.11 aiosignal-1.3.2 attrs-25.3.0 certifi-2025.4.26 charset_normalizer-3.4.2 datasets-3.6.0 dill-0.3.8 filelock-3.18.0 frozenlist-1.7.0 fsspec-2025.3.0 gensim-4.3.3 hf-xet-1.1.3 huggingface-hub-0.32.4 idna-3.10 multidict-6.4.4 multiprocess-0.70.16 numpy-1.26.4 packaging-25.0 pandas-2.3.0 propcache-0.3.2 pyarrow-20.0.0 python-dateutil-2.9.0.post0 pytz-2025.2 pyyaml-6.0.2 requests-2.32.4 scipy-1.13.1 six-1.17.0 smart-open-7.1.0 tqdm-4.67.1 typing-extensions-4.14.0 tzdata-2025.2 urllib3-2.4.0 wrapt-1.17.2 xxhash-3.5.0 yarl-1.20.0\n"
          ]
        },
        {
          "output_type": "display_data",
          "data": {
            "application/vnd.colab-display-data+json": {
              "pip_warning": {
                "packages": [
                  "certifi",
                  "dateutil",
                  "six"
                ]
              },
              "id": "ae94577396604bd68fc1fded61184982"
            }
          },
          "metadata": {}
        }
      ]
    },
    {
      "cell_type": "markdown",
      "source": [
        "### 1. Dataset Overview"
      ],
      "metadata": {
        "id": "ClDnDxDmyj0U"
      }
    },
    {
      "cell_type": "code",
      "source": [
        "# Install the `datasets` library if it's not already installed\n",
        "\n",
        "from datasets import load_dataset\n",
        "\n",
        "# Login using e.g. `huggingface-cli login` to access this dataset\n",
        "dataset = load_dataset(\"surrey-nlp/PLOD-CW-25\")"
      ],
      "metadata": {
        "colab": {
          "base_uri": "https://localhost:8080/",
          "height": 365,
          "referenced_widgets": [
            "87cdafe76c4448e88e23c20f566bd98f",
            "78b0d68aaf364fb6b713103fb7c04ee9",
            "82e86db65d0045cc9c64371a3baaf971",
            "1925b0edb2064bf694291bd9e8c3fcd2",
            "97624c2d9f79482e9f36a3cadb9a2d07",
            "700ee337c60a4b068c83a279f66b84ce",
            "ae785123df9a4da4ab600a5614614b77",
            "4ac85e7eb1994d248e8724595f8a5591",
            "a8329e17c6014724a2b5c5d119d179f3",
            "0b731622d39b44be893137275a77ed87",
            "b57958aea05e4c45bf9fceeb7b9ff5d1",
            "9d482bb5a0a5473ba0636026afeb2747",
            "2d49ce6abf314d26af1bbf01dce53752",
            "a53b526baeef4342a191299bdb16190d",
            "9602e5d91e9c494a87fe667c4a227c25",
            "cc743a567b0743b0b32b9d6017be3aec",
            "5dd544092b2c4655989e88911e5cc4c8",
            "b025ed5e43c14813bca9da26c3611975",
            "d41ebf22a29145a4a3669a3bd17ceba3",
            "49e0261ca5ed47e7beec04cdd334c14b",
            "e833641de1f14baa9cc3f5eee27966b6",
            "56d6f16a65cc4609ad8c3b05140432de",
            "1bf6a53f81684b41b06ce2327c3e6fb9",
            "016f9727ab894d999530232cc2307438",
            "ad116e2fd81942d999ab77461a67c306",
            "4ea39100b8704b5eb9ef88cbf288d4c3",
            "9b05dd5c55c04ff0a3279aa93d79a95c",
            "01e52095b0a147aaa89c29dd0d272ef5",
            "e23fc2e65d07457d9c85864e5ded9ae3",
            "325b0f5166154ad1a8ddcfad92ae1496",
            "6a1a08e30739451184b6f845066fd7cc",
            "f8c842cca51046f68a33efc837b25371",
            "5937a2e2acac41b18aa12a3135816111",
            "a224d526579f46498fe1c839d5c8204f",
            "a60355c7924a494799c53e1849dac612",
            "49c41ec9711f4cfa868c4256d2dfe242",
            "a07de425b85a479589f0acd86229cab6",
            "4fc7d13161db43538b253bd79b4127aa",
            "47542633b64a4115af648d40f6d697d3",
            "86db30ae60d1464ba08fb8f7af2b084e",
            "66e48d2708b04ff08e771388dcc85f08",
            "85f8df82d5914bd1ac6e79d28bbe34ab",
            "d223406990f74aba801c2b0ad76d94e0",
            "562f0f4c86ae4233a4f7403f92530945",
            "a48dbe7d70ac461fafffa1488a1d57ea",
            "8ceaa95549f14975b94e99a7a58e3554",
            "7e829b074c454574a484816adf21462f",
            "1a41d56c55194e909e6e0277e7b460fd",
            "2bce594a74eb44a194b25509271706ef",
            "2ca6c540fdc64efdb707664ba8d9f4fc",
            "5b29ceb2bbb8403885a966b8c06a5b86",
            "7348e355872d43108506c760564d66f3",
            "16838cadaaf545b9b71330f95368b83f",
            "b70a9b848f204209adf6340fdfb1638d",
            "654e038234e74b88a0dd2ca28e708f11",
            "9d39d912d8e04958ab88f520f439a090",
            "2edd071902f84eb1b4b23301f4c8acbd",
            "c6a64deb473c4c29906716af5ff18c10",
            "0e141c781aba4de990b1f5a78cfb90aa",
            "2863d7cdc59f4956bdad82a203e1818b",
            "45c3e37c2f714b3ca87ec9732a12bf6e",
            "f567bae9daf341fc822c9b0f6bff9448",
            "c0a4d37a987f4354ba43a36d922d1300",
            "015051c5e7de4fb49a20413aa2cb7ad1",
            "ab4375d63a9f4fca8448a99d29bf30e9",
            "41dbf08059ac4a429b5716f550c1bbcc",
            "c362d4a698ab442ea0bbe4490ab83fbb",
            "89711ad4c62549a283c6540831a33c97",
            "31020753f7ae48879308ea2c98cac9f4",
            "82509ba34ed74213a6bc9a1d7eed61db",
            "8a396c2b31404bcc92ff6adf23a6a081",
            "bfc421befe4546059836a85b84538c83",
            "7bdac1361a78495b9dc5a741412ecdf7",
            "a6e034497bc0444a9e87146befa3b9ae",
            "a2a3cdc9c7bb423bb13bf82f9dc78e3a",
            "453f9e1750eb49a5ac32fc04ff693123",
            "b2776cddcac64a728026fc5e1a63377c"
          ]
        },
        "id": "bXKwZGEgUEoz",
        "outputId": "d092402a-ab21-4e20-e92b-b52e80db72b9"
      },
      "execution_count": 2,
      "outputs": [
        {
          "output_type": "stream",
          "name": "stderr",
          "text": [
            "/usr/local/lib/python3.11/dist-packages/huggingface_hub/utils/_auth.py:94: UserWarning: \n",
            "The secret `HF_TOKEN` does not exist in your Colab secrets.\n",
            "To authenticate with the Hugging Face Hub, create a token in your settings tab (https://huggingface.co/settings/tokens), set it as secret in your Google Colab and restart your session.\n",
            "You will be able to reuse this secret in all of your notebooks.\n",
            "Please note that authentication is recommended but still optional to access public models or datasets.\n",
            "  warnings.warn(\n"
          ]
        },
        {
          "output_type": "display_data",
          "data": {
            "text/plain": [
              "README.md:   0%|          | 0.00/268 [00:00<?, ?B/s]"
            ],
            "application/vnd.jupyter.widget-view+json": {
              "version_major": 2,
              "version_minor": 0,
              "model_id": "87cdafe76c4448e88e23c20f566bd98f"
            }
          },
          "metadata": {}
        },
        {
          "output_type": "display_data",
          "data": {
            "text/plain": [
              "PLOD-CW-25-Train.parquet:   0%|          | 0.00/343k [00:00<?, ?B/s]"
            ],
            "application/vnd.jupyter.widget-view+json": {
              "version_major": 2,
              "version_minor": 0,
              "model_id": "9d482bb5a0a5473ba0636026afeb2747"
            }
          },
          "metadata": {}
        },
        {
          "output_type": "display_data",
          "data": {
            "text/plain": [
              "PLOD-CW-25-Test.parquet:   0%|          | 0.00/55.5k [00:00<?, ?B/s]"
            ],
            "application/vnd.jupyter.widget-view+json": {
              "version_major": 2,
              "version_minor": 0,
              "model_id": "1bf6a53f81684b41b06ce2327c3e6fb9"
            }
          },
          "metadata": {}
        },
        {
          "output_type": "display_data",
          "data": {
            "text/plain": [
              "PLOD-CW-25-Val.parquet:   0%|          | 0.00/35.9k [00:00<?, ?B/s]"
            ],
            "application/vnd.jupyter.widget-view+json": {
              "version_major": 2,
              "version_minor": 0,
              "model_id": "a224d526579f46498fe1c839d5c8204f"
            }
          },
          "metadata": {}
        },
        {
          "output_type": "display_data",
          "data": {
            "text/plain": [
              "Generating train split:   0%|          | 0/2000 [00:00<?, ? examples/s]"
            ],
            "application/vnd.jupyter.widget-view+json": {
              "version_major": 2,
              "version_minor": 0,
              "model_id": "a48dbe7d70ac461fafffa1488a1d57ea"
            }
          },
          "metadata": {}
        },
        {
          "output_type": "display_data",
          "data": {
            "text/plain": [
              "Generating test split:   0%|          | 0/250 [00:00<?, ? examples/s]"
            ],
            "application/vnd.jupyter.widget-view+json": {
              "version_major": 2,
              "version_minor": 0,
              "model_id": "9d39d912d8e04958ab88f520f439a090"
            }
          },
          "metadata": {}
        },
        {
          "output_type": "display_data",
          "data": {
            "text/plain": [
              "Generating validation split:   0%|          | 0/150 [00:00<?, ? examples/s]"
            ],
            "application/vnd.jupyter.widget-view+json": {
              "version_major": 2,
              "version_minor": 0,
              "model_id": "c362d4a698ab442ea0bbe4490ab83fbb"
            }
          },
          "metadata": {}
        }
      ]
    },
    {
      "cell_type": "code",
      "source": [
        "dataset"
      ],
      "metadata": {
        "id": "zl0Z_NgBUNAQ",
        "colab": {
          "base_uri": "https://localhost:8080/"
        },
        "outputId": "76cae8df-7d74-49d7-c9ef-8afd2e5121b0"
      },
      "execution_count": 3,
      "outputs": [
        {
          "output_type": "execute_result",
          "data": {
            "text/plain": [
              "DatasetDict({\n",
              "    train: Dataset({\n",
              "        features: ['tokens', 'pos_tags', 'ner_tags'],\n",
              "        num_rows: 2000\n",
              "    })\n",
              "    test: Dataset({\n",
              "        features: ['tokens', 'pos_tags', 'ner_tags'],\n",
              "        num_rows: 250\n",
              "    })\n",
              "    validation: Dataset({\n",
              "        features: ['tokens', 'pos_tags', 'ner_tags'],\n",
              "        num_rows: 150\n",
              "    })\n",
              "})"
            ]
          },
          "metadata": {},
          "execution_count": 3
        }
      ]
    },
    {
      "cell_type": "markdown",
      "source": [
        "##### Checking missing values"
      ],
      "metadata": {
        "id": "gf_tXhY7Bpjr"
      }
    },
    {
      "cell_type": "code",
      "source": [
        "def check_missing(dataset_split):\n",
        "    missing_counts = {}\n",
        "    for feature in dataset_split.features:\n",
        "        count = sum(1 for example in dataset_split if example[feature] is None)\n",
        "        missing_counts[feature] = count\n",
        "    return missing_counts\n",
        "\n",
        "for split in dataset:\n",
        "    print(f\"\\nMissing values in {split}:\")\n",
        "    print(check_missing(dataset[split]))\n"
      ],
      "metadata": {
        "id": "tp2YcDePBiDh",
        "colab": {
          "base_uri": "https://localhost:8080/"
        },
        "outputId": "583eb39c-a9b4-474a-ce8d-4eb72b250ed9"
      },
      "execution_count": 4,
      "outputs": [
        {
          "output_type": "stream",
          "name": "stdout",
          "text": [
            "\n",
            "Missing values in train:\n",
            "{'tokens': 0, 'pos_tags': 0, 'ner_tags': 0}\n",
            "\n",
            "Missing values in test:\n",
            "{'tokens': 0, 'pos_tags': 0, 'ner_tags': 0}\n",
            "\n",
            "Missing values in validation:\n",
            "{'tokens': 0, 'pos_tags': 0, 'ner_tags': 0}\n"
          ]
        }
      ]
    },
    {
      "cell_type": "code",
      "source": [
        "#Get the total number of sentences in each split\n",
        "print(\"\\nNumber of Sentences in Each Split:\")\n",
        "for split in dataset.keys():\n",
        "    print(f\"{split.capitalize()} Split: {len(dataset[split])} sentences\")"
      ],
      "metadata": {
        "id": "yGQEXuHkyd4K",
        "colab": {
          "base_uri": "https://localhost:8080/"
        },
        "outputId": "803c525b-e1a4-47f7-b42c-d0e6b0e767e5"
      },
      "execution_count": 5,
      "outputs": [
        {
          "output_type": "stream",
          "name": "stdout",
          "text": [
            "\n",
            "Number of Sentences in Each Split:\n",
            "Train Split: 2000 sentences\n",
            "Test Split: 250 sentences\n",
            "Validation Split: 150 sentences\n"
          ]
        }
      ]
    },
    {
      "cell_type": "markdown",
      "source": [
        "##### Token and TAG Distributions"
      ],
      "metadata": {
        "id": "6wmz6wu5B22G"
      }
    },
    {
      "cell_type": "code",
      "source": [
        "from collections import Counter\n",
        "import matplotlib.pyplot as plt\n",
        "\n",
        "# Flatten all tokens from train split and convert to lowercase\n",
        "all_tokens = [token.lower() for example in dataset['train'] for token in example['tokens']]\n",
        "token_freq = Counter(all_tokens)\n",
        "top_tokens = token_freq.most_common(20)\n",
        "\n",
        "# Plot top 20 most frequent tokens\n",
        "words, freqs = zip(*top_tokens)\n",
        "plt.figure(figsize=(10,4))\n",
        "plt.bar(words, freqs)\n",
        "plt.xticks(rotation=45)\n",
        "plt.title(\"Top 20 Frequent Tokens\")\n",
        "plt.show()"
      ],
      "metadata": {
        "id": "BOgQdRM5zbfV",
        "colab": {
          "base_uri": "https://localhost:8080/",
          "height": 410
        },
        "outputId": "84418c15-7cce-4156-b374-c4c50abf6432"
      },
      "execution_count": 6,
      "outputs": [
        {
          "output_type": "display_data",
          "data": {
            "text/plain": [
              "<Figure size 1000x400 with 1 Axes>"
            ],
            "image/png": "[encoded data removed]"
          },
          "metadata": {}
        }
      ]
    },
    {
      "cell_type": "markdown",
      "source": [
        "Key insights:\n",
        "1. Punctuation (',', '(', ')', '.') and stopwords (\"the\", \"of\", \"and\") are the most frequent tokens.\n",
        "\n",
        "2. Biomedical terms or abbreviations are not visible in the top 20.\n",
        "\n",
        "3. Suggests that non-entity tokens dominate the dataset, highlighting the importance of focusing on labeled tokens for biomedical analysis."
      ],
      "metadata": {
        "id": "U94_sxf70mi2"
      }
    },
    {
      "cell_type": "code",
      "source": [
        "from collections import Counter\n",
        "\n",
        "all_pos = [pos for sentence in dataset['train']['pos_tags'] for pos in sentence]\n",
        "pos_counts = Counter(all_pos)\n",
        "\n",
        "plt.figure(figsize=(8, 4))\n",
        "plt.bar(pos_counts.keys(), pos_counts.values())\n",
        "plt.title(\"POS Tag Distribution (Training Set)\")\n",
        "plt.xlabel(\"POS Tag\")\n",
        "plt.ylabel(\"Frequency\")\n",
        "plt.xticks(rotation=45)\n",
        "plt.grid(axis='y')\n",
        "plt.tight_layout()\n",
        "plt.show()"
      ],
      "metadata": {
        "id": "gy7UuciPzffu",
        "colab": {
          "base_uri": "https://localhost:8080/",
          "height": 407
        },
        "outputId": "78fd1b93-3b19-48b1-964d-bb7284496766"
      },
      "execution_count": 8,
      "outputs": [
        {
          "output_type": "display_data",
          "data": {
            "text/plain": [
              "<Figure size 800x400 with 1 Axes>"
            ],
            "image/png": "[encoded data removed]"
          },
          "metadata": {}
        }
      ]
    },
    {
      "cell_type": "markdown",
      "source": [
        "Key insights:\n",
        "\n",
        "1. NOUN and PUNCT are the most frequent POS tags, followed by proper nouns (PROPN) and adjectives (ADJ).\n",
        "\n",
        "2. Indicates that biomedical terms likely appear as nouns or proper nouns, with heavy punctuation usage (typical of scientific text)."
      ],
      "metadata": {
        "id": "2AxpX_ZP0ex0"
      }
    },
    {
      "cell_type": "code",
      "source": [
        "from collections import Counter\n",
        "import matplotlib.pyplot as plt\n",
        "\n",
        "# Flatten all NER tags from the training set\n",
        "all_ner_labels = [label for ex in dataset['train'] for label in ex['ner_tags']]\n",
        "\n",
        "# Count the frequency of each NER tag\n",
        "label_counts = Counter(all_ner_labels)\n",
        "\n",
        "# Plot the distribution\n",
        "plt.bar(label_counts.keys(), label_counts.values())\n",
        "plt.title(\"NER Label Distribution in Training Set\")\n",
        "plt.xlabel(\"NER Label\")\n",
        "plt.ylabel(\"Count\")\n",
        "plt.show()"
      ],
      "metadata": {
        "id": "xkJeBhBbzjFh",
        "colab": {
          "base_uri": "https://localhost:8080/",
          "height": 472
        },
        "outputId": "4190488f-21a0-4d3f-f5d2-5921a7e3cf06"
      },
      "execution_count": 9,
      "outputs": [
        {
          "output_type": "display_data",
          "data": {
            "text/plain": [
              "<Figure size 640x480 with 1 Axes>"
            ],
            "image/png": "[encoded data removed]"
          },
          "metadata": {}
        }
      ]
    },
    {
      "cell_type": "markdown",
      "source": [
        "Key insights\n",
        "\n",
        "1. Majority of tokens are labeled as O (non-entity).\n",
        "\n",
        "2. Among labeled tokens, I-LF (inside long-form) is the most common, followed by B-AC (abbreviation) and B-LF (begin long-form).\n",
        "\n",
        "3. Shows class imbalance, with many more non-entity tokens than labeled entities — important for model training and evaluation."
      ],
      "metadata": {
        "id": "Tuo1xedY01PH"
      }
    },
    {
      "cell_type": "markdown",
      "source": [
        "### 2. Word Frequency (excluding 'O')"
      ],
      "metadata": {
        "id": "NMyfjdD2VYsm"
      }
    },
    {
      "cell_type": "code",
      "source": [
        "# TODO: ADD THE GRAPH FOR WORD FREQUENCY IGNORING THE 'O' TAGS -> amir\n",
        "from collections import Counter\n",
        "import matplotlib.pyplot as plt\n",
        "\n",
        "tokens = []\n",
        "\n",
        "for row in dataset['train']:\n",
        "  for token, tag in zip(row['tokens'], row['ner_tags']):\n",
        "    if tag != 'O' and len(token) > 1:\n",
        "      tokens.append(token)\n",
        "\n",
        "token_freq = Counter(tokens)\n",
        "top_tokens = token_freq.most_common(20)\n",
        "print(top_tokens)\n",
        "\n",
        "words, freqs = zip(*top_tokens)\n",
        "plt.figure(figsize=(15,5))\n",
        "plt.bar(words, freqs)\n"
      ],
      "metadata": {
        "id": "V9qk6viZjf0P",
        "colab": {
          "base_uri": "https://localhost:8080/",
          "height": 478
        },
        "outputId": "ad848654-da4a-4c8f-8669-5f62262c4616"
      },
      "execution_count": 10,
      "outputs": [
        {
          "output_type": "stream",
          "name": "stdout",
          "text": [
            "[('of', 217), ('protein', 137), ('and', 101), ('ratio', 83), ('cell', 82), ('disease', 82), ('the', 74), ('type', 69), ('receptor', 62), ('CI', 61), ('RNA', 56), ('for', 55), ('mass', 51), ('factor', 50), ('index', 49), ('interval', 48), ('WT', 47), ('rate', 46), ('acid', 46), ('confidence', 45)]\n"
          ]
        },
        {
          "output_type": "execute_result",
          "data": {
            "text/plain": [
              "<BarContainer object of 20 artists>"
            ]
          },
          "metadata": {},
          "execution_count": 10
        },
        {
          "output_type": "display_data",
          "data": {
            "text/plain": [
              "<Figure size 1500x500 with 1 Axes>"
            ],
            "image/png": "[encoded data removed]"
          },
          "metadata": {}
        }
      ]
    },
    {
      "cell_type": "markdown",
      "source": [
        "Key insights:\n",
        "\n",
        "1.Generic words like “of”, “and”, and “the” still appear frequently even in labeled tokens, suggesting that some long-forms may contain common English words.\n",
        "\n",
        "2. Domain-specific terms such as “protein”, “cell”, “disease”, “ratio”, “receptor”, and “RNA” are among the top frequent labeled tokens, reflecting the biomedical nature of the dataset.\n",
        "\n",
        "3. Some abbreviations like “CI”, “WT”, and “RNA” appear, indicating that abbreviation labels (B-AC) are being captured in the top frequencies.\n",
        "\n",
        "4. The presence of common functional words in the labeled tokens highlights that biomedical entities often contain stopwords (e.g., \"confidence interval\", \"protein of interest\")."
      ],
      "metadata": {
        "id": "LIg9sIwQ18of"
      }
    },
    {
      "cell_type": "markdown",
      "source": [
        "### 3. Top Abbreviated Words"
      ],
      "metadata": {
        "id": "TbeG_bVv2dnV"
      }
    },
    {
      "cell_type": "code",
      "source": [
        "# TODO: SHOW TOP ABBRIVIATED WORDS -> shivasmi\n",
        "from collections import Counter\n",
        "import matplotlib.pyplot as plt\n",
        "import re\n",
        "\n",
        "abbreviation_counts = Counter()\n",
        "\n",
        "# Working only on the train split\n",
        "for example in dataset[\"train\"]:\n",
        "    tokens = example['tokens']\n",
        "    tags = example['ner_tags']\n",
        "\n",
        "    for token, tag in zip(tokens, tags):\n",
        "        # Allow letters (A-Z, a-z), numbers (0-9), and hyphens (-), length > 1\n",
        "        if tag == \"B-AC\" and re.match(r\"^[A-Za-z0-9\\-]+$\", token) and len(token) > 1:\n",
        "            abbreviation_counts[token] += 1\n",
        "\n",
        "# Show Top 10 Abbreviated Words after filtering\n",
        "print(\"\\nTop Abbreviated Words:\")\n",
        "for abbr, count in abbreviation_counts.most_common(10):\n",
        "    print(f\"{abbr:<10} → {count}\")"
      ],
      "metadata": {
        "id": "oTQlfmgWjigo",
        "colab": {
          "base_uri": "https://localhost:8080/"
        },
        "outputId": "203627da-21f4-458d-b724-9c48c712e739"
      },
      "execution_count": 11,
      "outputs": [
        {
          "output_type": "stream",
          "name": "stdout",
          "text": [
            "\n",
            "Top Abbreviated Words:\n",
            "CI         → 61\n",
            "WT         → 47\n",
            "HR         → 40\n",
            "OR         → 40\n",
            "BMI        → 39\n",
            "GFP        → 39\n",
            "TB         → 31\n",
            "SD         → 28\n",
            "MS         → 24\n",
            "KO         → 20\n"
          ]
        }
      ]
    },
    {
      "cell_type": "code",
      "source": [
        "# Get the top 10 abbreviations and their counts\n",
        "top_abbr, top_counts = zip(*abbreviation_counts.most_common(10))\n",
        "\n",
        "# Plotting with better style\n",
        "plt.figure(figsize=(10, 6))\n",
        "bars = plt.bar(top_abbr, top_counts, color='#4c72b0', edgecolor='black', linewidth=1.2)\n",
        "\n",
        "# Add count labels on top of bars\n",
        "for bar in bars:\n",
        "    height = bar.get_height()\n",
        "    plt.annotate(f'{height}',\n",
        "                 xy=(bar.get_x() + bar.get_width() / 2, height),\n",
        "                 xytext=(0, 5),  # Offset label position\n",
        "                 textcoords=\"offset points\",\n",
        "                 ha='center', va='bottom', fontsize=10, fontweight='bold')\n",
        "\n",
        "# Customizing the plot\n",
        "plt.title(\"Top Abbreviated Words in Biomedical Text\", fontsize=16, fontweight='bold', color='#333333')\n",
        "plt.xlabel(\"Abbreviation\", fontsize=12, fontweight='bold')\n",
        "plt.ylabel(\"Frequency\", fontsize=12, fontweight='bold')\n",
        "plt.xticks(rotation=45, fontsize=10)\n",
        "plt.yticks(fontsize=10)\n",
        "plt.grid(axis='y', linestyle='--', alpha=0.7)\n",
        "\n",
        "# Remove top and right spines for a cleaner look\n",
        "plt.gca().spines['top'].set_visible(False)\n",
        "plt.gca().spines['right'].set_visible(False)\n",
        "\n",
        "plt.tight_layout()\n",
        "plt.show()"
      ],
      "metadata": {
        "id": "BUEC6yT-2trA",
        "colab": {
          "base_uri": "https://localhost:8080/",
          "height": 607
        },
        "outputId": "7efc6b6b-0457-45ef-bc6e-fe315f8ff262"
      },
      "execution_count": 12,
      "outputs": [
        {
          "output_type": "display_data",
          "data": {
            "text/plain": [
              "<Figure size 1000x600 with 1 Axes>"
            ],
            "image/png": "[encoded data removed]"
          },
          "metadata": {}
        }
      ]
    },
    {
      "cell_type": "markdown",
      "source": [
        "Key insights:\n",
        "\n",
        "1. “CI” and “WT” are the most frequent abbreviations, followed by “HR”, “OR”, and “BMI”.\n",
        "\n",
        "2. Abbreviations reflect a mix of statistical terms (e.g., CI, HR, OR) and biomedical entities/diseases (e.g., GFP, TB, MS).\n",
        "\n",
        "  Indicates the need for domain-aware abbreviation handling in the model."
      ],
      "metadata": {
        "id": "60mnNXbU3PE3"
      }
    },
    {
      "cell_type": "markdown",
      "source": [
        "### 4. Long-form & Abbreviation Relationship"
      ],
      "metadata": {
        "id": "CP2B_vGW3Xbj"
      }
    },
    {
      "cell_type": "code",
      "source": [
        "# TODO: LONG FORMAT AND SHORT FORMAT RELATION -> ishwari\n",
        "# examples where acronym (B-AC) appears\n",
        "for i in range(5):\n",
        "    tags = dataset['train'][i]['ner_tags']\n",
        "    if 'B-AC' in tags:\n",
        "        print(\"Tokens:\", dataset['train'][i]['tokens'])\n",
        "        print(\"NER Tags:\", tags)\n",
        "        print(\"---\")\n",
        "\n",
        "# Initializing counters\n",
        "with_both = 0\n",
        "only_acronym = 0\n",
        "only_longform = 0\n",
        "neither = 0\n",
        "\n",
        "# Going through each sentence in the training set\n",
        "for ex in dataset['train']:\n",
        "    tags = ex['ner_tags']\n",
        "\n",
        "    has_acronym = 'B-AC' in tags\n",
        "    has_longform = 'B-LF' in tags or 'I-LF' in tags\n",
        "\n",
        "    if has_acronym and has_longform:\n",
        "        with_both += 1\n",
        "    elif has_acronym:\n",
        "        only_acronym += 1\n",
        "    elif has_longform:\n",
        "        only_longform += 1\n",
        "    else:\n",
        "        neither += 1\n",
        "\n",
        "print(\"Sentences with BOTH acronym and long form:\", with_both)\n",
        "print(\"Sentences with ONLY acronym:\", only_acronym)\n",
        "print(\"Sentences with ONLY long form:\", only_longform)\n",
        "print(\"Sentences with NEITHER:\", neither)\n",
        "print('\\n')\n",
        "\n",
        "#Visualizing with Bar Chart\n",
        "import matplotlib.pyplot as plt\n",
        "\n",
        "labels = ['Both Short & Long', 'Only Short', 'Only Long', 'Neither']\n",
        "counts = [with_both, only_acronym, only_longform, neither]\n",
        "\n",
        "plt.figure(figsize=(8, 4))\n",
        "plt.bar(labels, counts, color='cornflowerblue')\n",
        "plt.title(\"Co-occurrence of Acronyms (Short) and Long Forms\")\n",
        "plt.ylabel(\"Number of Sentences\")\n",
        "plt.xticks(rotation=15)\n",
        "plt.grid(axis='y', linestyle='--', alpha=0.6)\n",
        "plt.tight_layout()\n",
        "plt.show()"
      ],
      "metadata": {
        "id": "Kx3w3FV7jk5Z",
        "colab": {
          "base_uri": "https://localhost:8080/",
          "height": 791
        },
        "outputId": "4ffa8a04-8e60-4233-a635-394a1964b2ff"
      },
      "execution_count": 13,
      "outputs": [
        {
          "output_type": "stream",
          "name": "stdout",
          "text": [
            "Tokens: ['MRR', ',', 'mortality', 'rate', 'ratio', ';', 'TBI', ',', 'traumatic', 'brain', 'injury', '.']\n",
            "NER Tags: ['B-AC', 'O', 'B-LF', 'I-LF', 'I-LF', 'O', 'B-AC', 'O', 'B-LF', 'I-LF', 'I-LF', 'O']\n",
            "---\n",
            "Tokens: ['HPC', ',', 'hippocampus', ';', 'mOFC', ',', 'medial', 'OFC', ';', 'OFC', ',', 'orbitofrontal', 'cortex', ';', 'PPI', ',', 'psychophysiological', 'interaction', '.']\n",
            "NER Tags: ['B-AC', 'O', 'B-LF', 'O', 'O', 'O', 'O', 'B-AC', 'O', 'B-AC', 'O', 'B-LF', 'I-LF', 'O', 'B-AC', 'O', 'B-LF', 'I-LF', 'O']\n",
            "---\n",
            "Tokens: ['In', 'addition', 'to', 'the', 'effects', 'on', 'cell', 'growth', 'and', 'migration', ',', 'the', '18β', '-', 'GA', '-', 'd', 'used', 'in', 'this', 'study', 'could', 'also', 'up', '-', 'regulate', 'expression', 'of', 'aquaporin-3', '(', 'AQP-3', ')', 'in', 'fibroblasts', 'and', 'keratinocytes', '.']\n",
            "NER Tags: ['O', 'O', 'O', 'O', 'O', 'O', 'O', 'O', 'O', 'O', 'O', 'O', 'B-AC', 'B-AC', 'B-AC', 'B-AC', 'B-AC', 'O', 'O', 'O', 'O', 'O', 'O', 'O', 'O', 'O', 'O', 'O', 'B-LF', 'O', 'B-AC', 'O', 'O', 'O', 'O', 'O', 'O']\n",
            "---\n",
            "Tokens: ['Abbreviations', ':', 'HC', ',', 'C', '-', 'terminal', 'receptor', '-', 'binding', 'domain', ';', 'ka', ',', 'association', 'rate', 'constant', ';', 'kd', ',', 'dissociation', 'rate', 'constant', ';', 'KD', ',', 'equilibrium', 'dissociation', 'constant', ';', 'ND', ',', 'nanodisc', ';', 'Syt', ',', 'synaptotagmin', ';', 'WT', ',', 'wild', '-', 'type']\n",
            "NER Tags: ['O', 'O', 'B-AC', 'O', 'B-LF', 'I-LF', 'I-LF', 'I-LF', 'I-LF', 'I-LF', 'I-LF', 'O', 'B-AC', 'O', 'B-LF', 'I-LF', 'I-LF', 'O', 'B-AC', 'O', 'B-LF', 'I-LF', 'I-LF', 'O', 'B-AC', 'O', 'B-LF', 'I-LF', 'I-LF', 'O', 'B-AC', 'O', 'B-LF', 'O', 'B-AC', 'O', 'B-LF', 'O', 'B-AC', 'O', 'B-LF', 'I-LF', 'I-LF']\n",
            "---\n",
            "Tokens: ['LL', ':', 'lower', 'limit', ',', 'UL', ':', 'upper', 'limit', '.']\n",
            "NER Tags: ['B-AC', 'O', 'B-LF', 'I-LF', 'O', 'B-AC', 'O', 'B-LF', 'I-LF', 'O']\n",
            "---\n",
            "Sentences with BOTH acronym and long form: 1986\n",
            "Sentences with ONLY acronym: 2\n",
            "Sentences with ONLY long form: 12\n",
            "Sentences with NEITHER: 0\n",
            "\n",
            "\n"
          ]
        },
        {
          "output_type": "display_data",
          "data": {
            "text/plain": [
              "<Figure size 800x400 with 1 Axes>"
            ],
            "image/png": "[encoded data removed]"
          },
          "metadata": {}
        }
      ]
    },
    {
      "cell_type": "markdown",
      "source": [
        "Key Insights:\n",
        "\n",
        "1. Most sentences (1986) contain both abbreviations and their corresponding long forms, indicating clear abbreviation–long-form pairings.\n",
        "\n",
        "2. Very few sentences have only abbreviations (2) or only long forms (12), showing that isolated occurrences are rare.\n",
        "\n",
        "3. No sentences are unlabeled (neither abbreviation nor long form), confirming the dataset is well-annotated.\n",
        "\n",
        "4. Highlights that sentence-level context is strong for abbreviation detection, as both forms often co-occur together."
      ],
      "metadata": {
        "id": "AdwXc7Mh3t36"
      }
    },
    {
      "cell_type": "markdown",
      "source": [
        "### 5. Sentences with Only Abbreviations or Only Long-forms"
      ],
      "metadata": {
        "id": "CNIh-DLg4Fdx"
      }
    },
    {
      "cell_type": "code",
      "source": [
        "# TODO: Sentences with Only Abbreviations or Only Long-forms -> ritwik\n",
        "\n",
        "print(\"\\nSentences with only abbreviation (B-AC, no B-LF):\\n\")\n",
        "count = 0\n",
        "for ex in dataset[\"train\"]:\n",
        "    tags = ex[\"ner_tags\"]\n",
        "    if \"B-AC\" in tags and \"B-LF\" not in tags:\n",
        "        print(\" \".join(ex[\"tokens\"]))\n",
        "        count += 1\n",
        "        if count >= 3:\n",
        "            break"
      ],
      "metadata": {
        "id": "8f-ZJtvwjmxp",
        "colab": {
          "base_uri": "https://localhost:8080/"
        },
        "outputId": "41ab46ff-7f94-4e28-fa5b-361caa047999"
      },
      "execution_count": 14,
      "outputs": [
        {
          "output_type": "stream",
          "name": "stdout",
          "text": [
            "\n",
            "Sentences with only abbreviation (B-AC, no B-LF):\n",
            "\n",
            "These results were consistent with the ability of CD5 - 2 to inhibit neutrophil migration into inflamed tissue in the MC38 colon carcinoma , in which CD5 - 2 inhibited the number of CD11b+/granulocyte ( Gr)1hi in the solid tumor tissue .\n",
            "Macrophages were pretreated with buffer , neutralizing antibodies against TLR2 ( 1 μg / ml ) , TAPI ( 10 μg / ml ) , Bay ( 100 μM ) , PD98059 ( 20 μM ) , or SB203580 ( 10 μM ) for 30 min , and stimulated for 2 h with eRNA ( 10 μg / ml)/Pam2CSK4 ( Pam , 0.1 ng / ml ) , which were preincubated for 1 h at 37 ° C .\n"
          ]
        }
      ]
    },
    {
      "cell_type": "markdown",
      "source": [
        "Key Insight:\n",
        "1. Some short forms like CD5-2, TLR2, PD98059, eRNA, etc. are used without explaining their full forms in the same sentence."
      ],
      "metadata": {
        "id": "IaLFrKti8ntP"
      }
    },
    {
      "cell_type": "code",
      "source": [
        "print(\"\\nSentences with only long-form (B-LF, no B-AC):\\n\")\n",
        "count = 0\n",
        "for ex in dataset[\"train\"]:\n",
        "    tags = ex[\"ner_tags\"]\n",
        "    if \"B-LF\" in tags and \"B-AC\" not in tags:\n",
        "        print(\" \".join(ex[\"tokens\"]))\n",
        "        count += 1\n",
        "        if count >= 12:\n",
        "            break"
      ],
      "metadata": {
        "id": "CuRTAsBz6uYN",
        "colab": {
          "base_uri": "https://localhost:8080/"
        },
        "outputId": "7f6a2fd2-7dd1-4582-cf90-5d2d12ca9045"
      },
      "execution_count": 15,
      "outputs": [
        {
          "output_type": "stream",
          "name": "stdout",
          "text": [
            "\n",
            "Sentences with only long-form (B-LF, no B-AC):\n",
            "\n",
            "SCO - spondin - like\n",
            "topoisomerase I - activated pCR2.1 - TOPO vector\n",
            "2D HeLa dataset\n",
            "Therefore , the aim of this study was to research the antitumor effects of the ginsenoside Rk3 on esophageal cancer cell lines and to investigate the potential molecular mechanisms by which it activates apoptosis and autophagy both in vitro and in vivo .\n",
            "synthetic UniSp6 RNA spike - in\n",
            "The World Health Organization ( WHO ) provides information ( in several languages ) on all aspects of tuberculosis , including general information on tuberculosis diagnostics and specific information on the roll out of the Xpert MTB / RIF test ; further information about WHO 's endorsement of Xpert MTB / RIF is included in a Strategic and Technical Advisory Group for Tuberculosis report ; the Global Tuberculosis Report 2013 provides information about tuberculosis around the world , including in India\n",
            "Following phosphorylation of the scaffold protein LAT by activated ZAP70 , different signaling modules including phospholipase Cγ(PLCγ ) are activated and this culminates in T cell activation [ 10 ] .\n",
            "Top of SF or AS\n",
            "Plasmodium falciparum strain FCR3\n",
            "ω - conotoxin MVIIC\n",
            "chaperone protein DnaK\n",
            "transcription termination / antitermination protein nusG\n"
          ]
        }
      ]
    },
    {
      "cell_type": "markdown",
      "source": [
        "Key insights:\n",
        "\n",
        "1. Some technical terms like “chaperone protein DnaK” or “Plasmodium falciparum strain FCR3” are written fully without abbreviation.\n",
        "\n",
        "2. This happens when:\n",
        "\n",
        "  -The term is used only once.\n",
        "  -The term itself is already short or clear."
      ],
      "metadata": {
        "id": "v2_Jmx_68rym"
      }
    },
    {
      "cell_type": "markdown",
      "source": [
        "### 6. Abbreviation ↔ POS Tag Relationship"
      ],
      "metadata": {
        "id": "n4foujBD5H2v"
      }
    },
    {
      "cell_type": "code",
      "source": [
        "# TODO: RELATION BETWEEN ABBRIVIATION AND POS TAG -> faye\n",
        "\n",
        "import pandas as pd\n",
        "from collections import defaultdict\n",
        "import matplotlib.pyplot as plt\n",
        "import seaborn as sns\n",
        "\n",
        "# initialise a dictionary to store abbreviation-POS pairs\n",
        "abbr_pos_counts = defaultdict(lambda: defaultdict(int))\n",
        "\n",
        "# iterate through the dataset to find abbreviations and their POS tags\n",
        "for split in ['train', 'validation', 'test']:\n",
        "    for example in dataset[split]:\n",
        "        tokens = example['tokens']\n",
        "        pos_tags = example['pos_tags']\n",
        "\n",
        "        for token, pos_tag in zip(tokens, pos_tags):\n",
        "            # check if the token is likely an abbreviation (heuristic: contains '.' or is uppercase)\n",
        "            if '.' in token or (token.isupper() and len(token) <= 5):\n",
        "                abbr_pos_counts[token][pos_tag] += 1\n",
        "\n",
        "# convert to a dataframe for analysis\n",
        "abbr_pos_df = pd.DataFrame([\n",
        "    (abbr, pos, count)\n",
        "    for abbr in abbr_pos_counts\n",
        "    for pos, count in abbr_pos_counts[abbr].items()\n",
        "], columns=['Abbreviation', 'POS_Tag', 'Count'])\n",
        "\n",
        "# display the top abbreviation POS pairs\n",
        "print(abbr_pos_df.sort_values('Count', ascending=False).head(20))\n"
      ],
      "metadata": {
        "id": "MflTokuHjuO6",
        "colab": {
          "base_uri": "https://localhost:8080/"
        },
        "outputId": "a669e007-5e0d-43c9-92ec-818586ab8245"
      },
      "execution_count": 16,
      "outputs": [
        {
          "output_type": "stream",
          "name": "stdout",
          "text": [
            "    Abbreviation POS_Tag  Count\n",
            "2              .   PUNCT   2762\n",
            "13             C    NOUN     97\n",
            "34           RNA    NOUN     96\n",
            "102           CI    NOUN     92\n",
            "14             C   PROPN     58\n",
            "19            WT   PROPN     56\n",
            "510            N    NOUN     53\n",
            "49             A    NOUN     50\n",
            "54             B    NOUN     48\n",
            "934          HIV   PROPN     46\n",
            "383          GFP   PROPN     45\n",
            "388          PCR    NOUN     44\n",
            "57             D    NOUN     44\n",
            "27           DNA    NOUN     41\n",
            "251           S1   PROPN     41\n",
            "292           SD    NOUN     39\n",
            "99            HR    NOUN     39\n",
            "52             A   PROPN     36\n",
            "242          BMI   PROPN     35\n",
            "84             T   PROPN     35\n"
          ]
        }
      ]
    },
    {
      "cell_type": "code",
      "source": [
        "# aggregate counts by POS tag\n",
        "pos_counts = abbr_pos_df.groupby('POS_Tag')['Count'].sum().reset_index()\n",
        "pos_counts = pos_counts.sort_values('Count', ascending=False)\n",
        "\n",
        "plt.figure(figsize=(10, 6))\n",
        "sns.barplot(data=pos_counts, x='POS_Tag', y='Count', palette='viridis')\n",
        "plt.title('Most Common POS Tags for Abbreviations')\n",
        "plt.xticks(rotation=45)\n",
        "plt.show()"
      ],
      "metadata": {
        "id": "y_Lzfbz94bQD",
        "colab": {
          "base_uri": "https://localhost:8080/",
          "height": 701
        },
        "outputId": "7494ceb0-918b-4610-928f-d57f49ab37e0"
      },
      "execution_count": 17,
      "outputs": [
        {
          "output_type": "stream",
          "name": "stderr",
          "text": [
            "<ipython-input-17-2cba2fb94322>:6: FutureWarning: \n",
            "\n",
            "Passing `palette` without assigning `hue` is deprecated and will be removed in v0.14.0. Assign the `x` variable to `hue` and set `legend=False` for the same effect.\n",
            "\n",
            "  sns.barplot(data=pos_counts, x='POS_Tag', y='Count', palette='viridis')\n"
          ]
        },
        {
          "output_type": "display_data",
          "data": {
            "text/plain": [
              "<Figure size 1000x600 with 1 Axes>"
            ],
            "image/png": "[encoded data removed]"
          },
          "metadata": {}
        }
      ]
    },
    {
      "cell_type": "markdown",
      "source": [
        "Key insights:\n",
        "1. Most abbreviations are tagged as Proper Nouns (PROPN) and Nouns (NOUN), matching common biomedical entities like genes, proteins, and diseases.\n",
        "\n",
        "2. High PUNCT count suggests tokenization splits (e.g., hyphens in \"IL-2\") leading to punctuation being misclassified as abbreviations.\n",
        "\n",
        "3. Presence of NUM (numbers) reflects abbreviations with numeric components (e.g., S1, 2)."
      ],
      "metadata": {
        "id": "4PFnBi2u9du7"
      }
    },
    {
      "cell_type": "markdown",
      "source": [
        "### 7. Tag Transition Matrix (NER Transitions)"
      ],
      "metadata": {
        "id": "1h2CbcbS-H6S"
      }
    },
    {
      "cell_type": "code",
      "source": [
        "# TODO: Tag transition - Shivasmi\n",
        "\n",
        "import pandas as pd\n",
        "from collections import Counter\n",
        "\n",
        "def get_all_transitions(dataset_split):\n",
        "    transitions = Counter()\n",
        "    for example in dataset_split:\n",
        "        labels = example['ner_tags']\n",
        "        for i in range(len(labels) - 1):\n",
        "            transitions[(labels[i], labels[i + 1])] += 1\n",
        "    return transitions\n",
        "\n",
        "def transitions_to_dataframe(transitions):\n",
        "    data = []\n",
        "    for (prev_tag, next_tag), count in transitions.items():\n",
        "        data.append({\n",
        "            'Previous Tag': prev_tag,\n",
        "            'Next Tag': next_tag,\n",
        "            'Count': count\n",
        "        })\n",
        "    df = pd.DataFrame(data)\n",
        "    return df.sort_values(by='Count', ascending=False).reset_index(drop=True)\n",
        "\n",
        "# Get transitions\n",
        "train_transitions = get_all_transitions(dataset['train'])\n",
        "\n",
        "# Convert to DataFrame (no id2label needed!)\n",
        "df_transitions = transitions_to_dataframe(train_transitions)\n",
        "print(df_transitions)\n"
      ],
      "metadata": {
        "colab": {
          "base_uri": "https://localhost:8080/"
        },
        "id": "a9-1v_8V92LI",
        "outputId": "2ad43f0d-37a6-48ea-e5b1-961cad9fb733"
      },
      "execution_count": 18,
      "outputs": [
        {
          "output_type": "stream",
          "name": "stdout",
          "text": [
            "   Previous Tag Next Tag  Count\n",
            "0             O        O  51509\n",
            "1          I-LF     I-LF   5946\n",
            "2          B-AC        O   5754\n",
            "3             O     B-AC   5311\n",
            "4             O     B-LF   3718\n",
            "5          B-LF     I-LF   3579\n",
            "6          I-LF        O   3502\n",
            "7          B-AC     B-AC    828\n",
            "8          B-LF        O    338\n",
            "9          B-AC     B-LF     42\n",
            "10         I-LF     B-AC     15\n",
            "11         I-LF     B-LF      5\n",
            "12         B-LF     B-AC      1\n"
          ]
        }
      ]
    },
    {
      "cell_type": "code",
      "source": [
        "import matplotlib.pyplot as plt\n",
        "\n",
        "# Prepare labels and counts\n",
        "labels = df_transitions.apply(lambda x: f\"{x['Previous Tag']} → {x['Next Tag']}\", axis=1)\n",
        "counts = df_transitions[\"Count\"]\n",
        "\n",
        "# Plot\n",
        "fig, ax = plt.subplots(figsize=(12, 6))\n",
        "ax.bar(labels, counts)\n",
        "\n",
        "# Set labels and title\n",
        "ax.set_ylabel(\"Count\")\n",
        "ax.set_xlabel(\"Tag Transition (Previous → Next)\")\n",
        "ax.set_title(\"Tag Transition Counts\")\n",
        "\n",
        "# Rotate x-axis labels for better visibility\n",
        "plt.xticks(rotation=90)\n",
        "\n",
        "# Remove grid\n",
        "ax.grid(False)\n",
        "\n",
        "# Adjust layout\n",
        "plt.tight_layout()\n",
        "\n",
        "# Show plot\n",
        "plt.show()\n"
      ],
      "metadata": {
        "colab": {
          "base_uri": "https://localhost:8080/",
          "height": 591
        },
        "id": "QsADMMpyXUVP",
        "outputId": "90cc566a-93c6-4203-85bb-72261603ed1b"
      },
      "execution_count": 19,
      "outputs": [
        {
          "output_type": "display_data",
          "data": {
            "text/plain": [
              "<Figure size 1200x600 with 1 Axes>"
            ],
            "image/png": "[encoded data removed]"
          },
          "metadata": {}
        }
      ]
    },
    {
      "cell_type": "markdown",
      "source": [
        "A. Rare transitions: Transition Count What it may indicate\n",
        "\n",
        "1. B-AC → B-LF 42; Abbreviation followed immediately by long form\n",
        "2. I-LF → B-AC 15; Ending long form → new abbreviation without 'O' token between\n",
        "3. I-LF → B-LF 5; One long form starts right after inside of another long form\n",
        "4. B-LF → B-AC 1; Very rare: long form followed by abbreviation"
      ],
      "metadata": {
        "id": "__fTCUGQ-St_"
      }
    },
    {
      "cell_type": "markdown",
      "source": [
        "B. The majority of transitions are from\n",
        "\n",
        "1. O → O, reflecting a strong class imbalance toward non-entity tokens.\n",
        "2. Long forms typically span multiple tokens as shown by frequent B-LF → I-LF and I-LF → I-LF transitions.\n",
        "\n",
        "Rare transitions such as B-AC → B-LF suggest edge cases where abbreviations are directly followed by long forms, which may challenge sequence-based models."
      ],
      "metadata": {
        "id": "FCqVA5l5-VfE"
      }
    },
    {
      "cell_type": "markdown",
      "source": [
        "### 8. Symbol and Token Analysis"
      ],
      "metadata": {
        "id": "H-QEVspm9j6b"
      }
    },
    {
      "cell_type": "code",
      "source": [
        "# TODO: SHOW THE SYMBOLS -> amir\n",
        "from collections import Counter\n",
        "import matplotlib.pyplot as plt\n",
        "import re\n",
        "\n",
        "uncommon_pattern = re.compile(r'[αβγδΔΓΩω]')\n",
        "tokens = []\n",
        "\n",
        "for row in dataset['train']:\n",
        "  for token, tag in zip(row['tokens'], row['ner_tags']):\n",
        "    if uncommon_pattern.search(token):\n",
        "      tokens.append(token)\n",
        "\n",
        "token_freq = Counter(tokens)\n",
        "top_tokens = token_freq.most_common(20)\n",
        "print(top_tokens)\n",
        "\n",
        "words, freqs = zip(*top_tokens)\n",
        "plt.figure(figsize=(20,5))\n",
        "plt.bar(words, freqs)\n",
        "\n"
      ],
      "metadata": {
        "id": "6Enq0899jvBY",
        "colab": {
          "base_uri": "https://localhost:8080/",
          "height": 382
        },
        "outputId": "80d2a831-1520-49c9-88ac-023dfa1d2d20"
      },
      "execution_count": 20,
      "outputs": [
        {
          "output_type": "stream",
          "name": "stdout",
          "text": [
            "[('α', 40), ('β', 33), ('γ', 9), ('TGFβ', 6), ('β2', 5), ('Aβ', 5), ('PDGFRα', 4), ('PLCγ', 3), ('ω-1', 3), ('αSMA', 2), ('ERα', 2), ('ΔVRC', 2), ('ΔMaml1', 2), ('TGFβ1', 2), ('PGC-1α', 2), ('Δchanges', 2), ('18β', 1), ('αIPM', 1), ('med23Δli', 1), ('Δm157', 1)]\n"
          ]
        },
        {
          "output_type": "execute_result",
          "data": {
            "text/plain": [
              "<BarContainer object of 20 artists>"
            ]
          },
          "metadata": {},
          "execution_count": 20
        },
        {
          "output_type": "display_data",
          "data": {
            "text/plain": [
              "<Figure size 2000x500 with 1 Axes>"
            ],
            "image/png": "[encoded data removed]"
          },
          "metadata": {}
        }
      ]
    },
    {
      "cell_type": "markdown",
      "source": [
        "Key insights:\n",
        "1. Greek letters like α (alpha), β (beta), γ (gamma) are the most frequently occurring symbols in biomedical terms.\n",
        "\n",
        "2. These symbols are often used in protein names, receptor types, or biological pathways (e.g., TGFβ, Aβ, PDGFRα).\n",
        "\n",
        "3. The presence of such symbols highlights the importance of correctly handling non-English characters during tokenization and abbreviation detection.\n",
        "\n",
        "4. Rare symbols like ω (omega), Δ (delta), and their combinations (e.g., Δm157, αSMA) also appear, often representing variants or specific subtypes."
      ],
      "metadata": {
        "id": "Q8L13XDJAJGN"
      }
    },
    {
      "cell_type": "markdown",
      "source": [
        "### 9. Abbreviation Ambiguity"
      ],
      "metadata": {
        "id": "pzyWJDlejcLc"
      }
    },
    {
      "cell_type": "code",
      "source": [
        "# TODO: Abbreviation amibiguity check - ritwik\n",
        "\n",
        "from collections import defaultdict\n",
        "\n",
        "abbr_map = defaultdict(set)\n",
        "\n",
        "for example in dataset['train']:\n",
        "    tokens = example['tokens']\n",
        "    tags = example['ner_tags']\n",
        "    current_abbr = None\n",
        "    current_lf = []\n",
        "\n",
        "    for token, tag in zip(tokens, tags):\n",
        "        if tag == 'B-AC':\n",
        "            current_abbr = token\n",
        "        elif tag == 'B-LF':\n",
        "            current_lf = [token]\n",
        "        elif tag == 'I-LF' and current_lf:\n",
        "            current_lf.append(token)\n",
        "        elif tag == 'O':\n",
        "            if current_abbr and current_lf:\n",
        "                abbr_map[current_abbr].add(\" \".join(current_lf))\n",
        "                current_abbr = None\n",
        "                current_lf = []\n",
        "\n",
        "# Count ambiguous abbreviations\n",
        "ambiguous_abbr = {abbr: lfs for abbr, lfs in abbr_map.items() if len(lfs) > 1}\n",
        "num_ambiguous = len(ambiguous_abbr)\n",
        "\n",
        "print(f\"\\n Total Ambiguous Abbreviations: {num_ambiguous}\")\n",
        "print(\"\\nSome Examples of Ambiguous Abbreviations:\")\n",
        "\n",
        "# Show abbreviations with more than one long form\n",
        "for abbr, lfs in list(ambiguous_abbr.items())[:10]:\n",
        "    if len(lfs) > 1:\n",
        "        print(f\"{abbr} → {lfs}\")"
      ],
      "metadata": {
        "id": "e2USA8jujy0f",
        "colab": {
          "base_uri": "https://localhost:8080/"
        },
        "outputId": "3d068a12-8a8f-4906-9ae9-23c9157cab17"
      },
      "execution_count": 21,
      "outputs": [
        {
          "output_type": "stream",
          "name": "stdout",
          "text": [
            "\n",
            " Total Ambiguous Abbreviations: 437\n",
            "\n",
            "Some Examples of Ambiguous Abbreviations:\n",
            "d → {'LV anterior wall thickness at end - diastole', 'LV posterior wall thickness at end - diastole', 'LV internal diameter at end - diastole', 'aquaporin-3'}\n",
            "HC → {'Resident Assessment Instrument for Home Care', 'healthy control participants', 'healthy control', 'C - terminal receptor - binding domain'}\n",
            "KD → {'glutathione compound glutathione reduced ethyl ester', 'knock - down', 'equilibrium dissociation constant', 'equilibrium dissociation constants', 'kinase - inactive mutant', 'knockdown', 'reactive oxygen species'}\n",
            "ND → {'nanodisc', 'nandrolone decanoate'}\n",
            "AMPK → {'double - stranded RNA', 'FOrkhead boX O', 'AMP - activated protein kinase'}\n",
            "HbA1c → {'Glycated Hemoglobin', 'hemoglobin A1c', 'haemoglobin A1c', 'high - density lipoprotein', 'glycated haemoglobin', 'glycated hemoglobin'}\n",
            "IR → {'insulin resistance', 'ionotropic receptor', 'homeostasis model assessment of insulin resistance', 'homeostatic model assessment of insulin resistance', 'incidence rate'}\n",
            "TCR → {'T cell receptor', 'T - cell receptor'}\n",
            "BCG → {'adriamycin', 'bacillus Calmette – Guérin'}\n",
            "TLR → {'toll - like receptor', 'non - ulcer dyspepsia', 'Toll - like receptor'}\n"
          ]
        }
      ]
    },
    {
      "cell_type": "markdown",
      "source": [
        "Key insights:\n",
        "\n",
        "1. total of 437 ambiguous abbreviations were identified, meaning these abbreviations map to more than one possible long-form.\n",
        "\n",
        "2. Examples like:\n",
        "\n",
        "  -\"KD\" → knockdown, kinase - inactive mutant, equilibrium dissociation constant, etc.\n",
        "\n",
        "  -\"TLR\" → toll-like receptor, non-ulcer dyspepsia\n",
        "show how the same abbreviation can represent completely different biomedical terms.\n",
        "\n",
        "3. Some abbreviations like \"d\", \"HC\", and \"ND\" map to 5 or more long-forms, increasing the risk of confusion for models.\n"
      ],
      "metadata": {
        "id": "aq73YDF3kDk4"
      }
    }
  ]
}