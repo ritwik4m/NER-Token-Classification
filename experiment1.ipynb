{
 "cells": [
  {
   "cell_type": "markdown",
   "id": "8ff817ba",
   "metadata": {},
   "source": [
    "## fix random seed for reproducibility"
   ]
  },
  {
   "cell_type": "code",
   "execution_count": 391,
   "id": "bffac682",
   "metadata": {},
   "outputs": [],
   "source": [
    "import random\n",
    "import numpy as np\n",
    "import torch\n",
    "import random\n",
    "import torch.backends.cudnn as cudnn\n",
    "\n",
    "def set_seed(seed):\n",
    "    random.seed(seed)\n",
    "    np.random.seed(seed)\n",
    "    torch.manual_seed(seed)\n",
    "    torch.cuda.manual_seed_all(seed)  # if using multi-GPU\n",
    "    torch.backends.cudnn.deterministic = True\n",
    "    torch.backends.cudnn.benchmark = False  # slightly slower but reproducible\n",
    "\n",
    "set_seed(24)"
   ]
  },
  {
   "cell_type": "markdown",
   "id": "c014e932",
   "metadata": {},
   "source": [
    "## loading dataset"
   ]
  },
  {
   "cell_type": "code",
   "execution_count": 392,
   "id": "7315c60f",
   "metadata": {},
   "outputs": [],
   "source": [
    "from datasets import load_dataset\n",
    "\n",
    "ds = load_dataset(\"surrey-nlp/PLOD-CW-25\")"
   ]
  },
  {
   "cell_type": "code",
   "execution_count": 393,
   "id": "1e27856e",
   "metadata": {},
   "outputs": [],
   "source": [
    "train_data = ds['train']\n",
    "test_data = ds['test']\n",
    "validate_data = ds['validation']"
   ]
  },
  {
   "cell_type": "markdown",
   "id": "f7e8f179",
   "metadata": {},
   "source": [
    "## general preprocessing"
   ]
  },
  {
   "cell_type": "code",
   "execution_count": 394,
   "id": "faf8c8ee",
   "metadata": {},
   "outputs": [],
   "source": [
    "all_tokens = set([token for sent in train_data['tokens'] for token in sent])\n",
    "ner_tags = set([tag for sent in train_data['ner_tags'] for tag in sent])"
   ]
  },
  {
   "cell_type": "code",
   "execution_count": 395,
   "id": "f14d67e3",
   "metadata": {},
   "outputs": [],
   "source": [
    "from collections import Counter\n",
    "\n",
    "tokens_train = [ex['tokens'] for ex in ds['train']]\n",
    "\n",
    "word_counter = Counter(token for sent in tokens_train for token in sent)\n",
    "\n",
    "# Assign unique indices\n",
    "word_vocab = {token: idx + 2 for idx, (token, _) in enumerate(word_counter.items())}\n",
    "# equivilent to: token to id\n",
    "word_vocab['<PAD>'] = 0\n",
    "word_vocab['<UNK>'] = 1"
   ]
  },
  {
   "cell_type": "code",
   "execution_count": 396,
   "id": "2e5c7bf2",
   "metadata": {},
   "outputs": [],
   "source": [
    "def token_to_id_fn(token, token_to_id):\n",
    "    return token_to_id.get(token, token_to_id['<UNK>'])\n",
    "\n",
    "def id_to_token_fn(idx, id_to_token):\n",
    "    return id_to_token.get(idx, '<UNK>')\n",
    "\n",
    "def tag_to_id_fn(tag, tag_to_id):\n",
    "    return tag_to_id[tag]\n",
    "\n",
    "def id_to_tag_fn(idx, id_to_tag):\n",
    "    return id_to_tag.get(idx, 'O')"
   ]
  },
  {
   "cell_type": "code",
   "execution_count": 397,
   "id": "3df29c24",
   "metadata": {},
   "outputs": [],
   "source": [
    "def map_dataset(dataset, token_to_id, tag_to_id):\n",
    "  mapped_dataset = []\n",
    "  for row in dataset:\n",
    "    tokens = row['tokens']\n",
    "    ner_tags = row['ner_tags']\n",
    "    mapped_tokens = [token_to_id.get(token, token_to_id['<UNK>']) for token in tokens]\n",
    "    mapped_ner_tags = [tag_to_id[tag] for tag in ner_tags]\n",
    "    mapped_dataset.append({\n",
    "        'tokens': mapped_tokens,\n",
    "        'ner_tags': mapped_ner_tags\n",
    "    })\n",
    "  return mapped_dataset"
   ]
  },
  {
   "cell_type": "code",
   "execution_count": 398,
   "id": "1ec7ae5b",
   "metadata": {},
   "outputs": [],
   "source": [
    "tag_to_id = {\n",
    "    'O': 0,\n",
    "    'B-LF': 1,\n",
    "    'I-LF': 2,\n",
    "    'B-AC': 3\n",
    "}"
   ]
  },
  {
   "cell_type": "code",
   "execution_count": 399,
   "id": "b73b094d",
   "metadata": {},
   "outputs": [],
   "source": [
    "mapped_train_data = map_dataset(train_data, word_vocab, tag_to_id)\n",
    "mapped_test_data = map_dataset(test_data, word_vocab, tag_to_id)\n",
    "mapped_validate_data = map_dataset(validate_data, word_vocab, tag_to_id)"
   ]
  },
  {
   "cell_type": "code",
   "execution_count": 400,
   "id": "526e7b63",
   "metadata": {},
   "outputs": [
    {
     "data": {
      "image/png": "[encoded data removed]",
      "text/plain": [
       "<Figure size 800x600 with 1 Axes>"
      ]
     },
     "metadata": {},
     "output_type": "display_data"
    }
   ],
   "source": [
    "import matplotlib.pyplot as plt\n",
    "import seaborn as sns\n",
    "import numpy as np\n",
    "\n",
    "row_lengths = [len(sent['tokens']) for sent in mapped_train_data]\n",
    "\n",
    "\n",
    "percentile = np.percentile(row_lengths, 99)\n",
    "plt.figure(figsize=(8, 6))\n",
    "sns.boxplot(x=row_lengths)\n",
    "plt.axvline(x=np.percentile(row_lengths, 99), color='red', linestyle='--', label='99th Percentile')\n",
    "plt.title(\"Distribution of Row Lengths (Number of Tokens)\")\n",
    "plt.xlabel(\"Row Length (Number of Tokens)\")\n",
    "plt.show()"
   ]
  },
  {
   "cell_type": "code",
   "execution_count": 401,
   "id": "2ffff109",
   "metadata": {},
   "outputs": [],
   "source": [
    "MAX_LENGTH = 150\n",
    "\n",
    "def pad_dataset(dataset, max_length):\n",
    "    padded_dataset = []\n",
    "    for row in dataset:\n",
    "        tokens = row['tokens']\n",
    "        ner_tags = row['ner_tags']\n",
    "        if len(tokens) > max_length:\n",
    "            tokens = tokens[:max_length]\n",
    "            ner_tags = ner_tags[:max_length]\n",
    "\n",
    "        else:\n",
    "            tokens += [0] * (max_length - len(tokens))\n",
    "            ner_tags += [0] * (max_length - len(ner_tags))\n",
    "\n",
    "        mask = [1 if token != 0 else 0 for token in tokens]\n",
    "\n",
    "        padded_dataset.append({\n",
    "            'tokens': tokens,\n",
    "            'ner_tags': ner_tags,\n",
    "            'mask': mask\n",
    "        })\n",
    "\n",
    "    return padded_dataset"
   ]
  },
  {
   "cell_type": "code",
   "execution_count": 402,
   "id": "4ad446a0",
   "metadata": {},
   "outputs": [],
   "source": [
    "padded_train_data = pad_dataset(mapped_train_data, MAX_LENGTH)\n",
    "padded_test_data = pad_dataset(mapped_test_data, MAX_LENGTH)\n",
    "padded_validate_data = pad_dataset(mapped_validate_data, MAX_LENGTH)"
   ]
  },
  {
   "cell_type": "code",
   "execution_count": 403,
   "id": "23f5f741",
   "metadata": {},
   "outputs": [],
   "source": [
    "VOCAB_SIZE = len(word_vocab)\n",
    "DIM = 100"
   ]
  },
  {
   "cell_type": "markdown",
   "id": "25f2fe32",
   "metadata": {},
   "source": [
    "## embedding"
   ]
  },
  {
   "cell_type": "code",
   "execution_count": 404,
   "id": "b7f8e05b",
   "metadata": {},
   "outputs": [],
   "source": [
    "from gensim.models import Word2Vec\n",
    "from gensim.models import KeyedVectors\n",
    "\n",
    "w2v_path = \"bio_embedding_extrinsic\"\n",
    "w2v_model = KeyedVectors.load_word2vec_format(w2v_path, binary=True)"
   ]
  },
  {
   "cell_type": "code",
   "execution_count": 405,
   "id": "17164137",
   "metadata": {},
   "outputs": [
    {
     "name": "stdout",
     "output_type": "stream",
     "text": [
      "Embedding vector size: 200\n",
      "Vocabulary size: 2324849 words\n"
     ]
    }
   ],
   "source": [
    "# checking vector size\n",
    "print(f\"Embedding vector size: {w2v_model.vector_size}\")\n",
    "\n",
    "# checking vocabulary size\n",
    "print(f\"Vocabulary size: {len(w2v_model.key_to_index)} words\")"
   ]
  },
  {
   "cell_type": "code",
   "execution_count": 406,
   "id": "28cac8fb",
   "metadata": {},
   "outputs": [],
   "source": [
    "import numpy as np\n",
    "\n",
    "# setting up embedding matrix\n",
    "embedding_dim = w2v_model.vector_size\n",
    "embedding_matrix = np.zeros((len(word_vocab), embedding_dim))\n",
    "\n",
    "\n",
    "# fill the matrix\n",
    "for word, idx in word_vocab.items():\n",
    "    if word in w2v_model:\n",
    "        embedding_matrix[idx] = w2v_model[word]\n",
    "    else:\n",
    "        embedding_matrix[idx] = np.random.normal(scale=0.6, size=(embedding_dim,))"
   ]
  },
  {
   "cell_type": "code",
   "execution_count": 407,
   "id": "84002ea5",
   "metadata": {},
   "outputs": [
    {
     "name": "stdout",
     "output_type": "stream",
     "text": [
      "Embedding matrix shape: (14742, 200)\n",
      "Coverage: 7463/14742 words (50.62%)\n",
      "Sample vector for 'glucose': [ 0.30148456  0.06259853  0.06257256  0.02667626 -0.30542654  0.30082998\n",
      " -0.14734118 -0.20231321  0.28477651 -0.29688197]\n"
     ]
    }
   ],
   "source": [
    "# 1. Check dimensions\n",
    "print(f\"Embedding matrix shape: {embedding_matrix.shape}\")\n",
    "assert embedding_matrix.shape[0] == len(word_vocab), \"Mismatch in vocab size!\"\n",
    "assert embedding_matrix.shape[1] == w2v_model.vector_size, \"Mismatch in embedding dim!\"\n",
    "\n",
    "# 2. Check OOV (out of vocab) words\n",
    "covered = sum(1 for word in word_vocab if word in w2v_model)\n",
    "total = len(word_vocab)\n",
    "print(f\"Coverage: {covered}/{total} words ({covered/total*100:.2f}%)\")\n",
    "\n",
    "# 3. Sample vector check\n",
    "sample_word = 'glucose'\n",
    "if sample_word in word_vocab:\n",
    "    idx = word_vocab[sample_word]\n",
    "    print(f\"Sample vector for '{sample_word}': {embedding_matrix[idx][:10]}\")\n",
    "else:\n",
    "    print(f\"'{sample_word}' not found in word_vocab\")"
   ]
  },
  {
   "cell_type": "code",
   "execution_count": 408,
   "id": "b3b55b55",
   "metadata": {},
   "outputs": [
    {
     "name": "stdout",
     "output_type": "stream",
     "text": [
      "Total OOV words: 7279 / 14742\n",
      "Sample OOV words:\n",
      " 1. MRR\n",
      " 2. ,\n",
      " 3. ;\n",
      " 4. TBI\n",
      " 5. .\n",
      " 6. HPC\n",
      " 7. mOFC\n",
      " 8. OFC\n",
      " 9. PPI\n",
      "10. In\n",
      "11. 18β\n",
      "12. GA\n",
      "13. (\n",
      "14. AQP-3\n",
      "15. )\n",
      "16. Abbreviations\n",
      "17. :\n",
      "18. HC\n",
      "19. C\n",
      "20. KD\n"
     ]
    }
   ],
   "source": [
    "# List out OOV words\n",
    "oov_words = [word for word in word_vocab if word not in w2v_model]\n",
    "\n",
    "# Show a few (first 20)\n",
    "print(f\"Total OOV words: {len(oov_words)} / {len(word_vocab)}\")\n",
    "print(\"Sample OOV words:\")\n",
    "for i, word in enumerate(oov_words[:20]):\n",
    "    print(f\"{i+1:2d}. {word}\")"
   ]
  },
  {
   "cell_type": "code",
   "execution_count": 409,
   "id": "b0ddec29",
   "metadata": {},
   "outputs": [
    {
     "name": "stdout",
     "output_type": "stream",
     "text": [
      " Top Frequent OOV Words:\n",
      ",               → 5206\n",
      "(               → 2965\n",
      ")               → 2930\n",
      ".               → 2321\n",
      ";               → 1989\n",
      "]               → 640\n",
      "[               → 620\n",
      ":               → 405\n",
      "The             → 315\n",
      "/               → 286\n",
      "=               → 260\n",
      "%               → 225\n",
      "–               → 151\n",
      "C               → 145\n",
      "Fig             → 117\n",
      "A               → 115\n",
      "We              → 107\n",
      "CI              → 103\n",
      "In              → 100\n",
      "RNA             → 81\n"
     ]
    }
   ],
   "source": [
    "# Assuming you have a `word_counter` (e.g., from collections.Counter)\n",
    "from collections import Counter\n",
    "\n",
    "# Build a frequency dict of just the OOV words\n",
    "oov_freq = {word: word_counter[word] for word in oov_words if word in word_counter}\n",
    "\n",
    "# Sort by frequency\n",
    "top_oov = sorted(oov_freq.items(), key=lambda x: -x[1])[:20]\n",
    "\n",
    "# Print top frequent OOVs\n",
    "print(\" Top Frequent OOV Words:\")\n",
    "for word, freq in top_oov:\n",
    "    print(f\"{word:15s} → {freq}\")\n"
   ]
  },
  {
   "cell_type": "code",
   "execution_count": 410,
   "id": "281f088e",
   "metadata": {},
   "outputs": [
    {
     "data": {
      "text/plain": [
       "{'Glucose': False,\n",
       " 'glucose': True,\n",
       " 'Insulin': False,\n",
       " 'insulin': True,\n",
       " 'COVID': False,\n",
       " 'covid': False}"
      ]
     },
     "execution_count": 410,
     "metadata": {},
     "output_type": "execute_result"
    }
   ],
   "source": [
    "# Let's inspect a few known biomedical words in the pretrained embedding model\n",
    "# We will look for both cased and lowercased versions\n",
    "\n",
    "words_to_check = [\"Glucose\", \"glucose\", \"Insulin\", \"insulin\", \"COVID\", \"covid\"]\n",
    "availability = {word: word in w2v_model for word in words_to_check}\n",
    "availability"
   ]
  },
  {
   "cell_type": "code",
   "execution_count": 411,
   "id": "7b02daca",
   "metadata": {},
   "outputs": [
    {
     "data": {
      "image/png": "[encoded data removed]",
      "text/plain": [
       "<Figure size 640x480 with 1 Axes>"
      ]
     },
     "metadata": {},
     "output_type": "display_data"
    }
   ],
   "source": [
    "import random\n",
    "import matplotlib.pyplot as plt\n",
    "\n",
    "# Sample random word pairs\n",
    "words = random.sample(list(word_vocab.keys()), 1000)\n",
    "similarities = []\n",
    "for i in range(len(words)-1):\n",
    "    w1, w2 = words[i], words[i+1]\n",
    "    if w1 in w2v_model and w2 in w2v_model:\n",
    "        sim = w2v_model.similarity(w1, w2)\n",
    "        similarities.append(sim)\n",
    "\n",
    "# Plot\n",
    "plt.hist(similarities, bins=30)\n",
    "plt.title(\"Cosine Similarity Distribution (Extrinsic Embeddings)\")\n",
    "plt.xlabel(\"Cosine Similarity\")\n",
    "plt.ylabel(\"Frequency\")\n",
    "plt.grid(True)\n",
    "plt.show()"
   ]
  },
  {
   "cell_type": "code",
   "execution_count": 412,
   "id": "ead072ec",
   "metadata": {},
   "outputs": [
    {
     "data": {
      "text/plain": [
       "[('qglucose', 0.8199415802955627),\n",
       " ('rglucose', 0.8195745944976807),\n",
       " ('glucose-time', 0.8183287978172302),\n",
       " ('iv-glucose', 0.8175548315048218),\n",
       " ('cglucose', 0.8104894757270813)]"
      ]
     },
     "execution_count": 412,
     "metadata": {},
     "output_type": "execute_result"
    }
   ],
   "source": [
    "w2v_model.most_similar('glucose', topn=5)"
   ]
  },
  {
   "cell_type": "code",
   "execution_count": 413,
   "id": "f0725aab",
   "metadata": {},
   "outputs": [
    {
     "data": {
      "image/png": "[encoded data removed]",
      "text/plain": [
       "<Figure size 800x600 with 1 Axes>"
      ]
     },
     "metadata": {},
     "output_type": "display_data"
    }
   ],
   "source": [
    "from sklearn.decomposition import PCA\n",
    "import matplotlib.pyplot as plt\n",
    "\n",
    "# Get top 5 most similar words\n",
    "word = 'glucose'\n",
    "topn = 5\n",
    "similar_words = w2v_model.most_similar(word, topn=topn)\n",
    "\n",
    "# Collect word vectors\n",
    "words = [word] + [w for w, _ in similar_words]  # include 'glucose' itself\n",
    "vectors = [w2v_model[w] for w in words]\n",
    "\n",
    "# Reduce dimensions to 2D\n",
    "pca = PCA(n_components=2)\n",
    "reduced_vectors = pca.fit_transform(vectors)\n",
    "\n",
    "# Plot\n",
    "plt.figure(figsize=(8, 6))\n",
    "for i, label in enumerate(words):\n",
    "    x, y = reduced_vectors[i]\n",
    "    plt.scatter(x, y)\n",
    "    plt.text(x + 0.01, y + 0.01, label, fontsize=12)\n",
    "\n",
    "plt.title(f\"2D PCA Projection of '{word}' and Top {topn} Similar Words\")\n",
    "plt.grid(True)\n",
    "plt.show()\n"
   ]
  },
  {
   "cell_type": "code",
   "execution_count": 414,
   "id": "40be31d7",
   "metadata": {},
   "outputs": [],
   "source": [
    "import torch.nn as nn\n",
    "class PretrainedWordEmbedding(nn.Module):\n",
    "    def __init__(self, embedding_matrix):\n",
    "        super().__init__()\n",
    "        self.word_embedding = nn.Embedding.from_pretrained(torch.FloatTensor(embedding_matrix), freeze=False)\n",
    "        self.output_dim = embedding_matrix.shape[1]\n",
    "\n",
    "    def forward(self, word_ids, char_ids=None):\n",
    "        return self.word_embedding(word_ids)\n"
   ]
  },
  {
   "cell_type": "markdown",
   "id": "527642b5",
   "metadata": {},
   "source": [
    "## combined words and char embeddings with ngram"
   ]
  },
  {
   "cell_type": "code",
   "execution_count": 415,
   "id": "b2179a71",
   "metadata": {},
   "outputs": [],
   "source": [
    "import torch\n",
    "import torch.nn as nn\n",
    "\n",
    "word_embedding = nn.Embedding(VOCAB_SIZE, DIM)"
   ]
  },
  {
   "cell_type": "code",
   "execution_count": 416,
   "id": "63a0d986",
   "metadata": {},
   "outputs": [],
   "source": [
    "chars = set([c for token in all_tokens for c in token])\n",
    "char_to_id = {char: idx + 2 for idx, char in enumerate(chars)}\n",
    "char_to_id['<PAD>'] = 0\n",
    "char_to_id['<UNK>'] = 1"
   ]
  },
  {
   "cell_type": "code",
   "execution_count": 417,
   "id": "b9035d31",
   "metadata": {},
   "outputs": [
    {
     "data": {
      "image/png": "[encoded data removed]",
      "text/plain": [
       "<Figure size 800x600 with 1 Axes>"
      ]
     },
     "metadata": {},
     "output_type": "display_data"
    }
   ],
   "source": [
    "word_lengths = [len(w) for w in all_tokens]\n",
    "\n",
    "plt.figure(figsize=(8, 6))\n",
    "sns.boxplot(x=word_lengths)\n",
    "plt.axvline(x=np.percentile(word_lengths, 99), color='red', linestyle='--', label='99th Percentile')\n",
    "plt.title(\"Distribution of word Lengths (Number of chars)\")\n",
    "plt.xlabel(\"word Length (Number of chars)\")\n",
    "plt.show()"
   ]
  },
  {
   "cell_type": "code",
   "execution_count": 418,
   "id": "db60ac44",
   "metadata": {},
   "outputs": [],
   "source": [
    "MAX_LENGTH_WORD = 15"
   ]
  },
  {
   "cell_type": "code",
   "execution_count": 419,
   "id": "b9a1d843",
   "metadata": {},
   "outputs": [],
   "source": [
    "def word_to_char_ids(word, char_to_id):\n",
    "    char_ids = [char_to_id.get(c, char_to_id['<UNK>']) for c in word]\n",
    "    char_ids = char_ids[:MAX_LENGTH_WORD]\n",
    "    char_ids += [char_to_id['<PAD>']] * (MAX_LENGTH_WORD - len(char_ids))\n",
    "    return char_ids"
   ]
  },
  {
   "cell_type": "code",
   "execution_count": 420,
   "id": "8114f0d3",
   "metadata": {},
   "outputs": [],
   "source": [
    "def convert_tokens_to_char_ids(dataset, id_to_token_fn, char_to_id, token_to_id): # Added token_to_id as argument\n",
    "    \"\"\"Convert token IDs in a dataset to lists of character IDs per token.\"\"\"\n",
    "    updated_dataset = []\n",
    "\n",
    "    # Create the id_to_token dictionary using token_to_id\n",
    "    id_to_token = {v: k for k, v in token_to_id.items()} # Create the id_to_token dictionary\n",
    "\n",
    "    for row in dataset:\n",
    "        token_ids = row['tokens']\n",
    "        char_id_seqs = []\n",
    "\n",
    "        for token_id in token_ids:\n",
    "            token = id_to_token.get(token_id, '<UNK>')\n",
    "            char_ids = word_to_char_ids(token, char_to_id)\n",
    "            char_id_seqs.append(char_ids)\n",
    "\n",
    "        updated_dataset.append({\n",
    "            'tokens': char_id_seqs,\n",
    "            'ner_tags': row['ner_tags']\n",
    "        })\n",
    "\n",
    "    return updated_dataset\n",
    "\n",
    "train_char_dataset = convert_tokens_to_char_ids(padded_train_data, id_to_token_fn, char_to_id, word_vocab)\n",
    "test_char_dataset = convert_tokens_to_char_ids(padded_test_data, id_to_token_fn, char_to_id, word_vocab)\n",
    "validate_char_dataset = convert_tokens_to_char_ids(padded_validate_data, id_to_token_fn, char_to_id, word_vocab)"
   ]
  },
  {
   "cell_type": "code",
   "execution_count": 421,
   "id": "6006ebfa",
   "metadata": {},
   "outputs": [],
   "source": [
    "class WordAndCharEmbedding(nn.Module):\n",
    "    def __init__(self, word_vocab_size, word_embedding_dim, char_vocab_size, char_embedding_dim, hidden_dim):\n",
    "        super().__init__()\n",
    "\n",
    "        # word-level embedding\n",
    "        self.word_embedding = nn.Embedding(word_vocab_size, word_embedding_dim, padding_idx=0)\n",
    "\n",
    "        # char-level embedding\n",
    "        self.char_embedding = nn.Embedding(char_vocab_size, char_embedding_dim, padding_idx=0)\n",
    "        self.char_lstm = nn.LSTM(char_embedding_dim, hidden_dim // 2, bidirectional=True, batch_first=True, num_layers=1)\n",
    "\n",
    "        self.dropout = nn.Dropout(0.5)\n",
    "        self.output_dim = word_embedding_dim + hidden_dim\n",
    "\n",
    "    def forward(self, word_ids, char_ids):\n",
    "        batch_size, seq_len, max_word_len = char_ids.size()\n",
    "\n",
    "        word_emb = self.word_embedding(word_ids)                          # [B, L, D_word]\n",
    "        char_ids = char_ids.view(-1, max_word_len)                        # [B*L, max_len]\n",
    "        char_emb = self.char_embedding(char_ids)                          # [B*L, max_len, D_char]\n",
    "\n",
    "        _, (hidden, _) = self.char_lstm(char_emb)                         # hidden: [2, B*L, H/2]\n",
    "        char_repr = torch.cat([hidden[0], hidden[1]], dim=-1)             # [B*L, H]\n",
    "        char_repr = char_repr.view(batch_size, seq_len, -1)               # [B, L, H]\n",
    "\n",
    "        combined = torch.cat([word_emb, char_repr], dim=-1)               # [B, L, D_word + H]\n",
    "        return self.dropout(combined)\n"
   ]
  },
  {
   "cell_type": "code",
   "execution_count": 422,
   "id": "9bdf81fc",
   "metadata": {},
   "outputs": [],
   "source": [
    "word_char_embedding = WordAndCharEmbedding(\n",
    "    word_vocab_size=VOCAB_SIZE,\n",
    "    word_embedding_dim=DIM,  # Word embedding dimension\n",
    "    char_vocab_size=len(char_to_id),\n",
    "    char_embedding_dim=50,  # Character embedding dimension\n",
    "    hidden_dim=100           # Hidden dimension for char-level LSTM\n",
    ")\n",
    "\n",
    "embedding_dim = DIM + 100\n"
   ]
  },
  {
   "cell_type": "code",
   "execution_count": 423,
   "id": "f5b433d6",
   "metadata": {},
   "outputs": [
    {
     "name": "stdout",
     "output_type": "stream",
     "text": [
      "torch.Size([32, 50, 200])\n"
     ]
    }
   ],
   "source": [
    "word_ids = torch.randint(0, len(word_vocab), (32, 50))\n",
    "char_ids = torch.randint(0, len(char_to_id), (32, 50, 12))\n",
    "\n",
    "combined = word_char_embedding(word_ids, char_ids)\n",
    "print(combined.shape)"
   ]
  },
  {
   "cell_type": "markdown",
   "id": "500be474",
   "metadata": {},
   "source": [
    "## define model (crf + biLSTM)"
   ]
  },
  {
   "cell_type": "code",
   "execution_count": 424,
   "id": "9a6c7096",
   "metadata": {},
   "outputs": [],
   "source": [
    "import torch\n",
    "import torch.nn as nn\n",
    "from torchcrf import CRF\n",
    "\n",
    "class BiLSTM_CRF(nn.Module):\n",
    "    def __init__(self, embedding_layer, hidden_dim, num_labels):\n",
    "        super().__init__()\n",
    "        self.embedding = embedding_layer\n",
    "        self.lstm = nn.LSTM(self.embedding.output_dim, hidden_dim // 2, batch_first=True, bidirectional=True)\n",
    "        self.hidden2tag = nn.Linear(hidden_dim, num_labels)\n",
    "        self.crf = CRF(num_labels, batch_first=True)\n",
    "\n",
    "    def forward(self, word_ids, char_ids=None, labels=None, mask=None):\n",
    "        if char_ids is not None:\n",
    "            embeddings = self.embedding(word_ids, char_ids)\n",
    "        else:\n",
    "            embeddings = self.embedding(word_ids)\n",
    "        lstm_out, _ = self.lstm(embeddings)\n",
    "        emissions = self.hidden2tag(lstm_out)\n",
    "\n",
    "        if labels is not None:\n",
    "            return -self.crf(emissions, labels, mask=mask, reduction='mean')\n",
    "        else:\n",
    "            return self.crf.decode(emissions, mask=mask)\n"
   ]
  },
  {
   "cell_type": "code",
   "execution_count": 425,
   "id": "c87a3ca2",
   "metadata": {},
   "outputs": [],
   "source": [
    "class NERDataset(Dataset):\n",
    "    def __init__(self, word_data, char_data=None):\n",
    "        self.word_data = word_data\n",
    "        self.char_data = char_data\n",
    "\n",
    "    def __len__(self):\n",
    "        return len(self.word_data)\n",
    "\n",
    "    def __getitem__(self, idx):\n",
    "        word_item = self.word_data[idx]\n",
    "        tokens = torch.tensor(word_item['tokens'], dtype=torch.long)\n",
    "        ner_tags = torch.tensor(word_item['ner_tags'], dtype=torch.long)\n",
    "        mask = torch.tensor(word_item['mask'], dtype=torch.bool)\n",
    "\n",
    "        if self.char_data is not None:\n",
    "            char_item = self.char_data[idx]\n",
    "            char_ids = torch.tensor(char_item['tokens'], dtype=torch.long)\n",
    "            return tokens, char_ids, ner_tags, mask\n",
    "        else:\n",
    "            return tokens, ner_tags, mask"
   ]
  },
  {
   "cell_type": "code",
   "execution_count": 426,
   "id": "34582f1c",
   "metadata": {},
   "outputs": [],
   "source": [
    "train_dataset = NERDataset(padded_train_data, train_char_dataset)\n",
    "test_dataset = NERDataset(padded_test_data, test_char_dataset)\n",
    "validate_dataset = NERDataset(padded_validate_data, validate_char_dataset)"
   ]
  },
  {
   "cell_type": "code",
   "execution_count": 427,
   "id": "7210f068",
   "metadata": {},
   "outputs": [],
   "source": [
    "def collate_fn(batch):\n",
    "    if len(batch[0]) == 4:\n",
    "        tokens, char_ids, ner_tags, masks = zip(*batch)\n",
    "        return (\n",
    "            torch.stack(tokens),\n",
    "            torch.stack(char_ids),\n",
    "            torch.stack(ner_tags),\n",
    "            torch.stack(masks)\n",
    "        )\n",
    "    else:\n",
    "        tokens, ner_tags, masks = zip(*batch)\n",
    "        return (\n",
    "            torch.stack(tokens),\n",
    "            torch.stack(ner_tags),\n",
    "            torch.stack(masks)\n",
    "        )\n"
   ]
  },
  {
   "cell_type": "markdown",
   "id": "f7fd58d4",
   "metadata": {},
   "source": [
    "## training and evaluation"
   ]
  },
  {
   "cell_type": "code",
   "execution_count": 428,
   "id": "81e82bcc",
   "metadata": {},
   "outputs": [],
   "source": [
    "# Hyperparameters\n",
    "NUM_EPOCHS = 10\n",
    "BATCH_SIZE = 32"
   ]
  },
  {
   "cell_type": "code",
   "execution_count": 429,
   "id": "c6f8b093",
   "metadata": {},
   "outputs": [],
   "source": [
    "from sklearn.metrics import f1_score, accuracy_score\n",
    "\n",
    "def evaluate_model(model, dataloader, id_to_tag=None):\n",
    "    model.eval()\n",
    "    all_preds = []\n",
    "    all_labels = []\n",
    "\n",
    "    with torch.no_grad():\n",
    "        for batch in dataloader:\n",
    "            if len(batch) == 4:\n",
    "                tokens, char_ids, tags, mask = batch\n",
    "                predictions = model(tokens, char_ids=char_ids, mask=mask)\n",
    "            else:\n",
    "                tokens, tags, mask = batch\n",
    "                predictions = model(tokens, mask=mask)\n",
    "\n",
    "            for pred_seq, true_seq, m in zip(predictions, tags, mask):\n",
    "                seq_len = m.sum().item()\n",
    "                pred = pred_seq[:seq_len]\n",
    "                true = true_seq[:seq_len].tolist()\n",
    "\n",
    "                all_preds.extend(pred)\n",
    "                all_labels.extend(true)\n",
    "\n",
    "    model.train()\n",
    "\n",
    "    f1 =  f1_score(all_labels, all_preds, average=\"macro\")\n",
    "\n",
    "    return f1\n"
   ]
  },
  {
   "cell_type": "code",
   "execution_count": 430,
   "id": "3f7dd5a5",
   "metadata": {},
   "outputs": [],
   "source": [
    "import torch\n",
    "\n",
    "def train_model(\n",
    "    model,\n",
    "    train_loader,\n",
    "    optimizer,\n",
    "    num_epochs=5,\n",
    "    val_loader=None,\n",
    "    id_to_tag=None,\n",
    "    save_path=\"best_model.pt\"\n",
    "):\n",
    "    best_f1 = -1.0\n",
    "    train_loss = []\n",
    "    f1_scores = []\n",
    "    for epoch in range(num_epochs):\n",
    "        \n",
    "        model.train()\n",
    "        total_loss = 0\n",
    "\n",
    "        for i, batch in enumerate(train_loader):\n",
    "            optimizer.zero_grad()\n",
    "\n",
    "            if len(batch) == 4:\n",
    "                tokens, char_ids, tags, mask = batch\n",
    "                loss = model(tokens, char_ids=char_ids, labels=tags, mask=mask)\n",
    "            else:\n",
    "                tokens, tags, mask = batch\n",
    "                loss = model(tokens, labels=tags, mask=mask)\n",
    "\n",
    "            loss.backward()\n",
    "            optimizer.step()\n",
    "            train_loss.append(loss.item())\n",
    "            total_loss += loss.item()\n",
    "\n",
    "        print(f\"Epoch {epoch + 1}, Training Loss: {total_loss:.4f}\")\n",
    "\n",
    "        if val_loader is not None and id_to_tag is not None:\n",
    "            f1_score = evaluate_model(model, val_loader, id_to_tag)\n",
    "            f1_scores.append(f1_score)\n",
    "            print(f\"f1 score  - {f1_score}\")\n",
    "\n",
    "            # Save best model by F1\n",
    "            if f1_score > best_f1:\n",
    "                best_f1 = f1_score\n",
    "                torch.save(model.state_dict(), save_path)\n",
    "                print(f\"Best model updated and saved to: {save_path}\")\n",
    "    return train_loss, f1_scores\n"
   ]
  },
  {
   "cell_type": "code",
   "execution_count": 431,
   "id": "77b404aa",
   "metadata": {},
   "outputs": [],
   "source": [
    "from torch.utils.data import DataLoader\n",
    "train_loader = DataLoader(train_dataset, batch_size=BATCH_SIZE, shuffle=True, collate_fn=collate_fn)\n",
    "test_loader = DataLoader(test_dataset, batch_size=BATCH_SIZE, shuffle=False, collate_fn=collate_fn)\n",
    "validate_loader = DataLoader(validate_dataset, batch_size=BATCH_SIZE, shuffle=False, collate_fn=collate_fn)"
   ]
  },
  {
   "cell_type": "code",
   "execution_count": 432,
   "id": "03c1d89e",
   "metadata": {},
   "outputs": [],
   "source": [
    "NUM_EPOCHS = 10"
   ]
  },
  {
   "cell_type": "code",
   "execution_count": 433,
   "id": "c3e0db48",
   "metadata": {},
   "outputs": [
    {
     "name": "stdout",
     "output_type": "stream",
     "text": [
      "Epoch 1, Training Loss: 1511.4813\n",
      "f1 score  - 0.6478433215031135\n",
      "Best model updated and saved to: w2v_model.pt\n",
      "Epoch 2, Training Loss: 767.3335\n",
      "f1 score  - 0.7286098607530859\n",
      "Best model updated and saved to: w2v_model.pt\n",
      "Epoch 3, Training Loss: 560.9699\n",
      "f1 score  - 0.7330582621940266\n",
      "Best model updated and saved to: w2v_model.pt\n",
      "Epoch 4, Training Loss: 427.1911\n",
      "f1 score  - 0.7608214696286343\n",
      "Best model updated and saved to: w2v_model.pt\n",
      "Epoch 5, Training Loss: 326.9213\n",
      "f1 score  - 0.7573867965479752\n",
      "Epoch 6, Training Loss: 246.1382\n",
      "f1 score  - 0.7576781393458996\n",
      "Epoch 7, Training Loss: 174.1904\n",
      "f1 score  - 0.7501874257908294\n",
      "Epoch 8, Training Loss: 125.3383\n",
      "f1 score  - 0.7337810422352326\n",
      "Epoch 9, Training Loss: 89.6450\n",
      "f1 score  - 0.7115414928928943\n",
      "Epoch 10, Training Loss: 61.7840\n",
      "f1 score  - 0.7251252064570106\n"
     ]
    },
    {
     "data": {
      "text/plain": [
       "<All keys matched successfully>"
      ]
     },
     "execution_count": 433,
     "metadata": {},
     "output_type": "execute_result"
    }
   ],
   "source": [
    "from torch.optim import Adam\n",
    "\n",
    "w2v_embedding = PretrainedWordEmbedding(embedding_matrix)\n",
    "\n",
    "\n",
    "model_w2v = BiLSTM_CRF(\n",
    "    embedding_layer=w2v_embedding,\n",
    "    hidden_dim=256,\n",
    "    num_labels=len(tag_to_id)\n",
    ")\n",
    "with torch.no_grad():\n",
    "    model_w2v.crf.start_transitions[tag_to_id['B-AC']] -= 2.0\n",
    "    model_w2v.crf.transitions[tag_to_id['O'], tag_to_id['I-LF']] -= 2.0\n",
    "    model_w2v.crf.transitions[tag_to_id['I-LF'], tag_to_id['B-AC']] -= 2.0\n",
    "\n",
    "\n",
    "optimizer_w2v = Adam(model_w2v.parameters(), lr=0.001)\n",
    "\n",
    "\n",
    "w2v_loss, w2v_f1 = train_model(model_w2v, train_loader, optimizer_w2v, num_epochs=NUM_EPOCHS, val_loader=validate_loader, id_to_tag=tag_to_id, save_path=\"w2v_model.pt\")\n",
    "# Load the best model\n",
    "model_w2v.load_state_dict(torch.load(\"w2v_model.pt\"))\n"
   ]
  },
  {
   "cell_type": "code",
   "execution_count": 434,
   "id": "d8d79823",
   "metadata": {},
   "outputs": [
    {
     "name": "stdout",
     "output_type": "stream",
     "text": [
      "Epoch 1, Training Loss: 1723.1754\n",
      "f1 score  - 0.5288646846239614\n",
      "Best model updated and saved to: combined_model.pt\n",
      "Epoch 2, Training Loss: 835.2357\n",
      "f1 score  - 0.7197700874383142\n",
      "Best model updated and saved to: combined_model.pt\n",
      "Epoch 3, Training Loss: 622.7380\n",
      "f1 score  - 0.7321400655401938\n",
      "Best model updated and saved to: combined_model.pt\n",
      "Epoch 4, Training Loss: 545.1897\n",
      "f1 score  - 0.7539335464469811\n",
      "Best model updated and saved to: combined_model.pt\n",
      "Epoch 5, Training Loss: 502.3943\n",
      "f1 score  - 0.7524084162268061\n",
      "Epoch 6, Training Loss: 458.5955\n",
      "f1 score  - 0.7630212544713364\n",
      "Best model updated and saved to: combined_model.pt\n",
      "Epoch 7, Training Loss: 427.7698\n",
      "f1 score  - 0.7650615211179215\n",
      "Best model updated and saved to: combined_model.pt\n",
      "Epoch 8, Training Loss: 394.0697\n",
      "f1 score  - 0.7664070116810895\n",
      "Best model updated and saved to: combined_model.pt\n",
      "Epoch 9, Training Loss: 371.2646\n",
      "f1 score  - 0.7678675774563569\n",
      "Best model updated and saved to: combined_model.pt\n",
      "Epoch 10, Training Loss: 350.6583\n",
      "f1 score  - 0.7646130960861661\n"
     ]
    },
    {
     "data": {
      "text/plain": [
       "<All keys matched successfully>"
      ]
     },
     "execution_count": 434,
     "metadata": {},
     "output_type": "execute_result"
    }
   ],
   "source": [
    "combined_embedding = WordAndCharEmbedding(\n",
    "    word_vocab_size=VOCAB_SIZE,           # size of your word_vocab\n",
    "    word_embedding_dim=DIM,               # e.g. 100\n",
    "    char_vocab_size=len(char_to_id),      # size of your char vocab\n",
    "    char_embedding_dim=50,                # dimension of character embeddings\n",
    "    hidden_dim=100                        # hidden size for char-level BiLSTM\n",
    ")\n",
    "\n",
    "model_combined = BiLSTM_CRF(\n",
    "    embedding_layer=combined_embedding,\n",
    "    hidden_dim=256,                       # hidden size for main BiLSTM\n",
    "    num_labels=len(tag_to_id)            # number of NER classes\n",
    ")\n",
    "with torch.no_grad():\n",
    "    model_combined.crf.start_transitions[tag_to_id['B-AC']] -= 2.0\n",
    "    model_combined.crf.transitions[tag_to_id['O'], tag_to_id['I-LF']] -= 2.0\n",
    "    model_combined.crf.transitions[tag_to_id['I-LF'], tag_to_id['B-AC']] -= 2.0\n",
    "\n",
    "\n",
    "train_loader = DataLoader(\n",
    "    train_dataset,\n",
    "    batch_size=32,\n",
    "    shuffle=True,\n",
    "    collate_fn=collate_fn                 # the flexible collate_fn we discussed\n",
    ")\n",
    "\n",
    "optimizer_combined = Adam(model_combined.parameters(), lr=0.001)\n",
    "\n",
    "\n",
    "combined_loss, combined_f1 = train_model(model_combined, train_loader, optimizer_combined, num_epochs=NUM_EPOCHS, val_loader=validate_loader, id_to_tag=tag_to_id, save_path=\"combined_model.pt\")\n",
    "# Load the best model\n",
    "model_combined.load_state_dict(torch.load(\"combined_model.pt\"))\n"
   ]
  },
  {
   "cell_type": "code",
   "execution_count": 435,
   "id": "d56ecb16",
   "metadata": {},
   "outputs": [],
   "source": [
    "id2tag = {v: k for k, v in tag_to_id.items()}"
   ]
  },
  {
   "cell_type": "code",
   "execution_count": 436,
   "id": "06e11df0",
   "metadata": {},
   "outputs": [],
   "source": [
    "from seqeval.metrics import classification_report\n",
    "\n",
    "def evaluate_seqeval(model, dataloader, tag_to_id):\n",
    "    id2tag = {v: k for k, v in tag_to_id.items()}\n",
    "    model.eval()\n",
    "    all_preds = []\n",
    "    all_labels = []\n",
    "\n",
    "    with torch.no_grad():\n",
    "        for batch in dataloader:\n",
    "            if len(batch) == 4:\n",
    "                tokens, char_ids, tags, mask = batch\n",
    "                preds = model(tokens, char_ids=char_ids, mask=mask)\n",
    "            else:\n",
    "                tokens, tags, mask = batch\n",
    "                preds = model(tokens, mask=mask)\n",
    "\n",
    "            for pred_seq, true_seq, m in zip(preds, tags, mask):\n",
    "                seq_len = m.sum().item()\n",
    "                pred_tags = [id2tag[p] for p in pred_seq[:seq_len]]\n",
    "                true_tags = [id2tag[t.item()] for t in true_seq[:seq_len]]\n",
    "\n",
    "                all_preds.append(pred_tags)\n",
    "                all_labels.append(true_tags)\n",
    "\n",
    "    model.train()\n",
    "    print(classification_report(all_labels, all_preds))\n"
   ]
  },
  {
   "cell_type": "code",
   "execution_count": 437,
   "id": "2b3639f3",
   "metadata": {},
   "outputs": [
    {
     "name": "stdout",
     "output_type": "stream",
     "text": [
      "Evaluation for Word2Vec embedding:\n",
      "              precision    recall  f1-score   support\n",
      "\n",
      "          AC       0.82      0.68      0.74       793\n",
      "          LF       0.68      0.70      0.69       481\n",
      "\n",
      "   micro avg       0.76      0.69      0.72      1274\n",
      "   macro avg       0.75      0.69      0.72      1274\n",
      "weighted avg       0.77      0.69      0.72      1274\n",
      "\n",
      "Evaluation for Word+Char embedding:\n",
      "              precision    recall  f1-score   support\n",
      "\n",
      "          AC       0.73      0.80      0.77       793\n",
      "          LF       0.68      0.68      0.68       481\n",
      "\n",
      "   micro avg       0.71      0.76      0.73      1274\n",
      "   macro avg       0.71      0.74      0.72      1274\n",
      "weighted avg       0.71      0.76      0.73      1274\n",
      "\n"
     ]
    }
   ],
   "source": [
    "\n",
    "print(\"Evaluation for Word2Vec embedding:\")\n",
    "evaluate_seqeval(model_w2v, test_loader, tag_to_id)\n",
    "\n",
    "\n",
    "print(\"Evaluation for Word+Char embedding:\")\n",
    "evaluate_seqeval(model_combined, test_loader, tag_to_id)\n"
   ]
  },
  {
   "cell_type": "code",
   "execution_count": 438,
   "id": "6edef4a5",
   "metadata": {},
   "outputs": [
    {
     "data": {
      "image/png": "[encoded data removed]",
      "text/plain": [
       "<Figure size 640x480 with 1 Axes>"
      ]
     },
     "metadata": {},
     "output_type": "display_data"
    }
   ],
   "source": [
    "# digram to compare two models training loss\n",
    "import matplotlib.pyplot as plt\n",
    "import numpy as np\n",
    "import seaborn as sns\n",
    "\n",
    "plt.plot(w2v_loss, label='Word2Vec Loss', color='blue')\n",
    "plt.plot(combined_loss, label='Word+Char Loss', color='orange')\n",
    "plt.title('Training Loss Comparison')\n",
    "plt.xlabel('Epochs')\n",
    "plt.ylabel('Loss')\n",
    "plt.legend()\n",
    "plt.grid()\n",
    "plt.show()"
   ]
  },
  {
   "cell_type": "code",
   "execution_count": 439,
   "id": "016589de",
   "metadata": {},
   "outputs": [
    {
     "data": {
      "image/png": "[encoded data removed]",
      "text/plain": [
       "<Figure size 640x480 with 1 Axes>"
      ]
     },
     "metadata": {},
     "output_type": "display_data"
    }
   ],
   "source": [
    "# digram to compare two models f1 score\n",
    "plt.plot(w2v_f1, label='Word2Vec F1 Score', color='blue')\n",
    "plt.plot(combined_f1, label='Word+Char F1 Score', color='orange')\n",
    "plt.title('F1 Score Comparison')\n",
    "plt.xlabel('Epochs')\n",
    "plt.ylabel('F1 Score')\n",
    "plt.legend()\n",
    "plt.grid()\n",
    "plt.show()"
   ]
  },
  {
   "cell_type": "markdown",
   "id": "686ba79a",
   "metadata": {},
   "source": [
    "## error analysis"
   ]
  },
  {
   "cell_type": "code",
   "execution_count": 440,
   "id": "97626794",
   "metadata": {},
   "outputs": [],
   "source": [
    "from sklearn.metrics import confusion_matrix\n",
    "import seaborn as sns\n",
    "def get_ner_confusion_data(predictions, tag_list):\n",
    "    all_preds, all_trues = [], []\n",
    "    for _, preds, trues in predictions:\n",
    "        for p, t in zip(preds, trues):\n",
    "            all_preds.append(p)\n",
    "            all_trues.append(t)\n",
    "\n",
    "    cm = confusion_matrix(all_trues, all_preds, labels=tag_list, normalize='true')\n",
    "    return cm\n"
   ]
  },
  {
   "cell_type": "code",
   "execution_count": 441,
   "id": "2b0d59d7",
   "metadata": {},
   "outputs": [],
   "source": [
    "from sklearn.metrics import ConfusionMatrixDisplay\n",
    "def compare_ner_confusion_matrices(predictions_1, predictions_2, tag_list, labels=(\"Model 1\", \"Model 2\")):\n",
    "    cm1 = get_ner_confusion_data(predictions_1, tag_list)\n",
    "    cm2 = get_ner_confusion_data(predictions_2, tag_list)\n",
    "\n",
    "    fig, axes = plt.subplots(1, 2, figsize=(14, 6), sharey=True)\n",
    "\n",
    "    for ax, cm, label in zip(axes, [cm1, cm2], labels):\n",
    "        disp = ConfusionMatrixDisplay(confusion_matrix=cm, display_labels=tag_list)\n",
    "        disp.plot(cmap=\"Blues\", xticks_rotation=45, ax=ax, colorbar=False)\n",
    "        ax.set_title(f\"Confusion Matrix: {label}\")\n",
    "        ax.grid(False)\n",
    "\n",
    "    plt.tight_layout()\n",
    "    plt.show()\n"
   ]
  },
  {
   "cell_type": "code",
   "execution_count": 442,
   "id": "0dcf9751",
   "metadata": {},
   "outputs": [],
   "source": [
    "def collect_predictions(model, dataloader, id_to_tag, id_to_word=None, device='cpu'):\n",
    "    model.eval()\n",
    "    all_examples = []\n",
    "\n",
    "    with torch.no_grad():\n",
    "        for batch in dataloader:\n",
    "            if len(batch) == 4:\n",
    "                tokens, char_ids, tags, mask = batch\n",
    "                tokens, char_ids, tags, mask = map(lambda x: x.to(device), (tokens, char_ids, tags, mask))\n",
    "                preds = model(tokens, char_ids=char_ids, mask=mask)\n",
    "            else:\n",
    "                tokens, tags, mask = batch\n",
    "                tokens, tags, mask = map(lambda x: x.to(device), (tokens, tags, mask))\n",
    "                preds = model(tokens, mask=mask)\n",
    "\n",
    "            for tok_ids, pred_seq, true_seq, m in zip(tokens, preds, tags, mask):\n",
    "                seq_len = int(m.sum().item())\n",
    "                pred_tags = [id_to_tag[p] for p in pred_seq[:seq_len]]\n",
    "                true_tags = [id_to_tag[t.item()] for t in true_seq[:seq_len]]\n",
    "\n",
    "                if id_to_word is not None:\n",
    "                    words = [id_to_word[t.item()] for t in tok_ids[:seq_len]]\n",
    "                else:\n",
    "                    words = None\n",
    "\n",
    "                all_examples.append((words, pred_tags, true_tags))\n",
    "\n",
    "    model.train()\n",
    "    return all_examples\n"
   ]
  },
  {
   "cell_type": "code",
   "execution_count": 443,
   "id": "f83b6b6f",
   "metadata": {},
   "outputs": [
    {
     "data": {
      "image/png": "[encoded data removed]",
      "text/plain": [
       "<Figure size 1400x600 with 2 Axes>"
      ]
     },
     "metadata": {},
     "output_type": "display_data"
    }
   ],
   "source": [
    "predictions_w2v = collect_predictions(model_w2v, test_loader, id2tag)\n",
    "predictions_combined = collect_predictions(model_combined, test_loader, id2tag)\n",
    "\n",
    "tag_list = sorted(set(tag for preds in [predictions_w2v, predictions_combined]\n",
    "                      for _, p, t in preds for tag in p + t))\n",
    "\n",
    "compare_ner_confusion_matrices(predictions_w2v, predictions_combined, tag_list, labels=(\"Word2Vec\", \"Word+Char\"))\n"
   ]
  },
  {
   "cell_type": "code",
   "execution_count": 444,
   "id": "fd601333",
   "metadata": {},
   "outputs": [],
   "source": [
    "from collections import Counter\n",
    "\n",
    "def get_top_confusions(predictions, top_k=10, exclude_correct=True):\n",
    "    confusion_counts = Counter()\n",
    "\n",
    "    for _, pred_tags, true_tags in predictions:\n",
    "        for pred, true in zip(pred_tags, true_tags):\n",
    "            if exclude_correct and pred == true:\n",
    "                continue\n",
    "            confusion_counts[(true, pred)] += 1\n",
    "\n",
    "    most_common = confusion_counts.most_common(top_k)\n",
    "    print(f\"\\nTop {top_k} Tag Confusions:\\n\")\n",
    "    for (true, pred), count in most_common:\n",
    "        print(f\"True: {true:<6} → Pred: {pred:<6} | Count: {count}\")\n"
   ]
  },
  {
   "cell_type": "code",
   "execution_count": 445,
   "id": "c7be9cfd",
   "metadata": {},
   "outputs": [
    {
     "name": "stdout",
     "output_type": "stream",
     "text": [
      "Word2Vec Confusions:\n",
      "\n",
      "Top 10 Tag Confusions:\n",
      "\n",
      "True: O      → Pred: I-LF   | Count: 263\n",
      "True: B-AC   → Pred: O      | Count: 243\n",
      "True: I-LF   → Pred: O      | Count: 204\n",
      "True: O      → Pred: B-AC   | Count: 108\n",
      "True: O      → Pred: B-LF   | Count: 102\n",
      "True: B-LF   → Pred: O      | Count: 94\n",
      "True: B-LF   → Pred: I-LF   | Count: 37\n",
      "True: I-LF   → Pred: B-LF   | Count: 18\n",
      "True: B-LF   → Pred: B-AC   | Count: 7\n",
      "True: I-LF   → Pred: B-AC   | Count: 7\n",
      "Word+Char Confusions:\n",
      "\n",
      "Top 10 Tag Confusions:\n",
      "\n",
      "True: I-LF   → Pred: O      | Count: 224\n",
      "True: O      → Pred: B-AC   | Count: 215\n",
      "True: O      → Pred: I-LF   | Count: 209\n",
      "True: B-AC   → Pred: O      | Count: 152\n",
      "True: B-LF   → Pred: O      | Count: 113\n",
      "True: O      → Pred: B-LF   | Count: 95\n",
      "True: I-LF   → Pred: B-LF   | Count: 46\n",
      "True: B-LF   → Pred: I-LF   | Count: 28\n",
      "True: B-LF   → Pred: B-AC   | Count: 8\n",
      "True: I-LF   → Pred: B-AC   | Count: 8\n"
     ]
    }
   ],
   "source": [
    "print(\"Word2Vec Confusions:\")\n",
    "get_top_confusions(predictions_w2v)\n",
    "\n",
    "print(\"Word+Char Confusions:\")\n",
    "get_top_confusions(predictions_combined)\n"
   ]
  },
  {
   "cell_type": "code",
   "execution_count": 446,
   "id": "11b46470",
   "metadata": {},
   "outputs": [],
   "source": [
    "id_to_token = {v: k for k, v in word_vocab.items()}"
   ]
  },
  {
   "cell_type": "code",
   "execution_count": 447,
   "id": "a5c8960e",
   "metadata": {},
   "outputs": [
    {
     "name": "stdout",
     "output_type": "stream",
     "text": [
      "\n",
      "Top 20 most frequently misclassified tokens (FN):\n",
      "\n",
      "<UNK>                | Missed: 233\n",
      "-                    | Missed: 42\n",
      "and                  | Missed: 13\n",
      "of                   | Missed: 9\n",
      ",                    | Missed: 8\n",
      "D                    | Missed: 5\n",
      "FPG                  | Missed: 4\n",
      "overweight           | Missed: 3\n",
      "or                   | Missed: 3\n",
      "obesity              | Missed: 3\n",
      "6                    | Missed: 3\n",
      "to                   | Missed: 3\n",
      "Scale                | Missed: 3\n",
      "Edition              | Missed: 3\n",
      "for                  | Missed: 3\n",
      "protein              | Missed: 3\n",
      "rich                 | Missed: 3\n",
      "ACC                  | Missed: 3\n",
      "S                    | Missed: 3\n",
      "Australian           | Missed: 3\n",
      "\n",
      "Top 20 most frequently misclassified tokens (FN):\n",
      "\n",
      "<UNK>                | Missed: 201\n",
      "-                    | Missed: 31\n",
      "and                  | Missed: 13\n",
      "of                   | Missed: 10\n",
      ",                    | Missed: 8\n",
      "Ginir                | Missed: 5\n",
      "/                    | Missed: 5\n",
      "D                    | Missed: 4\n",
      "to                   | Missed: 4\n",
      "for                  | Missed: 4\n",
      "Diabetes             | Missed: 4\n",
      "1                    | Missed: 3\n",
      "6                    | Missed: 3\n",
      "in                   | Missed: 3\n",
      "Cep112               | Missed: 3\n",
      "rich                 | Missed: 3\n",
      "trans                | Missed: 3\n",
      "S                    | Missed: 3\n",
      "Australian           | Missed: 3\n",
      "intracellular        | Missed: 2\n"
     ]
    }
   ],
   "source": [
    "from collections import Counter\n",
    "\n",
    "def get_most_missed_tokens(predictions, target_tags={\"B-AC\", \"I-AC\", \"B-LF\", \"I-LF\"}, top_k=20):\n",
    "    missed = Counter()\n",
    "    \n",
    "    for tokens, pred_tags, true_tags in predictions:\n",
    "        for word, pred, true in zip(tokens, pred_tags, true_tags):\n",
    "            if true in target_tags and pred != true:\n",
    "                missed[word] += 1\n",
    "    \n",
    "    print(f\"\\nTop {top_k} most frequently misclassified tokens (FN):\\n\")\n",
    "    for token, count in missed.most_common(top_k):\n",
    "        print(f\"{token:<20} | Missed: {count}\")\n",
    "\n",
    "\n",
    "predictions_w2v = collect_predictions(model_w2v, test_loader, id2tag, id_to_token)\n",
    "get_most_missed_tokens(predictions_w2v)\n",
    "\n",
    "predictions_combined = collect_predictions(model_combined, test_loader, id2tag, id_to_token)\n",
    "get_most_missed_tokens(predictions_combined)\n"
   ]
  }
 ],
 "metadata": {
  "kernelspec": {
   "display_name": "venv",
   "language": "python",
   "name": "python3"
  },
  "language_info": {
   "codemirror_mode": {
    "name": "ipython",
    "version": 3
   },
   "file_extension": ".py",
   "mimetype": "text/x-python",
   "name": "python",
   "nbconvert_exporter": "python",
   "pygments_lexer": "ipython3",
   "version": "3.12.2"
  }
 },
 "nbformat": 4,
 "nbformat_minor": 5
}
